{
  "nbformat": 4,
  "nbformat_minor": 0,
  "metadata": {
    "colab": {
      "name": "NLP_Regex_Ex1.ipynb",
      "provenance": [],
      "collapsed_sections": []
    },
    "kernelspec": {
      "name": "python3",
      "display_name": "Python 3"
    },
    "language_info": {
      "name": "python"
    }
  },
  "cells": [
    {
      "cell_type": "code",
      "metadata": {
        "id": "pqChrIq-OpZo"
      },
      "source": [
        "text=\"My phone number is 111-222-4444 call me soon! \""
      ],
      "execution_count": 1,
      "outputs": []
    },
    {
      "cell_type": "code",
      "metadata": {
        "colab": {
          "base_uri": "https://localhost:8080/",
          "height": 35
        },
        "id": "TnbcWEqgO6gK",
        "outputId": "80b50a3f-26e5-472d-fc1c-fbe3dd93bfc8"
      },
      "source": [
        "text"
      ],
      "execution_count": 2,
      "outputs": [
        {
          "output_type": "execute_result",
          "data": {
            "application/vnd.google.colaboratory.intrinsic+json": {
              "type": "string"
            },
            "text/plain": [
              "'My phone number is 111-222-4444 call me soon! '"
            ]
          },
          "metadata": {},
          "execution_count": 2
        }
      ]
    },
    {
      "cell_type": "code",
      "metadata": {
        "colab": {
          "base_uri": "https://localhost:8080/"
        },
        "id": "cjoJ9qJ7O7KG",
        "outputId": "6c67f33e-3e32-4bae-ada4-fff7042ad968"
      },
      "source": [
        "'phone' in text"
      ],
      "execution_count": 3,
      "outputs": [
        {
          "output_type": "execute_result",
          "data": {
            "text/plain": [
              "True"
            ]
          },
          "metadata": {},
          "execution_count": 3
        }
      ]
    },
    {
      "cell_type": "code",
      "metadata": {
        "colab": {
          "base_uri": "https://localhost:8080/"
        },
        "id": "4eNzBWMpO_ZJ",
        "outputId": "a465e4dd-7b94-4c8c-ea2b-e2c85142e739"
      },
      "source": [
        "import re\n",
        "pattern='phone'\n",
        "\n",
        "re.search(pattern,text)\n"
      ],
      "execution_count": 4,
      "outputs": [
        {
          "output_type": "execute_result",
          "data": {
            "text/plain": [
              "<re.Match object; span=(3, 8), match='phone'>"
            ]
          },
          "metadata": {},
          "execution_count": 4
        }
      ]
    },
    {
      "cell_type": "code",
      "metadata": {
        "colab": {
          "base_uri": "https://localhost:8080/"
        },
        "id": "r29mYyOgPSUg",
        "outputId": "55ad1cb4-e6a1-4ee7-9fd8-5008d6bff390"
      },
      "source": [
        "match=re.search(pattern,text)\n",
        "match.span()"
      ],
      "execution_count": 58,
      "outputs": [
        {
          "output_type": "execute_result",
          "data": {
            "text/plain": [
              "(19, 31)"
            ]
          },
          "metadata": {},
          "execution_count": 58
        }
      ]
    },
    {
      "cell_type": "code",
      "metadata": {
        "id": "iH5Id51iPZLh"
      },
      "source": [
        "#what if we have to find for mutiple times\n",
        "text=\"my phone is a brand new phone\"\n",
        "pattern='phone'\n",
        "#match=re.search(pattern,text) #it will only find the first time occurence"
      ],
      "execution_count": 8,
      "outputs": []
    },
    {
      "cell_type": "code",
      "metadata": {
        "colab": {
          "base_uri": "https://localhost:8080/"
        },
        "id": "gSZN2blBP_kO",
        "outputId": "c0da6b7d-259c-4d93-f247-c93be0a7c930"
      },
      "source": [
        "match=re.search(pattern,text)\n",
        "print(match)\n",
        "match.span()"
      ],
      "execution_count": 11,
      "outputs": [
        {
          "output_type": "stream",
          "name": "stdout",
          "text": [
            "<re.Match object; span=(3, 8), match='phone'>\n"
          ]
        },
        {
          "output_type": "execute_result",
          "data": {
            "text/plain": [
              "(3, 8)"
            ]
          },
          "metadata": {},
          "execution_count": 11
        }
      ]
    },
    {
      "cell_type": "code",
      "metadata": {
        "id": "n_NNaj4nQK_Q",
        "colab": {
          "base_uri": "https://localhost:8080/"
        },
        "outputId": "0763e7aa-d132-4b66-ba9c-b8a2f853e847"
      },
      "source": [
        "#to find the multiple occurence \n",
        "all_text=re.findall(pattern,text)\n",
        "print(all_text)"
      ],
      "execution_count": 13,
      "outputs": [
        {
          "output_type": "stream",
          "name": "stdout",
          "text": [
            "['phone', 'phone']\n"
          ]
        }
      ]
    },
    {
      "cell_type": "code",
      "metadata": {
        "colab": {
          "base_uri": "https://localhost:8080/"
        },
        "id": "e_b85jwFQaKJ",
        "outputId": "8d9beb4b-13e3-44eb-f1f2-c87eeb2354ed"
      },
      "source": [
        "len(all_text)"
      ],
      "execution_count": 14,
      "outputs": [
        {
          "output_type": "execute_result",
          "data": {
            "text/plain": [
              "2"
            ]
          },
          "metadata": {},
          "execution_count": 14
        }
      ]
    },
    {
      "cell_type": "code",
      "metadata": {
        "colab": {
          "base_uri": "https://localhost:8080/"
        },
        "id": "bO2elmBTQcgZ",
        "outputId": "6cd8eef2-f6f9-495a-aa33-16952a390998"
      },
      "source": [
        "for match in re.findall(pattern,text):\n",
        "  print(match)"
      ],
      "execution_count": 15,
      "outputs": [
        {
          "output_type": "stream",
          "name": "stdout",
          "text": [
            "phone\n",
            "phone\n"
          ]
        }
      ]
    },
    {
      "cell_type": "code",
      "metadata": {
        "id": "mumMCvUTQrUN"
      },
      "source": [
        "#now what if have a pattern but dont know the value\n",
        "\n",
        "text=\"my phone number is 333-888-3333\""
      ],
      "execution_count": 19,
      "outputs": []
    },
    {
      "cell_type": "code",
      "metadata": {
        "id": "p42Qv7B1Q_WJ"
      },
      "source": [
        "#pattern=r'\\d\\d\\d-\\d\\d\\d-\\d\\d\\d\\d'  #d is used to detect integers\n",
        "\n",
        "pattern=r'\\d{3}-\\d{3}-\\d{4}'\n",
        "\n",
        "ph=re.search(pattern,text)"
      ],
      "execution_count": 23,
      "outputs": []
    },
    {
      "cell_type": "code",
      "metadata": {
        "colab": {
          "base_uri": "https://localhost:8080/"
        },
        "id": "YGrt_CHoRsIn",
        "outputId": "fde82442-f42d-45d1-f290-59d25c2d52d6"
      },
      "source": [
        "ph"
      ],
      "execution_count": 24,
      "outputs": [
        {
          "output_type": "execute_result",
          "data": {
            "text/plain": [
              "<re.Match object; span=(19, 31), match='333-888-3333'>"
            ]
          },
          "metadata": {},
          "execution_count": 24
        }
      ]
    },
    {
      "cell_type": "code",
      "metadata": {
        "colab": {
          "base_uri": "https://localhost:8080/",
          "height": 35
        },
        "id": "eMPa5dYsR7HS",
        "outputId": "c695aca7-3942-4561-f471-8f790c3eeb4d"
      },
      "source": [
        "ph.group()"
      ],
      "execution_count": 25,
      "outputs": [
        {
          "output_type": "execute_result",
          "data": {
            "application/vnd.google.colaboratory.intrinsic+json": {
              "type": "string"
            },
            "text/plain": [
              "'333-888-3333'"
            ]
          },
          "metadata": {},
          "execution_count": 25
        }
      ]
    },
    {
      "cell_type": "code",
      "metadata": {
        "id": "w8zUFQXfTf_z"
      },
      "source": [
        "#Now we have to change it in tuple\n",
        "pattern=r'(\\d{3})-(\\d{3})-(\\d{4})'\n",
        "ph=re.search(pattern,text)\n"
      ],
      "execution_count": 26,
      "outputs": []
    },
    {
      "cell_type": "code",
      "metadata": {
        "colab": {
          "base_uri": "https://localhost:8080/",
          "height": 35
        },
        "id": "phkGx5aTUdo7",
        "outputId": "6711cbef-e508-473e-cd45-7ef71021c7cb"
      },
      "source": [
        "#so by index\n",
        "ph.group(3)"
      ],
      "execution_count": 29,
      "outputs": [
        {
          "output_type": "execute_result",
          "data": {
            "application/vnd.google.colaboratory.intrinsic+json": {
              "type": "string"
            },
            "text/plain": [
              "'3333'"
            ]
          },
          "metadata": {},
          "execution_count": 29
        }
      ]
    },
    {
      "cell_type": "code",
      "metadata": {
        "colab": {
          "base_uri": "https://localhost:8080/"
        },
        "id": "HZpydzVnUikv",
        "outputId": "dbcb4343-c380-4bae-fe89-ce025187846f"
      },
      "source": [
        "re.search(r\"man|woman\",\"This man is my best friend\")"
      ],
      "execution_count": 36,
      "outputs": [
        {
          "output_type": "execute_result",
          "data": {
            "text/plain": [
              "<re.Match object; span=(5, 8), match='man'>"
            ]
          },
          "metadata": {},
          "execution_count": 36
        }
      ]
    },
    {
      "cell_type": "code",
      "metadata": {
        "colab": {
          "base_uri": "https://localhost:8080/"
        },
        "id": "DhenmUETV15s",
        "outputId": "8364e283-67a4-477e-de9d-2088fec5cd72"
      },
      "source": [
        "re.findall(r\".man\",\"This man is my best friend\")"
      ],
      "execution_count": 39,
      "outputs": [
        {
          "output_type": "execute_result",
          "data": {
            "text/plain": [
              "[' man']"
            ]
          },
          "metadata": {},
          "execution_count": 39
        }
      ]
    },
    {
      "cell_type": "code",
      "metadata": {
        "colab": {
          "base_uri": "https://localhost:8080/"
        },
        "id": "-XFYk9m1V4TI",
        "outputId": "e539bcd9-bfd2-4098-d1d9-20faa72cbd02"
      },
      "source": [
        "#TO detect the end we use $ and for start we use ^\n",
        "re.findall(r\"\\d$\",\"This end with number 3\")"
      ],
      "execution_count": 40,
      "outputs": [
        {
          "output_type": "execute_result",
          "data": {
            "text/plain": [
              "['3']"
            ]
          },
          "metadata": {},
          "execution_count": 40
        }
      ]
    },
    {
      "cell_type": "code",
      "metadata": {
        "colab": {
          "base_uri": "https://localhost:8080/"
        },
        "id": "M5VncYAaWhxg",
        "outputId": "0f747679-c1ee-4cbe-fca5-f9f2374684a6"
      },
      "source": [
        "re.search(r\"^\\d\",\"8 is my favrt number 3\")"
      ],
      "execution_count": 51,
      "outputs": [
        {
          "output_type": "execute_result",
          "data": {
            "text/plain": [
              "<re.Match object; span=(0, 1), match='8'>"
            ]
          },
          "metadata": {},
          "execution_count": 51
        }
      ]
    },
    {
      "cell_type": "code",
      "metadata": {
        "id": "K44mhwKaWuN_",
        "colab": {
          "base_uri": "https://localhost:8080/"
        },
        "outputId": "5bd81ae2-ce70-4917-d1e6-aac3797da41a"
      },
      "source": [
        "#To Exclude the number from text\n",
        "phrase =\"There are 3 numbers 34 inside  5 this sentence\"\n",
        "print(phrase)"
      ],
      "execution_count": 54,
      "outputs": [
        {
          "output_type": "stream",
          "name": "stdout",
          "text": [
            "There are 3 numbers 34 inside  5 this sentence\n"
          ]
        }
      ]
    },
    {
      "cell_type": "code",
      "metadata": {
        "colab": {
          "base_uri": "https://localhost:8080/"
        },
        "id": "-t_zuppzXXD7",
        "outputId": "064afdfd-a4a0-43ad-a94c-6e4b09f3fb98"
      },
      "source": [
        "re.findall(r'[^\\d]+',phrase)  #[] is used for excluding"
      ],
      "execution_count": 55,
      "outputs": [
        {
          "output_type": "execute_result",
          "data": {
            "text/plain": [
              "['There are ', ' numbers ', ' inside  ', ' this sentence']"
            ]
          },
          "metadata": {},
          "execution_count": 55
        }
      ]
    },
    {
      "cell_type": "code",
      "metadata": {
        "colab": {
          "base_uri": "https://localhost:8080/"
        },
        "id": "wE8AA8YDXnki",
        "outputId": "0b6565d2-905d-425d-a72a-cd9857d99a52"
      },
      "source": [
        "#To remove punctuation marks\n",
        "phras2=\"This is a string! but it has punctuation. How to remove it? \"\n",
        "\n",
        "my_list=re.findall(r'[^!.?]+',phras2)\n",
        "my_list"
      ],
      "execution_count": 56,
      "outputs": [
        {
          "output_type": "execute_result",
          "data": {
            "text/plain": [
              "['This is a string', ' but it has punctuation', ' How to remove it', ' ']"
            ]
          },
          "metadata": {},
          "execution_count": 56
        }
      ]
    },
    {
      "cell_type": "code",
      "metadata": {
        "colab": {
          "base_uri": "https://localhost:8080/",
          "height": 35
        },
        "id": "2BvhkZ6FYcp1",
        "outputId": "6aaed0e2-1b59-4f34-f402-3ad97893a532"
      },
      "source": [
        "# we use join method \n",
        "' '.join(my_list)"
      ],
      "execution_count": 57,
      "outputs": [
        {
          "output_type": "execute_result",
          "data": {
            "application/vnd.google.colaboratory.intrinsic+json": {
              "type": "string"
            },
            "text/plain": [
              "'This is a string  but it has punctuation  How to remove it  '"
            ]
          },
          "metadata": {},
          "execution_count": 57
        }
      ]
    },
    {
      "cell_type": "code",
      "metadata": {
        "id": "39-hY8aHZD6r"
      },
      "source": [
        ""
      ],
      "execution_count": null,
      "outputs": []
    }
  ]
}