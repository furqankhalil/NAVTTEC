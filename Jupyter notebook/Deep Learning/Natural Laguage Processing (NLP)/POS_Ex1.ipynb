{
  "nbformat": 4,
  "nbformat_minor": 0,
  "metadata": {
    "colab": {
      "name": "POS_Ex1.ipynb",
      "provenance": [],
      "collapsed_sections": []
    },
    "kernelspec": {
      "name": "python3",
      "display_name": "Python 3"
    },
    "language_info": {
      "name": "python"
    }
  },
  "cells": [
    {
      "cell_type": "code",
      "metadata": {
        "id": "jjq-SCNLzcPh"
      },
      "source": [
        "import spacy"
      ],
      "execution_count": 1,
      "outputs": []
    },
    {
      "cell_type": "code",
      "metadata": {
        "id": "PIlrr6OFzpcT"
      },
      "source": [
        "nlp=spacy.load('en_core_web_sm')"
      ],
      "execution_count": 2,
      "outputs": []
    },
    {
      "cell_type": "code",
      "metadata": {
        "id": "HwYR8AF0zuSE"
      },
      "source": [
        "doc1=nlp(u\"The Quick Brown Fox jump over the lazy dog's back.\")"
      ],
      "execution_count": 3,
      "outputs": []
    },
    {
      "cell_type": "code",
      "metadata": {
        "colab": {
          "base_uri": "https://localhost:8080/"
        },
        "id": "OdRG_XeR1CZO",
        "outputId": "ff694344-c656-4536-c56f-f046dba5981e"
      },
      "source": [
        "print(doc1.text)"
      ],
      "execution_count": 4,
      "outputs": [
        {
          "output_type": "stream",
          "name": "stdout",
          "text": [
            "The Quick Brown Fox jump over the lazy dog's back.\n"
          ]
        }
      ]
    },
    {
      "cell_type": "code",
      "metadata": {
        "colab": {
          "base_uri": "https://localhost:8080/"
        },
        "id": "NZsEhFlO1Nia",
        "outputId": "bb5e2256-b975-4baa-dcd3-98a9c7993c01"
      },
      "source": [
        "print(doc1[4].pos_)"
      ],
      "execution_count": 5,
      "outputs": [
        {
          "output_type": "stream",
          "name": "stdout",
          "text": [
            "NOUN\n"
          ]
        }
      ]
    },
    {
      "cell_type": "code",
      "metadata": {
        "colab": {
          "base_uri": "https://localhost:8080/"
        },
        "id": "6mjL9niz1Y9w",
        "outputId": "a7627464-04b4-49a3-c4ca-6f77d2dbbd5c"
      },
      "source": [
        "print(doc1[4].tag_)"
      ],
      "execution_count": 6,
      "outputs": [
        {
          "output_type": "stream",
          "name": "stdout",
          "text": [
            "NN\n"
          ]
        }
      ]
    },
    {
      "cell_type": "code",
      "metadata": {
        "colab": {
          "base_uri": "https://localhost:8080/"
        },
        "id": "0dVsqoJX1mth",
        "outputId": "ba455205-b312-43bf-82f3-2531870cd95d"
      },
      "source": [
        "for token in doc1:\n",
        "  print(f\"{token.text:{10}} {token.pos_:{10}} {token.tag_:{10}} {spacy.explain(token.tag_):{10}}\")"
      ],
      "execution_count": 9,
      "outputs": [
        {
          "output_type": "stream",
          "name": "stdout",
          "text": [
            "The        DET        DT         determiner\n",
            "Quick      PROPN      NNP        noun, proper singular\n",
            "Brown      PROPN      NNP        noun, proper singular\n",
            "Fox        PROPN      NNP        noun, proper singular\n",
            "jump       NOUN       NN         noun, singular or mass\n",
            "over       ADP        IN         conjunction, subordinating or preposition\n",
            "the        DET        DT         determiner\n",
            "lazy       ADJ        JJ         adjective \n",
            "dog        NOUN       NN         noun, singular or mass\n",
            "'s         PART       POS        possessive ending\n",
            "back       NOUN       NN         noun, singular or mass\n",
            ".          PUNCT      .          punctuation mark, sentence closer\n"
          ]
        }
      ]
    },
    {
      "cell_type": "code",
      "metadata": {
        "id": "tyItjdQ12SGq"
      },
      "source": [
        "doc2=nlp(\" I read a book on NLP\")"
      ],
      "execution_count": null,
      "outputs": []
    },
    {
      "cell_type": "code",
      "metadata": {
        "colab": {
          "base_uri": "https://localhost:8080/",
          "height": 35
        },
        "id": "rqu-fUVF20a8",
        "outputId": "9bad5208-4020-4d39-a32b-4623ce12c822"
      },
      "source": [
        "doc2[2].pos_"
      ],
      "execution_count": null,
      "outputs": [
        {
          "output_type": "execute_result",
          "data": {
            "application/vnd.google.colaboratory.intrinsic+json": {
              "type": "string"
            },
            "text/plain": [
              "'VERB'"
            ]
          },
          "metadata": {},
          "execution_count": 9
        }
      ]
    },
    {
      "cell_type": "code",
      "metadata": {
        "colab": {
          "base_uri": "https://localhost:8080/"
        },
        "id": "2I5J-Vcr23gU",
        "outputId": "394562d4-628a-42c4-ab62-f844374384e5"
      },
      "source": [
        "for token in doc1:\n",
        "  print(f\"{token.text:{10}} {token.pos_:{10}} {token.tag_:{10}} {spacy.explain(token.tag_):{10}}\")"
      ],
      "execution_count": null,
      "outputs": [
        {
          "output_type": "stream",
          "name": "stdout",
          "text": [
            "The        DET        DT         determiner\n",
            "Quick      PROPN      NNP        noun, proper singular\n",
            "Brown      PROPN      NNP        noun, proper singular\n",
            "Fox        PROPN      NNP        noun, proper singular\n",
            "jump       NOUN       NN         noun, singular or mass\n",
            "over       ADP        IN         conjunction, subordinating or preposition\n",
            "the        DET        DT         determiner\n",
            "lazy       ADJ        JJ         adjective \n",
            "dog        NOUN       NN         noun, singular or mass\n",
            "'s         PART       POS        possessive ending\n",
            "back       NOUN       NN         noun, singular or mass\n",
            ".          PUNCT      .          punctuation mark, sentence closer\n"
          ]
        }
      ]
    },
    {
      "cell_type": "code",
      "metadata": {
        "id": "k9x25b_v28gP"
      },
      "source": [
        "doc3=nlp(u\"The Quick Brown Fox jump over the lazy dog's back.\")"
      ],
      "execution_count": null,
      "outputs": []
    },
    {
      "cell_type": "code",
      "metadata": {
        "id": "kNPnn0KN3ggC"
      },
      "source": [
        "pos_counts=doc3.count_by(spacy.attrs.POS)"
      ],
      "execution_count": null,
      "outputs": []
    },
    {
      "cell_type": "code",
      "metadata": {
        "colab": {
          "base_uri": "https://localhost:8080/"
        },
        "id": "pCa6DM-23pza",
        "outputId": "7c388822-dd58-4618-89d2-d6fe81d5406e"
      },
      "source": [
        "#It will tell us about the counting of pos\n",
        "print(pos_count)"
      ],
      "execution_count": null,
      "outputs": [
        {
          "output_type": "stream",
          "name": "stdout",
          "text": [
            "{90: 2, 96: 3, 92: 3, 85: 1, 84: 1, 94: 1, 97: 1}\n"
          ]
        }
      ]
    },
    {
      "cell_type": "code",
      "metadata": {
        "colab": {
          "base_uri": "https://localhost:8080/",
          "height": 35
        },
        "id": "V2zajiRA3tKh",
        "outputId": "156fa000-3503-44b2-d3da-4ee9f1005f61"
      },
      "source": [
        "#To check it from the code\n",
        "doc3.vocab[96].text\n"
      ],
      "execution_count": null,
      "outputs": [
        {
          "output_type": "execute_result",
          "data": {
            "application/vnd.google.colaboratory.intrinsic+json": {
              "type": "string"
            },
            "text/plain": [
              "'PROPN'"
            ]
          },
          "metadata": {},
          "execution_count": 16
        }
      ]
    },
    {
      "cell_type": "code",
      "metadata": {
        "colab": {
          "base_uri": "https://localhost:8080/",
          "height": 35
        },
        "id": "_2Vzrfel4FOi",
        "outputId": "e60ab547-a753-4a82-d186-83e6e8c14f3c"
      },
      "source": [
        "doc3[3].pos_"
      ],
      "execution_count": null,
      "outputs": [
        {
          "output_type": "execute_result",
          "data": {
            "application/vnd.google.colaboratory.intrinsic+json": {
              "type": "string"
            },
            "text/plain": [
              "'PROPN'"
            ]
          },
          "metadata": {},
          "execution_count": 19
        }
      ]
    },
    {
      "cell_type": "code",
      "metadata": {
        "colab": {
          "base_uri": "https://localhost:8080/"
        },
        "id": "9BQWwVW24kdX",
        "outputId": "65f5d906-d073-4696-cd17-937184295a64"
      },
      "source": [
        "#To find all the counts\n",
        "for k,v in sorted(pos_counts.items()):\n",
        "  print(f\"{k} {doc3.vocab[k].text:{6}}{v:{6}}\")"
      ],
      "execution_count": null,
      "outputs": [
        {
          "output_type": "stream",
          "name": "stdout",
          "text": [
            "84 ADJ        1\n",
            "85 ADP        1\n",
            "90 DET        2\n",
            "92 NOUN       3\n",
            "94 PART       1\n",
            "96 PROPN      3\n",
            "97 PUNCT      1\n"
          ]
        }
      ]
    },
    {
      "cell_type": "code",
      "metadata": {
        "colab": {
          "base_uri": "https://localhost:8080/"
        },
        "id": "aOpDMxnA6Lzw",
        "outputId": "d3a1fe5b-18bc-40b8-90e4-cd1df456df7f"
      },
      "source": [
        "#To find the tag\n",
        "tag_counts=doc3.count_by(spacy.attrs.TAG)\n",
        "for k,v in sorted(tag_counts.items()):\n",
        "  print(f\"{k}   {doc3.vocab[k].text:{6}}{v:{6}}\")"
      ],
      "execution_count": null,
      "outputs": [
        {
          "output_type": "stream",
          "name": "stdout",
          "text": [
            "74   POS        1\n",
            "1292078113972184607   IN         1\n",
            "10554686591937588953   JJ         1\n",
            "12646065887601541794   .          1\n",
            "15267657372422890137   DT         2\n",
            "15308085513773655218   NN         3\n",
            "15794550382381185553   NNP        3\n"
          ]
        }
      ]
    },
    {
      "cell_type": "code",
      "metadata": {
        "id": "EgTtB49T8584"
      },
      "source": [
        ""
      ],
      "execution_count": null,
      "outputs": []
    }
  ]
}