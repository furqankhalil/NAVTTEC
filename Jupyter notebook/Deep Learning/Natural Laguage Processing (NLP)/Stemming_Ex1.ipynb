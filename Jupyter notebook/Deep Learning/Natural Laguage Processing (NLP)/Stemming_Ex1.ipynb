{
  "nbformat": 4,
  "nbformat_minor": 0,
  "metadata": {
    "colab": {
      "name": "Stemming_Ex1.ipynb",
      "provenance": [],
      "collapsed_sections": []
    },
    "kernelspec": {
      "name": "python3",
      "display_name": "Python 3"
    },
    "language_info": {
      "name": "python"
    }
  },
  "cells": [
    {
      "cell_type": "markdown",
      "metadata": {
        "id": "Uid_eKCylSt4"
      },
      "source": [
        "**Stemming:**Technique in which a word is reduce to its root word.\n",
        "\n",
        "Playing------> Play\n",
        "Boating------>Boat\n",
        "Easily-------> Easy\n",
        "\n"
      ]
    },
    {
      "cell_type": "code",
      "metadata": {
        "id": "mrULg15Ak7wU"
      },
      "source": [
        "import nltk"
      ],
      "execution_count": 1,
      "outputs": []
    },
    {
      "cell_type": "code",
      "metadata": {
        "id": "sCAa9PnOmZcH"
      },
      "source": [
        "from nltk.stem.porter import PorterStemmer"
      ],
      "execution_count": 2,
      "outputs": []
    },
    {
      "cell_type": "code",
      "metadata": {
        "id": "8bIueFD_mmFL"
      },
      "source": [
        "#Its an old technique\n",
        "p_stemmer=PorterStemmer()"
      ],
      "execution_count": 3,
      "outputs": []
    },
    {
      "cell_type": "code",
      "metadata": {
        "id": "C4gFVX9Kmqob"
      },
      "source": [
        "words=['run','runner','runs','Easily','fairly']"
      ],
      "execution_count": 4,
      "outputs": []
    },
    {
      "cell_type": "code",
      "metadata": {
        "colab": {
          "base_uri": "https://localhost:8080/"
        },
        "id": "2dZ2r2RYm6O7",
        "outputId": "f7c066ca-6508-4039-9f95-6d0db0f664c2"
      },
      "source": [
        "for word in words:\n",
        "  print(word,'----->',p_stemmer.stem(word))"
      ],
      "execution_count": 5,
      "outputs": [
        {
          "output_type": "stream",
          "name": "stdout",
          "text": [
            "run -----> run\n",
            "runner -----> runner\n",
            "runs -----> run\n",
            "Easily -----> easili\n",
            "fairly -----> fairli\n"
          ]
        }
      ]
    },
    {
      "cell_type": "code",
      "metadata": {
        "id": "ynx-aBh-nN6n"
      },
      "source": [
        "#2nd technique we used for stemming is snowball Stemmer\n",
        "\n",
        "from nltk.stem.snowball import SnowballStemmer"
      ],
      "execution_count": 6,
      "outputs": []
    },
    {
      "cell_type": "code",
      "metadata": {
        "id": "niMG5WxRn_TR"
      },
      "source": [
        "#You have to tell on which language you are performing the stemming\n",
        "snow=SnowballStemmer(language='english')"
      ],
      "execution_count": 7,
      "outputs": []
    },
    {
      "cell_type": "code",
      "metadata": {
        "colab": {
          "base_uri": "https://localhost:8080/"
        },
        "id": "80DeKN3OoFff",
        "outputId": "b4238384-630e-41e4-b9bf-3e722a7d9cd1"
      },
      "source": [
        "for word in words:\n",
        "  print(word,'---->',snow.stem(word))\n"
      ],
      "execution_count": 8,
      "outputs": [
        {
          "output_type": "stream",
          "name": "stdout",
          "text": [
            "run ----> run\n",
            "runner ----> runner\n",
            "runs ----> run\n",
            "Easily ----> easili\n",
            "fairly ----> fair\n"
          ]
        }
      ]
    },
    {
      "cell_type": "code",
      "metadata": {
        "id": "C7rjR41To7B6"
      },
      "source": [
        "words2=['generous','generation','genereously','generate']"
      ],
      "execution_count": 9,
      "outputs": []
    },
    {
      "cell_type": "code",
      "metadata": {
        "colab": {
          "base_uri": "https://localhost:8080/"
        },
        "id": "IPlCD5_mpchP",
        "outputId": "4050fb0f-2d4b-47ba-93f0-a02f3e979b3c"
      },
      "source": [
        "for word in words2:\n",
        "  print(word,'---->',snow.stem(word))"
      ],
      "execution_count": 10,
      "outputs": [
        {
          "output_type": "stream",
          "name": "stdout",
          "text": [
            "generous ----> generous\n",
            "generation ----> generat\n",
            "genereously ----> genereous\n",
            "generate ----> generat\n"
          ]
        }
      ]
    },
    {
      "cell_type": "code",
      "metadata": {
        "id": "E4lwlqMxpjbo"
      },
      "source": [
        ""
      ],
      "execution_count": null,
      "outputs": []
    }
  ]
}