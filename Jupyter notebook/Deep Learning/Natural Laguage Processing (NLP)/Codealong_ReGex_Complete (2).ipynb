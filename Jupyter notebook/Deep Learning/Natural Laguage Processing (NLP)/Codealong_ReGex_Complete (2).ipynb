{
 "cells": [
  {
   "cell_type": "code",
   "execution_count": 4,
   "metadata": {
    "id": "FqPOd3QgDMHK"
   },
   "outputs": [],
   "source": [
    "sentence = \"He's fast. The boy ran up the hill,he can't come back down!\""
   ]
  },
  {
   "cell_type": "code",
   "execution_count": 5,
   "metadata": {
    "id": "K04Cup4c-xTG"
   },
   "outputs": [],
   "source": [
    "result = sentence.split() "
   ]
  },
  {
   "cell_type": "code",
   "execution_count": 6,
   "metadata": {
    "colab": {
     "base_uri": "https://localhost:8080/"
    },
    "id": "RPrI_k3v-zTL",
    "outputId": "a142f4b7-5440-4554-e274-5807bd745565"
   },
   "outputs": [
    {
     "name": "stdout",
     "output_type": "stream",
     "text": [
      "[\"He's\", 'fast.', 'The', 'boy', 'ran', 'up', 'the', 'hill,he', \"can't\", 'come', 'back', 'down!']\n"
     ]
    }
   ],
   "source": [
    "print(result)"
   ]
  },
  {
   "cell_type": "code",
   "execution_count": 7,
   "metadata": {
    "id": "okoqoDT-Ehet"
   },
   "outputs": [],
   "source": [
    "sentence = \"He has a Ph.D. He's fast. The boy ran up the hill and he can't come back down!\""
   ]
  },
  {
   "cell_type": "code",
   "execution_count": 8,
   "metadata": {
    "colab": {
     "base_uri": "https://localhost:8080/"
    },
    "id": "nON6TjVg_Lh2",
    "outputId": "8989c02c-25c3-49eb-8024-c8185a6b8ea3"
   },
   "outputs": [
    {
     "name": "stdout",
     "output_type": "stream",
     "text": [
      "['He has a Ph.D', \"He's fast\", \"The boy ran up the hill and he can't come back down!\"]\n"
     ]
    }
   ],
   "source": [
    "result = sentence.split(\". \")\n",
    "print(result)"
   ]
  },
  {
   "cell_type": "code",
   "execution_count": 9,
   "metadata": {
    "id": "9cdy8pDAAqrH"
   },
   "outputs": [],
   "source": [
    "import re "
   ]
  },
  {
   "cell_type": "code",
   "execution_count": 10,
   "metadata": {
    "id": "-yZ5sZgCA6sx"
   },
   "outputs": [],
   "source": [
    "txt = \"uno-dos+tres#quatro cinco\" "
   ]
  },
  {
   "cell_type": "code",
   "execution_count": 11,
   "metadata": {
    "colab": {
     "base_uri": "https://localhost:8080/"
    },
    "id": "ksM_0kedBLBb",
    "outputId": "63b405ec-8678-43a0-cf09-df62ebe01194"
   },
   "outputs": [
    {
     "name": "stdout",
     "output_type": "stream",
     "text": [
      "['uno', 'dos', 'tres', 'quatro', 'cinco']\n"
     ]
    }
   ],
   "source": [
    "result = print(re.split('\\W+',txt))"
   ]
  },
  {
   "cell_type": "code",
   "execution_count": 13,
   "metadata": {
    "id": "Iy5Y2_huCoSu"
   },
   "outputs": [],
   "source": [
    "num = 'one-two-three-#four'"
   ]
  },
  {
   "cell_type": "code",
   "execution_count": 14,
   "metadata": {
    "colab": {
     "base_uri": "https://localhost:8080/"
    },
    "id": "OTYpItgmCvtE",
    "outputId": "06ac0769-ab4f-4142-baba-acab52e3dbeb"
   },
   "outputs": [
    {
     "name": "stdout",
     "output_type": "stream",
     "text": [
      "['one', 'two', 'three', '', 'four']\n"
     ]
    }
   ],
   "source": [
    "result = print(re.split('[-+#]', num))"
   ]
  },
  {
   "cell_type": "code",
   "execution_count": 16,
   "metadata": {
    "colab": {
     "base_uri": "https://localhost:8080/"
    },
    "id": "6prLy0JI-yAH",
    "outputId": "f61a4336-51b0-46b2-8ed5-65ececf95c19"
   },
   "outputs": [
    {
     "name": "stdout",
     "output_type": "stream",
     "text": [
      "one&and&two&and&three&and&four&and&five\n"
     ]
    }
   ],
   "source": [
    "txt1 = 'one and two and three and four and five'\n",
    "result = re.sub(' ','&',txt1)\n",
    "print(result)"
   ]
  },
  {
   "cell_type": "code",
   "execution_count": null,
   "metadata": {
    "colab": {
     "base_uri": "https://localhost:8080/"
    },
    "id": "iq_-UOf0IhZr",
    "outputId": "4253c1ab-638e-4677-c383-f5a7da9ec18b"
   },
   "outputs": [
    {
     "name": "stdout",
     "output_type": "stream",
     "text": [
      "Looking for \"nlp course\" in \"The best nlp course for beginners, with awesome practical projects\" :\n",
      " yayy search successful!!:\n",
      " \n",
      "Looking for \"advanced\" in \"The best nlp course for beginners, with awesome practical projects\" :\n",
      " oh no :( we did not find anything\n"
     ]
    }
   ],
   "source": [
    "patternwanted = ['nlp course', 'advanced']\n",
    "string = 'The best nlp course for beginners, with awesome practical projects'\n",
    "\n",
    "for pattern in patternwanted:\n",
    "  print ('Looking for \"%s\" in \"%s\" :\\n' % (pattern, string), end=' ')\n",
    "\n",
    "  if re.search(pattern, string):\n",
    "    print('yayy search successful!!:\\n ')\n",
    "  else: \n",
    "    print('oh no :( we did not find anything')"
   ]
  },
  {
   "cell_type": "code",
   "execution_count": 3,
   "metadata": {
    "colab": {
     "base_uri": "https://localhost:8080/"
    },
    "id": "GDqgwP0tLPUk",
    "outputId": "10e13fb8-bad3-43ca-ea81-b69d5a44822e"
   },
   "outputs": [
    {
     "name": "stdout",
     "output_type": "stream",
     "text": [
      "['duke@dukeemail.com', 'joe@mrdenvergmail.com', 'my_name77@hotmail.com']\n",
      "duke@dukeemail.com\n",
      "joe@mrdenvergmail.com\n",
      "my_name77@hotmail.com\n"
     ]
    }
   ],
   "source": [
    "contact_details = \"Duke Richards 123-1233 duke@dukeemail.com Joe Denver 2020/JAN/05 joe@mrdenvergmail.com 2020/Dec/24 my_name77@hotmail.com John Black +4478564000\"\n",
    "emailinfo = re.findall(r'[\\w\\.-]+@[\\w\\.-]+', contact_details)\n",
    "\n",
    "for email in emailinfo:\n",
    "  print(email)\n"
   ]
  }
 ],
 "metadata": {
  "colab": {
   "collapsed_sections": [],
   "name": "Codealong_ReGex_Complete.ipynb",
   "provenance": []
  },
  "kernelspec": {
   "display_name": "Python 3",
   "language": "python",
   "name": "python3"
  },
  "language_info": {
   "codemirror_mode": {
    "name": "ipython",
    "version": 3
   },
   "file_extension": ".py",
   "mimetype": "text/x-python",
   "name": "python",
   "nbconvert_exporter": "python",
   "pygments_lexer": "ipython3",
   "version": "3.8.8"
  }
 },
 "nbformat": 4,
 "nbformat_minor": 1
}
