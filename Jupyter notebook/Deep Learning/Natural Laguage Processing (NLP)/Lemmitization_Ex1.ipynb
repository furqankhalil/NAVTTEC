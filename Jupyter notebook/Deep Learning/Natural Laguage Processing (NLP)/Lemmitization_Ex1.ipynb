{
  "nbformat": 4,
  "nbformat_minor": 0,
  "metadata": {
    "colab": {
      "name": "Lemmitization_Ex1.ipynb",
      "provenance": [],
      "collapsed_sections": []
    },
    "kernelspec": {
      "name": "python3",
      "display_name": "Python 3"
    },
    "language_info": {
      "name": "python"
    }
  },
  "cells": [
    {
      "cell_type": "code",
      "metadata": {
        "id": "pON5IJZjp0Nr"
      },
      "source": [
        "import spacy"
      ],
      "execution_count": 1,
      "outputs": []
    },
    {
      "cell_type": "code",
      "metadata": {
        "id": "AQUiPeUYp7Lq"
      },
      "source": [
        "#To Load English Library\n",
        "nlp=spacy.load('en_core_web_sm')"
      ],
      "execution_count": 2,
      "outputs": []
    },
    {
      "cell_type": "code",
      "metadata": {
        "id": "6b5dkD8BqC1M"
      },
      "source": [
        "doc1=nlp('I am a runner running in the race because i like to run since i ran this morning.')"
      ],
      "execution_count": 3,
      "outputs": []
    },
    {
      "cell_type": "code",
      "metadata": {
        "colab": {
          "base_uri": "https://localhost:8080/"
        },
        "id": "N5Jqz2x3qe7m",
        "outputId": "c95e7366-d5c5-40ad-af64-f8151278f883"
      },
      "source": [
        "for token in doc1:\n",
        "  print(f\"{token.text:{10}}{token.pos_:{10}}{token.lemma_:{15}}\")"
      ],
      "execution_count": 4,
      "outputs": [
        {
          "output_type": "stream",
          "name": "stdout",
          "text": [
            "I         PRON      -PRON-         \n",
            "am        AUX       be             \n",
            "a         DET       a              \n",
            "runner    NOUN      runner         \n",
            "running   VERB      run            \n",
            "in        ADP       in             \n",
            "the       DET       the            \n",
            "race      NOUN      race           \n",
            "because   SCONJ     because        \n",
            "i         PRON      i              \n",
            "like      VERB      like           \n",
            "to        PART      to             \n",
            "run       VERB      run            \n",
            "since     SCONJ     since          \n",
            "i         PRON      i              \n",
            "ran       VERB      run            \n",
            "this      DET       this           \n",
            "morning   NOUN      morning        \n",
            ".         PUNCT     .              \n"
          ]
        }
      ]
    },
    {
      "cell_type": "code",
      "metadata": {
        "id": "-rd13OofrBMl"
      },
      "source": [
        "def show_lemma(text):\n",
        "  for token in text:\n",
        "    print(f\"{token.text:{10}}{token.pos_:{10}}{token.lemma_:{15}}\")"
      ],
      "execution_count": 5,
      "outputs": []
    },
    {
      "cell_type": "code",
      "metadata": {
        "id": "tMqiZhL1s4zn"
      },
      "source": [
        "doc2=nlp(u'He easily qualify the test, he also start studying for next Examination.')"
      ],
      "execution_count": 6,
      "outputs": []
    },
    {
      "cell_type": "code",
      "metadata": {
        "colab": {
          "base_uri": "https://localhost:8080/"
        },
        "id": "4FtkLPG0t_4n",
        "outputId": "548261bb-c1d2-44fd-fa38-cc710908717f"
      },
      "source": [
        "show_lemma(doc2)"
      ],
      "execution_count": 8,
      "outputs": [
        {
          "output_type": "stream",
          "name": "stdout",
          "text": [
            "He        PRON      -PRON-         \n",
            "easily    ADV       easily         \n",
            "qualify   VERB      qualify        \n",
            "the       DET       the            \n",
            "test      NOUN      test           \n",
            ",         PUNCT     ,              \n",
            "he        PRON      -PRON-         \n",
            "also      ADV       also           \n",
            "start     VERB      start          \n",
            "studying  VERB      study          \n",
            "for       ADP       for            \n",
            "next      ADJ       next           \n",
            "ExaminationPROPN     Examination    \n",
            ".         PUNCT     .              \n"
          ]
        }
      ]
    },
    {
      "cell_type": "code",
      "metadata": {
        "id": "rgfQPJ0euCoH"
      },
      "source": [
        ""
      ],
      "execution_count": null,
      "outputs": []
    }
  ]
}