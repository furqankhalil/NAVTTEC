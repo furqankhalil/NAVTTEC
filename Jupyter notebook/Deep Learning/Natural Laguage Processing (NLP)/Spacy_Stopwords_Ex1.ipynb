{
  "nbformat": 4,
  "nbformat_minor": 0,
  "metadata": {
    "colab": {
      "name": "Spacy_Stopwords_Ex1.ipynb",
      "provenance": [],
      "collapsed_sections": []
    },
    "kernelspec": {
      "name": "python3",
      "display_name": "Python 3"
    },
    "language_info": {
      "name": "python"
    }
  },
  "cells": [
    {
      "cell_type": "code",
      "metadata": {
        "id": "7ak762w48Sle"
      },
      "source": [
        "import spacy"
      ],
      "execution_count": 1,
      "outputs": []
    },
    {
      "cell_type": "code",
      "metadata": {
        "id": "YMZxl79r8bdX"
      },
      "source": [
        "nlp=spacy.load('en_core_web_sm')"
      ],
      "execution_count": 2,
      "outputs": []
    },
    {
      "cell_type": "code",
      "metadata": {
        "colab": {
          "base_uri": "https://localhost:8080/"
        },
        "id": "M11GBIsO8igO",
        "outputId": "d628f66c-7ce3-47c7-8bb3-7317d750d87c"
      },
      "source": [
        "#To print all the stop words\n",
        "#Stopwords are those words which donot add meaning to the sentences so we remove it. \n",
        "print(nlp.Defaults.stop_words)"
      ],
      "execution_count": 3,
      "outputs": [
        {
          "output_type": "stream",
          "name": "stdout",
          "text": [
            "{'six', 'anywhere', '’ve', 'anyone', 'call', 'beside', 'beyond', 'whatever', 'first', 'last', 'across', 'due', 'should', 'please', 'take', 'myself', 'really', 'then', 'whole', 'that', 'empty', 'between', '‘ve', 'down', 'namely', 'somewhere', 'toward', 'about', 'ever', '’d', 'anything', 'thence', 'what', 'beforehand', 'above', 'used', 'has', 'while', 'some', '‘d', 'do', 'nevertheless', 'whoever', 'here', 'besides', 'over', 'already', 'otherwise', 'most', 'been', 'any', 'we', 'nor', 'below', 'seems', 'fifteen', 'have', \"'s\", 'once', 'ca', 'somehow', 'during', 'n‘t', 'using', 'twelve', 'wherein', 'thereby', 'ourselves', 'from', 'just', 'why', 'keep', 'therein', 'with', 'noone', 'ten', 'too', 'become', 'two', 'quite', 'almost', '’m', 'thereupon', 'done', 'say', 'less', 'whom', 'get', 'only', 'own', 'though', 'along', 'although', 'without', 'as', 'something', 'again', 'sixty', 'our', \"'re\", 'for', 'yours', 'yourself', 'the', 'formerly', 'yet', 'each', 'amongst', 'nothing', 'ours', 'you', 'often', 'being', 'neither', 'whenever', 'more', 'serious', 'whereupon', 'was', 'my', 'cannot', 'together', 'doing', 'back', 'anyhow', '‘m', 'before', 'see', 'when', 'via', 'am', 'always', 'anyway', 'still', 'no', 'eleven', 'under', 'since', 'well', 'seem', 'rather', 'few', 'an', 'same', 'sometime', 'among', 'around', 'seeming', 'afterwards', 'made', '’ll', 'now', 'her', 'meanwhile', 'further', \"'m\", 'out', 'in', 'me', 'four', 'also', 'nobody', 'until', 'she', 'none', 'itself', 'nowhere', 'next', 'mine', 'former', 'which', 'because', 'herein', 'name', 'eight', 'whereby', 'might', 'through', 'those', 'hundred', 'full', 'must', 'yourselves', 'by', 'throughout', 'behind', 'at', 'go', 'and', 'a', 'to', 'regarding', 'such', 'were', 'whither', 'indeed', 'your', 'several', \"'ll\", 'into', 'had', 'can', 'other', 'did', 'even', 'them', 'part', 'themselves', 'becomes', 'thru', 'who', 'off', 'hereafter', 'its', 'never', 'therefore', 'may', \"'ve\", 'or', 'could', 'up', '’re', 'per', \"n't\", 'much', 'latter', 'hers', 'every', 'except', 'sometimes', 'became', 'hereby', 'are', 'unless', 'perhaps', 'whether', '’s', 'thus', 'whose', 'both', 'be', 'whereafter', 'make', \"'d\", 'he', 'others', 'front', 'his', 'top', 'very', 'where', 'whence', 'there', 'either', 'thereafter', 'another', 'i', 'seemed', 'third', 'twenty', 'three', 'becoming', 'wherever', 'else', 'show', 'does', 'various', '‘s', 'towards', 'us', 'everything', 'but', 'put', 'this', 'move', 'would', 'onto', 'how', 'hence', 'everyone', 'himself', 'forty', 'enough', 'after', 'many', 'upon', 'not', 'so', 'within', 'elsewhere', 'give', 'of', 'fifty', 'least', 'latterly', 'five', '‘re', 'amount', 'these', 'side', 'him', 'hereupon', 'one', 'someone', 'whereas', 'herself', 'it', 're', 'than', 'bottom', 'if', '‘ll', 'everywhere', 'against', 'nine', 'mostly', 'they', 'is', 'will', 'all', 'n’t', 'their', 'however', 'alone', 'moreover', 'on'}\n"
          ]
        }
      ]
    },
    {
      "cell_type": "code",
      "metadata": {
        "colab": {
          "base_uri": "https://localhost:8080/"
        },
        "id": "HP00fSiI8zQD",
        "outputId": "12610c81-3f5d-4311-eac2-deb20573375c"
      },
      "source": [
        "len(nlp.Defaults.stop_words)"
      ],
      "execution_count": 4,
      "outputs": [
        {
          "output_type": "execute_result",
          "data": {
            "text/plain": [
              "326"
            ]
          },
          "metadata": {},
          "execution_count": 4
        }
      ]
    },
    {
      "cell_type": "code",
      "metadata": {
        "colab": {
          "base_uri": "https://localhost:8080/"
        },
        "id": "NEm-2Hrg86Ee",
        "outputId": "baf5891b-82b2-405a-d6ce-f01762efbf76"
      },
      "source": [
        "#To check the word is stop word or not\n",
        "nlp.vocab['Hamza'].is_stop"
      ],
      "execution_count": 6,
      "outputs": [
        {
          "output_type": "execute_result",
          "data": {
            "text/plain": [
              "False"
            ]
          },
          "metadata": {},
          "execution_count": 6
        }
      ]
    },
    {
      "cell_type": "code",
      "metadata": {
        "id": "rPt7BJzY9K2Z"
      },
      "source": [
        "#there are some words which are usedd in phrases or we have made some shortcuts in chatting so we can add it in the list like Please find the attachment=pfa so we can add it to the stop_words list\n",
        "\n",
        "nlp.Defaults.stop_words.add('pfa')"
      ],
      "execution_count": 7,
      "outputs": []
    },
    {
      "cell_type": "code",
      "metadata": {
        "id": "H6-nvPazhgTv"
      },
      "source": [
        ""
      ],
      "execution_count": null,
      "outputs": []
    },
    {
      "cell_type": "code",
      "metadata": {
        "id": "FLBnQHlV-NTR"
      },
      "source": [
        "#we have to make it true\n",
        "nlp.vocab['pfa'].is_stop=True"
      ],
      "execution_count": 8,
      "outputs": []
    },
    {
      "cell_type": "code",
      "metadata": {
        "colab": {
          "base_uri": "https://localhost:8080/"
        },
        "id": "nxpAFA-S-c4p",
        "outputId": "6144d8ea-b894-4029-b7dd-670ff17c4afa"
      },
      "source": [
        "len(nlp.Defaults.stop_words)"
      ],
      "execution_count": 9,
      "outputs": [
        {
          "output_type": "execute_result",
          "data": {
            "text/plain": [
              "327"
            ]
          },
          "metadata": {},
          "execution_count": 9
        }
      ]
    },
    {
      "cell_type": "code",
      "metadata": {
        "colab": {
          "base_uri": "https://localhost:8080/"
        },
        "id": "Oo55R_k2-ubo",
        "outputId": "1003b883-7dfa-42ec-fd91-c6433603ddb1"
      },
      "source": [
        "nlp.vocab['pfa'].is_stop"
      ],
      "execution_count": 10,
      "outputs": [
        {
          "output_type": "execute_result",
          "data": {
            "text/plain": [
              "True"
            ]
          },
          "metadata": {},
          "execution_count": 10
        }
      ]
    },
    {
      "cell_type": "code",
      "metadata": {
        "id": "1Wza5a2s-yVa"
      },
      "source": [
        "#if we have to remove the word from he stop_word list\n",
        "nlp.Defaults.stop_words.remove('among')"
      ],
      "execution_count": 11,
      "outputs": []
    },
    {
      "cell_type": "code",
      "metadata": {
        "id": "-WFS91KL_HTP"
      },
      "source": [
        "nlp.vocab['among'].is_stop=False"
      ],
      "execution_count": 13,
      "outputs": []
    },
    {
      "cell_type": "code",
      "metadata": {
        "colab": {
          "base_uri": "https://localhost:8080/"
        },
        "id": "gf6YPRJo_M8l",
        "outputId": "8652a265-3d5e-4ef3-bb9d-86923bf8f739"
      },
      "source": [
        "#to check\n",
        "nlp.vocab['among'].is_stop"
      ],
      "execution_count": 14,
      "outputs": [
        {
          "output_type": "execute_result",
          "data": {
            "text/plain": [
              "False"
            ]
          },
          "metadata": {},
          "execution_count": 14
        }
      ]
    },
    {
      "cell_type": "code",
      "metadata": {
        "id": "nIuxtgSU_Qhl"
      },
      "source": [
        ""
      ],
      "execution_count": null,
      "outputs": []
    }
  ]
}