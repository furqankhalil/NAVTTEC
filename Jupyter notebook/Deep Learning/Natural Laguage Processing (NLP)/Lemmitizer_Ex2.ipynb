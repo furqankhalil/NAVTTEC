{
  "nbformat": 4,
  "nbformat_minor": 0,
  "metadata": {
    "colab": {
      "name": "Lemmitizer_Ex2.ipynb",
      "provenance": [],
      "collapsed_sections": []
    },
    "kernelspec": {
      "name": "python3",
      "display_name": "Python 3"
    },
    "language_info": {
      "name": "python"
    }
  },
  "cells": [
    {
      "cell_type": "code",
      "metadata": {
        "id": "_QBCFeNtbbwx"
      },
      "source": [
        "import nltk\n"
      ],
      "execution_count": 3,
      "outputs": []
    },
    {
      "cell_type": "code",
      "metadata": {
        "id": "BzR3z089bhWy"
      },
      "source": [
        "from nltk.stem import WordNetLemmatizer"
      ],
      "execution_count": 4,
      "outputs": []
    },
    {
      "cell_type": "code",
      "metadata": {
        "id": "OoxKZFevb1E9"
      },
      "source": [
        "from nltk.corpus import stopwords"
      ],
      "execution_count": 5,
      "outputs": []
    },
    {
      "cell_type": "code",
      "metadata": {
        "colab": {
          "base_uri": "https://localhost:8080/"
        },
        "id": "AnkacNC3b-TJ",
        "outputId": "ea71eead-6125-433c-f81f-71b6892b1273"
      },
      "source": [
        "from nltk.corpus import gutenberg\n",
        "nltk.download('gutenberg')"
      ],
      "execution_count": 6,
      "outputs": [
        {
          "output_type": "stream",
          "name": "stdout",
          "text": [
            "[nltk_data] Downloading package gutenberg to /root/nltk_data...\n",
            "[nltk_data]   Unzipping corpora/gutenberg.zip.\n"
          ]
        },
        {
          "output_type": "execute_result",
          "data": {
            "text/plain": [
              "True"
            ]
          },
          "metadata": {},
          "execution_count": 6
        }
      ]
    },
    {
      "cell_type": "code",
      "metadata": {
        "id": "i0B3OVobdG6C"
      },
      "source": [
        "#sample=gutenberg.raw(\"bryant-stories.txt\")\n",
        "sample=\"Once a fox was very hungry. He was roaming about in search of food. It reached a garden. Some branches of ripe grapes were hanging down a vine. The mouth of the fox watered to eat them.But the garden wall was very low. It jumped over the garden wall to reach the branches of grapes. He could not reach them. He jumped again and again but failed to get at them. He was completely tired. He realized that it was impossible for it to reach the grapes. He went away saying, they are sour and not good to eat. I eat them, I shall fall ill.\""
      ],
      "execution_count": 7,
      "outputs": []
    },
    {
      "cell_type": "code",
      "metadata": {
        "id": "vlKibHgNidSj"
      },
      "source": [
        ""
      ],
      "execution_count": null,
      "outputs": []
    },
    {
      "cell_type": "code",
      "metadata": {
        "colab": {
          "base_uri": "https://localhost:8080/"
        },
        "id": "ekOPmgA7dy8U",
        "outputId": "a74afb19-72c6-42cf-f4f7-119ae2ff65b6"
      },
      "source": [
        "para=sample\n",
        "print(para)"
      ],
      "execution_count": 8,
      "outputs": [
        {
          "output_type": "stream",
          "name": "stdout",
          "text": [
            "Once a fox was very hungry. He was roaming about in search of food. It reached a garden. Some branches of ripe grapes were hanging down a vine. The mouth of the fox watered to eat them.But the garden wall was very low. It jumped over the garden wall to reach the branches of grapes. He could not reach them. He jumped again and again but failed to get at them. He was completely tired. He realized that it was impossible for it to reach the grapes. He went away saying, they are sour and not good to eat. I eat them, I shall fall ill.\n"
          ]
        }
      ]
    },
    {
      "cell_type": "code",
      "metadata": {
        "colab": {
          "base_uri": "https://localhost:8080/"
        },
        "id": "SWItAESed_Cj",
        "outputId": "82e75144-5de2-4a50-a3f5-ca82b23a4691"
      },
      "source": [
        "nltk.download('punkt')\n",
        "sentences=nltk.sent_tokenize(para)\n",
        "print(len(sentences))\n",
        "print(sentences)"
      ],
      "execution_count": 10,
      "outputs": [
        {
          "output_type": "stream",
          "name": "stdout",
          "text": [
            "[nltk_data] Downloading package punkt to /root/nltk_data...\n",
            "[nltk_data]   Package punkt is already up-to-date!\n",
            "12\n",
            "['Once a fox was very hungry.', 'He was roaming about in search of food.', 'It reached a garden.', 'Some branches of ripe grapes were hanging down a vine.', 'The mouth of the fox watered to eat them.But the garden wall was very low.', 'It jumped over the garden wall to reach the branches of grapes.', 'He could not reach them.', 'He jumped again and again but failed to get at them.', 'He was completely tired.', 'He realized that it was impossible for it to reach the grapes.', 'He went away saying, they are sour and not good to eat.', 'I eat them, I shall fall ill.']\n"
          ]
        }
      ]
    },
    {
      "cell_type": "code",
      "metadata": {
        "id": "JcClQmSze4zv"
      },
      "source": [
        "lemmatizer=WordNetLemmatizer()"
      ],
      "execution_count": 11,
      "outputs": []
    },
    {
      "cell_type": "code",
      "metadata": {
        "colab": {
          "base_uri": "https://localhost:8080/"
        },
        "id": "4DTn5lCkjRJc",
        "outputId": "f1feb27e-ac6a-420b-f686-21be21ed2f84"
      },
      "source": [
        "nltk.download('stopwords')\n",
        "nltk.download('wordnet')"
      ],
      "execution_count": 12,
      "outputs": [
        {
          "output_type": "stream",
          "name": "stdout",
          "text": [
            "[nltk_data] Downloading package stopwords to /root/nltk_data...\n",
            "[nltk_data]   Unzipping corpora/stopwords.zip.\n",
            "[nltk_data] Downloading package wordnet to /root/nltk_data...\n",
            "[nltk_data]   Unzipping corpora/wordnet.zip.\n"
          ]
        },
        {
          "output_type": "execute_result",
          "data": {
            "text/plain": [
              "True"
            ]
          },
          "metadata": {},
          "execution_count": 12
        }
      ]
    },
    {
      "cell_type": "code",
      "metadata": {
        "colab": {
          "base_uri": "https://localhost:8080/"
        },
        "id": "oAEpFKRzfIxT",
        "outputId": "754d65ca-7218-479b-e08b-3cfe0edca933"
      },
      "source": [
        "#Lemmatization\n",
        "\n",
        "for i in range(len(sentences)):\n",
        "  words=nltk.word_tokenize(sentences[i])\n",
        "  #applying the list comprehension\n",
        "  words=[lemmatizer.lemmatize(word) for word in words if word not in set(stopwords.words('english'))]\n",
        "  sentences[i]=' '.join(words)\n",
        "  print(sentences[i])"
      ],
      "execution_count": 13,
      "outputs": [
        {
          "output_type": "stream",
          "name": "stdout",
          "text": [
            "Once fox hungry .\n",
            "He roaming search food .\n",
            "It reached garden .\n",
            "Some branch ripe grape hanging vine .\n",
            "The mouth fox watered eat them.But garden wall low .\n",
            "It jumped garden wall reach branch grape .\n",
            "He could reach .\n",
            "He jumped failed get .\n",
            "He completely tired .\n",
            "He realized impossible reach grape .\n",
            "He went away saying , sour good eat .\n",
            "I eat , I shall fall ill .\n"
          ]
        }
      ]
    },
    {
      "cell_type": "code",
      "metadata": {
        "colab": {
          "base_uri": "https://localhost:8080/"
        },
        "id": "DX9Wak79gfkN",
        "outputId": "f520c93c-5527-4ab2-a4c9-9da85284e03b"
      },
      "source": [
        ""
      ],
      "execution_count": null,
      "outputs": [
        {
          "output_type": "stream",
          "name": "stdout",
          "text": [
            "The soft little voice answered , `` It '\n"
          ]
        }
      ]
    },
    {
      "cell_type": "code",
      "metadata": {
        "colab": {
          "base_uri": "https://localhost:8080/"
        },
        "id": "1livOKvvhuSx",
        "outputId": "8a725703-3598-41ca-ef9f-d7428f641467"
      },
      "source": [
        "print(len(sentences[i]))"
      ],
      "execution_count": 15,
      "outputs": [
        {
          "output_type": "stream",
          "name": "stdout",
          "text": [
            "26\n"
          ]
        }
      ]
    },
    {
      "cell_type": "code",
      "metadata": {
        "id": "jypYijamilKQ"
      },
      "source": [
        ""
      ],
      "execution_count": null,
      "outputs": []
    }
  ]
}