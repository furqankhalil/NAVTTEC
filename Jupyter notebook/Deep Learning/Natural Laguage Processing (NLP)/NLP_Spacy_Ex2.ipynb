{
  "nbformat": 4,
  "nbformat_minor": 0,
  "metadata": {
    "colab": {
      "name": "NLP_Spacy_Ex2.ipynb",
      "provenance": [],
      "collapsed_sections": []
    },
    "kernelspec": {
      "name": "python3",
      "display_name": "Python 3"
    },
    "language_info": {
      "name": "python"
    }
  },
  "cells": [
    {
      "cell_type": "code",
      "metadata": {
        "id": "l1-GHq_Bv48Z"
      },
      "source": [
        "import spacy"
      ],
      "execution_count": 10,
      "outputs": []
    },
    {
      "cell_type": "code",
      "metadata": {
        "id": "alHKJiVLxtYW"
      },
      "source": [
        "nlp=spacy.load(\"en_core_web_sm\")"
      ],
      "execution_count": 2,
      "outputs": []
    },
    {
      "cell_type": "code",
      "metadata": {
        "id": "E---oDfQx3LA"
      },
      "source": [
        "txt=nlp(u\"I'm from Pakistan. I like Playing Cricket\") #u is unicode"
      ],
      "execution_count": 3,
      "outputs": []
    },
    {
      "cell_type": "code",
      "metadata": {
        "colab": {
          "base_uri": "https://localhost:8080/"
        },
        "id": "fW63_i71zFYV",
        "outputId": "3323b591-54dc-43e0-810a-502f568cc051"
      },
      "source": [
        "for token in txt:\n",
        "  print(token.text, token.pos_, token.dep_)"
      ],
      "execution_count": 6,
      "outputs": [
        {
          "output_type": "stream",
          "name": "stdout",
          "text": [
            "I PRON nsubj\n",
            "'m AUX ROOT\n",
            "from ADP prep\n",
            "Pakistan PROPN pobj\n",
            ". PUNCT punct\n",
            "I PRON nsubj\n",
            "like VERB ROOT\n",
            "Playing VERB xcomp\n",
            "Cricket PROPN dobj\n"
          ]
        }
      ]
    },
    {
      "cell_type": "code",
      "metadata": {
        "colab": {
          "base_uri": "https://localhost:8080/",
          "height": 35
        },
        "id": "7PsIVTxazPh8",
        "outputId": "f64a4ae8-81ad-48f4-8204-f05fbcc1c5b6"
      },
      "source": [
        "txt[5].pos_"
      ],
      "execution_count": 12,
      "outputs": [
        {
          "output_type": "execute_result",
          "data": {
            "application/vnd.google.colaboratory.intrinsic+json": {
              "type": "string"
            },
            "text/plain": [
              "'PRON'"
            ]
          },
          "metadata": {},
          "execution_count": 12
        }
      ]
    },
    {
      "cell_type": "code",
      "metadata": {
        "id": "ZJhIahdP0T1K"
      },
      "source": [
        "txt2=nlp(u\"This is first line. This is 2nd line.This is third line.This is four line.\")"
      ],
      "execution_count": 8,
      "outputs": []
    },
    {
      "cell_type": "code",
      "metadata": {
        "colab": {
          "base_uri": "https://localhost:8080/"
        },
        "id": "2_vncPEM1Fsi",
        "outputId": "06f5d415-1ebb-4d18-e99b-7fdbf83803e9"
      },
      "source": [
        "for sentence in txt2.sents:\n",
        "  print(sentence)"
      ],
      "execution_count": 9,
      "outputs": [
        {
          "output_type": "stream",
          "name": "stdout",
          "text": [
            "This is first line.\n",
            "This is 2nd line.\n",
            "This is third line.\n",
            "This is four line.\n"
          ]
        }
      ]
    },
    {
      "cell_type": "code",
      "metadata": {
        "id": "8N06W3Am1Mto"
      },
      "source": [
        ""
      ],
      "execution_count": null,
      "outputs": []
    }
  ]
}