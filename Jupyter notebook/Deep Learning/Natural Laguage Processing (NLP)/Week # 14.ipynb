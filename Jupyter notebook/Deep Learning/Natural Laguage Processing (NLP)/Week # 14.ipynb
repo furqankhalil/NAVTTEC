{
 "cells": [
  {
   "cell_type": "markdown",
   "metadata": {},
   "source": [
    "# Regular Expressions"
   ]
  },
  {
   "cell_type": "code",
   "execution_count": 35,
   "metadata": {
    "id": "pqChrIq-OpZo"
   },
   "outputs": [],
   "source": [
    "text=\"My phone number is 111-222-4444 call me soon! \""
   ]
  },
  {
   "cell_type": "code",
   "execution_count": 36,
   "metadata": {
    "colab": {
     "base_uri": "https://localhost:8080/",
     "height": 35
    },
    "id": "TnbcWEqgO6gK",
    "outputId": "80b50a3f-26e5-472d-fc1c-fbe3dd93bfc8"
   },
   "outputs": [
    {
     "data": {
      "text/plain": [
       "'My phone number is 111-222-4444 call me soon! '"
      ]
     },
     "execution_count": 36,
     "metadata": {},
     "output_type": "execute_result"
    }
   ],
   "source": [
    "text"
   ]
  },
  {
   "cell_type": "code",
   "execution_count": 37,
   "metadata": {
    "colab": {
     "base_uri": "https://localhost:8080/"
    },
    "id": "cjoJ9qJ7O7KG",
    "outputId": "6c67f33e-3e32-4bae-ada4-fff7042ad968"
   },
   "outputs": [
    {
     "data": {
      "text/plain": [
       "True"
      ]
     },
     "execution_count": 37,
     "metadata": {},
     "output_type": "execute_result"
    }
   ],
   "source": [
    "'phone' in text"
   ]
  },
  {
   "cell_type": "code",
   "execution_count": 38,
   "metadata": {
    "colab": {
     "base_uri": "https://localhost:8080/"
    },
    "id": "4eNzBWMpO_ZJ",
    "outputId": "a465e4dd-7b94-4c8c-ea2b-e2c85142e739"
   },
   "outputs": [
    {
     "data": {
      "text/plain": [
       "<re.Match object; span=(3, 8), match='phone'>"
      ]
     },
     "execution_count": 38,
     "metadata": {},
     "output_type": "execute_result"
    }
   ],
   "source": [
    "import re\n",
    "pattern='phone'\n",
    "\n",
    "re.search(pattern,text)\n"
   ]
  },
  {
   "cell_type": "code",
   "execution_count": 39,
   "metadata": {
    "colab": {
     "base_uri": "https://localhost:8080/"
    },
    "id": "r29mYyOgPSUg",
    "outputId": "55ad1cb4-e6a1-4ee7-9fd8-5008d6bff390"
   },
   "outputs": [
    {
     "data": {
      "text/plain": [
       "(3, 8)"
      ]
     },
     "execution_count": 39,
     "metadata": {},
     "output_type": "execute_result"
    }
   ],
   "source": [
    "match=re.search(pattern,text)\n",
    "match.span()"
   ]
  },
  {
   "cell_type": "code",
   "execution_count": 40,
   "metadata": {
    "id": "iH5Id51iPZLh"
   },
   "outputs": [],
   "source": [
    "#what if we have to find for mutiple times\n",
    "text=\"my phone is a brand new phone\"\n",
    "pattern='phone'\n",
    "#match=re.search(pattern,text) #it will only find the first time occurence"
   ]
  },
  {
   "cell_type": "code",
   "execution_count": 41,
   "metadata": {
    "colab": {
     "base_uri": "https://localhost:8080/"
    },
    "id": "gSZN2blBP_kO",
    "outputId": "c0da6b7d-259c-4d93-f247-c93be0a7c930"
   },
   "outputs": [
    {
     "name": "stdout",
     "output_type": "stream",
     "text": [
      "<re.Match object; span=(3, 8), match='phone'>\n"
     ]
    },
    {
     "data": {
      "text/plain": [
       "(3, 8)"
      ]
     },
     "execution_count": 41,
     "metadata": {},
     "output_type": "execute_result"
    }
   ],
   "source": [
    "match=re.search(pattern,text)\n",
    "print(match)\n",
    "match.span()"
   ]
  },
  {
   "cell_type": "code",
   "execution_count": 42,
   "metadata": {
    "colab": {
     "base_uri": "https://localhost:8080/"
    },
    "id": "n_NNaj4nQK_Q",
    "outputId": "0763e7aa-d132-4b66-ba9c-b8a2f853e847"
   },
   "outputs": [
    {
     "name": "stdout",
     "output_type": "stream",
     "text": [
      "['phone', 'phone']\n"
     ]
    }
   ],
   "source": [
    "#to find the multiple occurence \n",
    "all_text=re.findall(pattern,text)\n",
    "print(all_text)"
   ]
  },
  {
   "cell_type": "code",
   "execution_count": 43,
   "metadata": {
    "colab": {
     "base_uri": "https://localhost:8080/"
    },
    "id": "e_b85jwFQaKJ",
    "outputId": "8d9beb4b-13e3-44eb-f1f2-c87eeb2354ed"
   },
   "outputs": [
    {
     "data": {
      "text/plain": [
       "2"
      ]
     },
     "execution_count": 43,
     "metadata": {},
     "output_type": "execute_result"
    }
   ],
   "source": [
    "len(all_text)"
   ]
  },
  {
   "cell_type": "code",
   "execution_count": 44,
   "metadata": {
    "colab": {
     "base_uri": "https://localhost:8080/"
    },
    "id": "bO2elmBTQcgZ",
    "outputId": "6cd8eef2-f6f9-495a-aa33-16952a390998"
   },
   "outputs": [
    {
     "name": "stdout",
     "output_type": "stream",
     "text": [
      "phone\n",
      "phone\n"
     ]
    }
   ],
   "source": [
    "for match in re.findall(pattern,text):\n",
    "  print(match)"
   ]
  },
  {
   "cell_type": "code",
   "execution_count": 45,
   "metadata": {
    "id": "mumMCvUTQrUN"
   },
   "outputs": [],
   "source": [
    "#now what if have a pattern but dont know the value\n",
    "\n",
    "text=\"my phone number is 333-888-3333\""
   ]
  },
  {
   "cell_type": "code",
   "execution_count": 46,
   "metadata": {
    "id": "p42Qv7B1Q_WJ"
   },
   "outputs": [],
   "source": [
    "#pattern=r'\\d\\d\\d-\\d\\d\\d-\\d\\d\\d\\d'  #d is used to detect integers\n",
    "\n",
    "pattern=r'\\d{3}-\\d{3}-\\d{4}'\n",
    "\n",
    "ph=re.search(pattern,text)"
   ]
  },
  {
   "cell_type": "code",
   "execution_count": 47,
   "metadata": {
    "colab": {
     "base_uri": "https://localhost:8080/"
    },
    "id": "YGrt_CHoRsIn",
    "outputId": "fde82442-f42d-45d1-f290-59d25c2d52d6"
   },
   "outputs": [
    {
     "data": {
      "text/plain": [
       "<re.Match object; span=(19, 31), match='333-888-3333'>"
      ]
     },
     "execution_count": 47,
     "metadata": {},
     "output_type": "execute_result"
    }
   ],
   "source": [
    "ph"
   ]
  },
  {
   "cell_type": "code",
   "execution_count": 48,
   "metadata": {
    "colab": {
     "base_uri": "https://localhost:8080/",
     "height": 35
    },
    "id": "eMPa5dYsR7HS",
    "outputId": "c695aca7-3942-4561-f471-8f790c3eeb4d"
   },
   "outputs": [
    {
     "data": {
      "text/plain": [
       "'333-888-3333'"
      ]
     },
     "execution_count": 48,
     "metadata": {},
     "output_type": "execute_result"
    }
   ],
   "source": [
    "ph.group()"
   ]
  },
  {
   "cell_type": "code",
   "execution_count": 49,
   "metadata": {
    "id": "w8zUFQXfTf_z"
   },
   "outputs": [],
   "source": [
    "#Now we have to change it in tuple\n",
    "pattern=r'(\\d{3})-(\\d{3})-(\\d{4})'\n",
    "ph=re.search(pattern,text)\n"
   ]
  },
  {
   "cell_type": "code",
   "execution_count": 50,
   "metadata": {
    "colab": {
     "base_uri": "https://localhost:8080/",
     "height": 35
    },
    "id": "phkGx5aTUdo7",
    "outputId": "6711cbef-e508-473e-cd45-7ef71021c7cb"
   },
   "outputs": [
    {
     "data": {
      "text/plain": [
       "'3333'"
      ]
     },
     "execution_count": 50,
     "metadata": {},
     "output_type": "execute_result"
    }
   ],
   "source": [
    "#so by index\n",
    "ph.group(3)"
   ]
  },
  {
   "cell_type": "code",
   "execution_count": 51,
   "metadata": {
    "colab": {
     "base_uri": "https://localhost:8080/"
    },
    "id": "HZpydzVnUikv",
    "outputId": "dbcb4343-c380-4bae-fe89-ce025187846f"
   },
   "outputs": [
    {
     "data": {
      "text/plain": [
       "<re.Match object; span=(5, 8), match='man'>"
      ]
     },
     "execution_count": 51,
     "metadata": {},
     "output_type": "execute_result"
    }
   ],
   "source": [
    "re.search(r\"man|woman\",\"This man is my best friend\")"
   ]
  },
  {
   "cell_type": "code",
   "execution_count": 61,
   "metadata": {
    "colab": {
     "base_uri": "https://localhost:8080/"
    },
    "id": "DhenmUETV15s",
    "outputId": "8364e283-67a4-477e-de9d-2088fec5cd72"
   },
   "outputs": [
    {
     "data": {
      "text/plain": [
       "['man']"
      ]
     },
     "execution_count": 61,
     "metadata": {},
     "output_type": "execute_result"
    }
   ],
   "source": [
    "re.findall(r\"man\",\"This man is my best friend\")"
   ]
  },
  {
   "cell_type": "code",
   "execution_count": 63,
   "metadata": {
    "colab": {
     "base_uri": "https://localhost:8080/"
    },
    "id": "-XFYk9m1V4TI",
    "outputId": "e539bcd9-bfd2-4098-d1d9-20faa72cbd02"
   },
   "outputs": [
    {
     "data": {
      "text/plain": [
       "['3']"
      ]
     },
     "execution_count": 63,
     "metadata": {},
     "output_type": "execute_result"
    }
   ],
   "source": [
    "#TO detect the end we use $ and for start we use ^\n",
    "re.findall(r\"\\d$\",\"This end with number 3\")"
   ]
  },
  {
   "cell_type": "code",
   "execution_count": 54,
   "metadata": {
    "colab": {
     "base_uri": "https://localhost:8080/"
    },
    "id": "M5VncYAaWhxg",
    "outputId": "0f747679-c1ee-4cbe-fca5-f9f2374684a6"
   },
   "outputs": [
    {
     "data": {
      "text/plain": [
       "<re.Match object; span=(0, 1), match='8'>"
      ]
     },
     "execution_count": 54,
     "metadata": {},
     "output_type": "execute_result"
    }
   ],
   "source": [
    "re.search(r\"^\\d\",\"8 is my favrt number 3\")"
   ]
  },
  {
   "cell_type": "code",
   "execution_count": 64,
   "metadata": {
    "colab": {
     "base_uri": "https://localhost:8080/"
    },
    "id": "K44mhwKaWuN_",
    "outputId": "5bd81ae2-ce70-4917-d1e6-aac3797da41a"
   },
   "outputs": [
    {
     "name": "stdout",
     "output_type": "stream",
     "text": [
      "There are 3 numbers 34 inside  5 this sentence 56\n"
     ]
    }
   ],
   "source": [
    "#To Exclude the number from text\n",
    "phrase =\"There are 3 numbers 34 inside  5 this sentence 56\"\n",
    "print(phrase)"
   ]
  },
  {
   "cell_type": "code",
   "execution_count": 66,
   "metadata": {
    "colab": {
     "base_uri": "https://localhost:8080/"
    },
    "id": "-t_zuppzXXD7",
    "outputId": "064afdfd-a4a0-43ad-a94c-6e4b09f3fb98"
   },
   "outputs": [
    {
     "data": {
      "text/plain": [
       "['There are ', ' numbers ', ' inside  ', ' this sentence ']"
      ]
     },
     "execution_count": 66,
     "metadata": {},
     "output_type": "execute_result"
    }
   ],
   "source": [
    "re.findall(r'[^\\d]+',phrase)  #[] is used for excluding"
   ]
  },
  {
   "cell_type": "code",
   "execution_count": 57,
   "metadata": {
    "colab": {
     "base_uri": "https://localhost:8080/"
    },
    "id": "wE8AA8YDXnki",
    "outputId": "0b6565d2-905d-425d-a72a-cd9857d99a52"
   },
   "outputs": [
    {
     "data": {
      "text/plain": [
       "['This is a string', ' but it has punctuation', ' How to remove it', ' ']"
      ]
     },
     "execution_count": 57,
     "metadata": {},
     "output_type": "execute_result"
    }
   ],
   "source": [
    "#To remove punctuation marks\n",
    "phras2=\"This is a string! but it has punctuation. How to remove it? \"\n",
    "\n",
    "my_list=re.findall(r'[^!.?]+',phras2)\n",
    "my_list"
   ]
  },
  {
   "cell_type": "code",
   "execution_count": 58,
   "metadata": {
    "colab": {
     "base_uri": "https://localhost:8080/",
     "height": 35
    },
    "id": "2BvhkZ6FYcp1",
    "outputId": "6aaed0e2-1b59-4f34-f402-3ad97893a532"
   },
   "outputs": [
    {
     "data": {
      "text/plain": [
       "'This is a string  but it has punctuation  How to remove it  '"
      ]
     },
     "execution_count": 58,
     "metadata": {},
     "output_type": "execute_result"
    }
   ],
   "source": [
    "# we use join method \n",
    "' '.join(my_list)"
   ]
  },
  {
   "cell_type": "markdown",
   "metadata": {
    "id": "39-hY8aHZD6r"
   },
   "source": [
    "sentence = \"He's fast. The boy ran up the hill,he can't come back down!\""
   ]
  },
  {
   "cell_type": "code",
   "execution_count": null,
   "metadata": {},
   "outputs": [],
   "source": [
    "result = sentence.split() "
   ]
  },
  {
   "cell_type": "code",
   "execution_count": null,
   "metadata": {},
   "outputs": [],
   "source": [
    "sentence = \"He has a Ph.D. He's fast. The boy ran up the hill and he can't come back down!\""
   ]
  },
  {
   "cell_type": "code",
   "execution_count": null,
   "metadata": {},
   "outputs": [],
   "source": [
    "result = sentence.split(\". \")\n",
    "print(result)"
   ]
  },
  {
   "cell_type": "code",
   "execution_count": null,
   "metadata": {},
   "outputs": [],
   "source": [
    "txt = \"uno-dos+tres#quatro cinco\" "
   ]
  },
  {
   "cell_type": "code",
   "execution_count": null,
   "metadata": {},
   "outputs": [],
   "source": [
    "result = print(re.split('\\W+',txt))"
   ]
  },
  {
   "cell_type": "code",
   "execution_count": null,
   "metadata": {},
   "outputs": [],
   "source": [
    "num = 'one-two-three-#four'"
   ]
  },
  {
   "cell_type": "code",
   "execution_count": null,
   "metadata": {},
   "outputs": [],
   "source": [
    "result = print(re.split('[-+#]', num))"
   ]
  },
  {
   "cell_type": "code",
   "execution_count": null,
   "metadata": {},
   "outputs": [],
   "source": [
    "txt1 = 'one and two and three and four and five'\n",
    "result = re.sub(' ','&',txt1)\n",
    "print(result)"
   ]
  },
  {
   "cell_type": "code",
   "execution_count": null,
   "metadata": {},
   "outputs": [],
   "source": [
    "patternwanted = ['nlp course', 'advanced']\n",
    "string = 'The best nlp course for beginners, with awesome practical projects'\n",
    "\n",
    "for pattern in patternwanted:\n",
    "  print ('Looking for \"%s\" in \"%s\" :\\n' % (pattern, string), end=' ')\n",
    "\n",
    "  if re.search(pattern, string):\n",
    "    print('yayy search successful!!:\\n ')\n",
    "  else: \n",
    "    print('oh no :( we did not find anything')"
   ]
  },
  {
   "cell_type": "code",
   "execution_count": null,
   "metadata": {},
   "outputs": [],
   "source": [
    "contact_details = \"Duke Richards 123-1233 duke@dukeemail.com Joe Denver 2020/JAN/05 joe@mrdenvergmail.com 2020/Dec/24 my_name77@hotmail.com John Black +4478564000\"\n",
    "emailinfo = re.findall(r'[\\w\\.-]+@[\\w\\.-]+', contact_details)\n",
    "\n",
    "for email in emailinfo:\n",
    "  print(email)\n"
   ]
  },
  {
   "cell_type": "markdown",
   "metadata": {},
   "source": [
    "# NLP_Spacy"
   ]
  },
  {
   "cell_type": "code",
   "execution_count": null,
   "metadata": {},
   "outputs": [],
   "source": [
    "import spacy"
   ]
  },
  {
   "cell_type": "code",
   "execution_count": null,
   "metadata": {},
   "outputs": [],
   "source": [
    "nlp=spacy.load(\"en_core_web_sm\")"
   ]
  },
  {
   "cell_type": "code",
   "execution_count": null,
   "metadata": {},
   "outputs": [],
   "source": [
    "for token in doc:\n",
    "  print(f\"{token.text:{8}}  {token.pos:{10}} {token.pos_:{10}}\")"
   ]
  },
  {
   "cell_type": "code",
   "execution_count": null,
   "metadata": {},
   "outputs": [],
   "source": [
    "npl.pipeline  #If you have to identify particular things in text so we use pipeline"
   ]
  },
  {
   "cell_type": "code",
   "execution_count": null,
   "metadata": {},
   "outputs": [],
   "source": [
    "txt=nlp(u\"I'm from Pakistan. I like Playing Cricket\") #u is unicode"
   ]
  },
  {
   "cell_type": "code",
   "execution_count": null,
   "metadata": {},
   "outputs": [],
   "source": [
    "for token in txt:\n",
    "  print(token.text, token.pos_, token.dep_)"
   ]
  },
  {
   "cell_type": "code",
   "execution_count": null,
   "metadata": {},
   "outputs": [],
   "source": [
    "txt[5].pos_"
   ]
  },
  {
   "cell_type": "code",
   "execution_count": null,
   "metadata": {},
   "outputs": [],
   "source": [
    "txt2=nlp(u\"This is first line. This is 2nd line.This is third line.This is four line.\")"
   ]
  },
  {
   "cell_type": "code",
   "execution_count": null,
   "metadata": {},
   "outputs": [],
   "source": [
    "for sentence in txt2.sents:\n",
    "  print(sentence)"
   ]
  }
 ],
 "metadata": {
  "colab": {
   "collapsed_sections": [],
   "name": "NLP_Regex_Ex1.ipynb",
   "provenance": []
  },
  "kernelspec": {
   "display_name": "Python 3",
   "language": "python",
   "name": "python3"
  },
  "language_info": {
   "codemirror_mode": {
    "name": "ipython",
    "version": 3
   },
   "file_extension": ".py",
   "mimetype": "text/x-python",
   "name": "python",
   "nbconvert_exporter": "python",
   "pygments_lexer": "ipython3",
   "version": "3.8.8"
  }
 },
 "nbformat": 4,
 "nbformat_minor": 1
}
