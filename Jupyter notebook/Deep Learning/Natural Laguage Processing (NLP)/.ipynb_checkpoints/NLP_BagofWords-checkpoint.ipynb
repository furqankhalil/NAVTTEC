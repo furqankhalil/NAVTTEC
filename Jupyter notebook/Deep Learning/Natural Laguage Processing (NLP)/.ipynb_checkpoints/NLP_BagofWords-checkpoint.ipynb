{
 "cells": [
  {
   "cell_type": "code",
   "execution_count": 1,
   "metadata": {
    "colab": {
     "base_uri": "https://localhost:8080/"
    },
    "id": "2auvHeONTXcl",
    "outputId": "b87cd91b-87c1-42ad-b571-5972f5e8b4dc"
   },
   "outputs": [
    {
     "name": "stdout",
     "output_type": "stream",
     "text": [
      "[nltk_data] Downloading package punkt to /root/nltk_data...\n",
      "[nltk_data]   Unzipping tokenizers/punkt.zip.\n",
      "[nltk_data] Downloading package stopwords to /root/nltk_data...\n",
      "[nltk_data]   Unzipping corpora/stopwords.zip.\n"
     ]
    },
    {
     "data": {
      "text/plain": [
       "True"
      ]
     },
     "execution_count": 1,
     "metadata": {},
     "output_type": "execute_result"
    }
   ],
   "source": [
    "import nltk\n",
    "nltk.download(\"punkt\")\n",
    "nltk.download(\"stopwords\")"
   ]
  },
  {
   "cell_type": "code",
   "execution_count": 8,
   "metadata": {
    "id": "JFlCSDnXTh6k"
   },
   "outputs": [],
   "source": [
    "para= \"A fox sees a juicy bunch of grapes hanging from a trellised vine and yearns to have them. ... In an attempt to save his reputation and cure his smarting ego, the fox says the grapes were sour anyway, so he never really wanted them.\"\n"
   ]
  },
  {
   "cell_type": "code",
   "execution_count": 16,
   "metadata": {
    "id": "URoC5wC0Zift"
   },
   "outputs": [],
   "source": [
    "#Cleaning the text\n",
    "import re\n",
    "from nltk.stem.porter import PorterStemmer\n",
    "from nltk.corpus import stopwords\n",
    "from nltk.stem import WordNetLemmatizer\n",
    "\n",
    "ps=PorterStemmer()\n",
    "wordnet=WordNetLemmatizer()\n",
    "sentences=nltk.sent_tokenize(para)\n",
    "corpus=[]\n",
    "\n",
    "for i in range(len(sentences)):\n",
    "  review=re.sub('[^\\a-zA-Z]','', sentences[i])\n",
    "  review=review.lower()\n",
    "  review=review.split()\n",
    "  review=[ps.stem(word) for word in review if word not in set(stopwords.words('english'))]\n",
    "  review= ' '.join(review)\n",
    "  corpus.append(review)"
   ]
  },
  {
   "cell_type": "code",
   "execution_count": 17,
   "metadata": {
    "colab": {
     "base_uri": "https://localhost:8080/"
    },
    "id": "FuMLTcTucPGm",
    "outputId": "7a9e5b03-fdfe-4cd1-c98e-9982da34e491"
   },
   "outputs": [
    {
     "name": "stdout",
     "output_type": "stream",
     "text": [
      "['fox see juici bunch grape hang trellis vine yearn them.', '...', 'attempt save reput cure smart ego, fox say grape sour anyway, never realli want them.']\n",
      "A fox sees a juicy bunch of grapes hanging from a trellised vine and yearns to have them. ... In an attempt to save his reputation and cure his smarting ego, the fox says the grapes were sour anyway, so he never really wanted them.\n"
     ]
    }
   ],
   "source": [
    "print(corpus)\n",
    "print(para)"
   ]
  },
  {
   "cell_type": "code",
   "execution_count": 18,
   "metadata": {
    "id": "ZELcl568dybQ"
   },
   "outputs": [],
   "source": [
    "#Creating a bag of words model\n",
    "from sklearn.feature_extraction.text import CountVectorizer\n",
    "cv=CountVectorizer()\n",
    "x_bow=cv.fit_transform(corpus).toarray()"
   ]
  },
  {
   "cell_type": "code",
   "execution_count": 19,
   "metadata": {
    "colab": {
     "base_uri": "https://localhost:8080/"
    },
    "id": "92dw8sDeeKLq",
    "outputId": "0b45ff09-3520-4b1e-9661-63b0b1df7021"
   },
   "outputs": [
    {
     "name": "stdout",
     "output_type": "stream",
     "text": [
      "[[0 0 1 0 0 1 1 1 1 0 0 0 0 0 1 0 0 1 1 1 0 1]\n",
      " [0 0 0 0 0 0 0 0 0 0 0 0 0 0 0 0 0 0 0 0 0 0]\n",
      " [1 1 0 1 1 1 1 0 0 1 1 1 1 1 0 1 1 1 0 0 1 0]]\n"
     ]
    }
   ],
   "source": [
    "print(x_bow)"
   ]
  },
  {
   "cell_type": "code",
   "execution_count": 20,
   "metadata": {
    "id": "li9Pz0MYeMIL"
   },
   "outputs": [],
   "source": [
    "#tf-IDS vectorizer\n",
    "from sklearn.feature_extraction.text import TfidfVectorizer\n",
    "\n",
    "tfidf_vec = TfidfVectorizer()\n",
    "x_tf=tfidf_vec.fit_transform(corpus).toarray()"
   ]
  },
  {
   "cell_type": "code",
   "execution_count": 21,
   "metadata": {
    "colab": {
     "base_uri": "https://localhost:8080/"
    },
    "id": "zMOEIuRpdfBO",
    "outputId": "a47fd46f-644e-4a7d-bf09-a521eeffe467"
   },
   "outputs": [
    {
     "name": "stdout",
     "output_type": "stream",
     "text": [
      "[[0.         0.         0.338348   0.         0.         0.25732238\n",
      "  0.25732238 0.338348   0.338348   0.         0.         0.\n",
      "  0.         0.         0.338348   0.         0.         0.25732238\n",
      "  0.338348   0.338348   0.         0.338348  ]\n",
      " [0.         0.         0.         0.         0.         0.\n",
      "  0.         0.         0.         0.         0.         0.\n",
      "  0.         0.         0.         0.         0.         0.\n",
      "  0.         0.         0.         0.        ]\n",
      " [0.26982522 0.26982522 0.         0.26982522 0.26982522 0.20520903\n",
      "  0.20520903 0.         0.         0.26982522 0.26982522 0.26982522\n",
      "  0.26982522 0.26982522 0.         0.26982522 0.26982522 0.20520903\n",
      "  0.         0.         0.26982522 0.        ]]\n"
     ]
    }
   ],
   "source": [
    "print(x_tf)"
   ]
  },
  {
   "cell_type": "code",
   "execution_count": null,
   "metadata": {
    "id": "clqVZ9jfiexL"
   },
   "outputs": [],
   "source": []
  }
 ],
 "metadata": {
  "colab": {
   "collapsed_sections": [],
   "name": "NLP_BagofWords.ipynb",
   "provenance": []
  },
  "kernelspec": {
   "display_name": "Python 3",
   "language": "python",
   "name": "python3"
  },
  "language_info": {
   "codemirror_mode": {
    "name": "ipython",
    "version": 3
   },
   "file_extension": ".py",
   "mimetype": "text/x-python",
   "name": "python",
   "nbconvert_exporter": "python",
   "pygments_lexer": "ipython3",
   "version": "3.8.8"
  }
 },
 "nbformat": 4,
 "nbformat_minor": 1
}
