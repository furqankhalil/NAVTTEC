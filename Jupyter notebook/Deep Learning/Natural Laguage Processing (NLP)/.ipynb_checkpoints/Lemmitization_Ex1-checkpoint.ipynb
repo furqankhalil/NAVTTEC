{
 "cells": [
  {
   "cell_type": "code",
   "execution_count": 1,
   "metadata": {
    "id": "pON5IJZjp0Nr"
   },
   "outputs": [],
   "source": [
    "import spacy"
   ]
  },
  {
   "cell_type": "code",
   "execution_count": 2,
   "metadata": {
    "id": "AQUiPeUYp7Lq"
   },
   "outputs": [],
   "source": [
    "#To Load English Library\n",
    "nlp=spacy.load('en_core_web_sm')"
   ]
  },
  {
   "cell_type": "code",
   "execution_count": 3,
   "metadata": {
    "id": "6b5dkD8BqC1M"
   },
   "outputs": [],
   "source": [
    "doc1=nlp('I am a runner running in the race because i like to run since i ran this morning.')"
   ]
  },
  {
   "cell_type": "code",
   "execution_count": 4,
   "metadata": {
    "colab": {
     "base_uri": "https://localhost:8080/"
    },
    "id": "N5Jqz2x3qe7m",
    "outputId": "c95e7366-d5c5-40ad-af64-f8151278f883"
   },
   "outputs": [
    {
     "name": "stdout",
     "output_type": "stream",
     "text": [
      "I         PRON      -PRON-         \n",
      "am        AUX       be             \n",
      "a         DET       a              \n",
      "runner    NOUN      runner         \n",
      "running   VERB      run            \n",
      "in        ADP       in             \n",
      "the       DET       the            \n",
      "race      NOUN      race           \n",
      "because   SCONJ     because        \n",
      "i         PRON      i              \n",
      "like      VERB      like           \n",
      "to        PART      to             \n",
      "run       VERB      run            \n",
      "since     SCONJ     since          \n",
      "i         PRON      i              \n",
      "ran       VERB      run            \n",
      "this      DET       this           \n",
      "morning   NOUN      morning        \n",
      ".         PUNCT     .              \n"
     ]
    }
   ],
   "source": [
    "for token in doc1:\n",
    "  print(f\"{token.text:{10}}{token.pos_:{10}}{token.lemma_:{15}}\")"
   ]
  },
  {
   "cell_type": "code",
   "execution_count": 5,
   "metadata": {
    "id": "-rd13OofrBMl"
   },
   "outputs": [],
   "source": [
    "def show_lemma(text):\n",
    "  for token in text:\n",
    "    print(f\"{token.text:{10}}{token.pos_:{10}}{token.lemma_:{15}}\")"
   ]
  },
  {
   "cell_type": "code",
   "execution_count": 6,
   "metadata": {
    "id": "tMqiZhL1s4zn"
   },
   "outputs": [],
   "source": [
    "doc2=nlp(u'He easily qualify the test, he also start studying for next Examination.')"
   ]
  },
  {
   "cell_type": "code",
   "execution_count": 8,
   "metadata": {
    "colab": {
     "base_uri": "https://localhost:8080/"
    },
    "id": "4FtkLPG0t_4n",
    "outputId": "548261bb-c1d2-44fd-fa38-cc710908717f"
   },
   "outputs": [
    {
     "name": "stdout",
     "output_type": "stream",
     "text": [
      "He        PRON      -PRON-         \n",
      "easily    ADV       easily         \n",
      "qualify   VERB      qualify        \n",
      "the       DET       the            \n",
      "test      NOUN      test           \n",
      ",         PUNCT     ,              \n",
      "he        PRON      -PRON-         \n",
      "also      ADV       also           \n",
      "start     VERB      start          \n",
      "studying  VERB      study          \n",
      "for       ADP       for            \n",
      "next      ADJ       next           \n",
      "ExaminationPROPN     Examination    \n",
      ".         PUNCT     .              \n"
     ]
    }
   ],
   "source": [
    "show_lemma(doc2)"
   ]
  },
  {
   "cell_type": "code",
   "execution_count": null,
   "metadata": {
    "id": "rgfQPJ0euCoH"
   },
   "outputs": [],
   "source": []
  }
 ],
 "metadata": {
  "colab": {
   "collapsed_sections": [],
   "name": "Lemmitization_Ex1.ipynb",
   "provenance": []
  },
  "kernelspec": {
   "display_name": "Python 3",
   "language": "python",
   "name": "python3"
  },
  "language_info": {
   "codemirror_mode": {
    "name": "ipython",
    "version": 3
   },
   "file_extension": ".py",
   "mimetype": "text/x-python",
   "name": "python",
   "nbconvert_exporter": "python",
   "pygments_lexer": "ipython3",
   "version": "3.8.8"
  }
 },
 "nbformat": 4,
 "nbformat_minor": 1
}
