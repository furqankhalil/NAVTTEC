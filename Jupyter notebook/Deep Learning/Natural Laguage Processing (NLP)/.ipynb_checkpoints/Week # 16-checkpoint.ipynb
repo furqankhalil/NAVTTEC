{
 "cells": [
  {
   "cell_type": "code",
   "execution_count": 1,
   "metadata": {
    "id": "jjq-SCNLzcPh"
   },
   "outputs": [],
   "source": [
    "import spacy"
   ]
  },
  {
   "cell_type": "code",
   "execution_count": 2,
   "metadata": {
    "id": "PIlrr6OFzpcT"
   },
   "outputs": [],
   "source": [
    "nlp=spacy.load('en_core_web_sm')"
   ]
  },
  {
   "cell_type": "code",
   "execution_count": 3,
   "metadata": {
    "id": "HwYR8AF0zuSE"
   },
   "outputs": [],
   "source": [
    "doc1=nlp(u\"The Quick Brown Fox jump over the lazy dog's back.\")"
   ]
  },
  {
   "cell_type": "code",
   "execution_count": 4,
   "metadata": {
    "colab": {
     "base_uri": "https://localhost:8080/"
    },
    "id": "OdRG_XeR1CZO",
    "outputId": "ff694344-c656-4536-c56f-f046dba5981e"
   },
   "outputs": [
    {
     "name": "stdout",
     "output_type": "stream",
     "text": [
      "The Quick Brown Fox jump over the lazy dog's back.\n"
     ]
    }
   ],
   "source": [
    "print(doc1.text)"
   ]
  },
  {
   "cell_type": "code",
   "execution_count": 5,
   "metadata": {
    "colab": {
     "base_uri": "https://localhost:8080/"
    },
    "id": "NZsEhFlO1Nia",
    "outputId": "bb5e2256-b975-4baa-dcd3-98a9c7993c01"
   },
   "outputs": [
    {
     "name": "stdout",
     "output_type": "stream",
     "text": [
      "NOUN\n"
     ]
    }
   ],
   "source": [
    "print(doc1[4].pos_)"
   ]
  },
  {
   "cell_type": "code",
   "execution_count": 6,
   "metadata": {
    "colab": {
     "base_uri": "https://localhost:8080/"
    },
    "id": "6mjL9niz1Y9w",
    "outputId": "a7627464-04b4-49a3-c4ca-6f77d2dbbd5c"
   },
   "outputs": [
    {
     "name": "stdout",
     "output_type": "stream",
     "text": [
      "NN\n"
     ]
    }
   ],
   "source": [
    "print(doc1[4].tag_)"
   ]
  },
  {
   "cell_type": "code",
   "execution_count": 9,
   "metadata": {
    "colab": {
     "base_uri": "https://localhost:8080/"
    },
    "id": "0dVsqoJX1mth",
    "outputId": "ba455205-b312-43bf-82f3-2531870cd95d"
   },
   "outputs": [
    {
     "name": "stdout",
     "output_type": "stream",
     "text": [
      "The        DET        DT         determiner\n",
      "Quick      PROPN      NNP        noun, proper singular\n",
      "Brown      PROPN      NNP        noun, proper singular\n",
      "Fox        PROPN      NNP        noun, proper singular\n",
      "jump       NOUN       NN         noun, singular or mass\n",
      "over       ADP        IN         conjunction, subordinating or preposition\n",
      "the        DET        DT         determiner\n",
      "lazy       ADJ        JJ         adjective \n",
      "dog        NOUN       NN         noun, singular or mass\n",
      "'s         PART       POS        possessive ending\n",
      "back       NOUN       NN         noun, singular or mass\n",
      ".          PUNCT      .          punctuation mark, sentence closer\n"
     ]
    }
   ],
   "source": [
    "for token in doc1:\n",
    "  print(f\"{token.text:{10}} {token.pos_:{10}} {token.tag_:{10}} {spacy.explain(token.tag_):{10}}\")"
   ]
  },
  {
   "cell_type": "code",
   "execution_count": null,
   "metadata": {
    "id": "tyItjdQ12SGq"
   },
   "outputs": [],
   "source": [
    "doc2=nlp(\" I read a book on NLP\")"
   ]
  },
  {
   "cell_type": "code",
   "execution_count": null,
   "metadata": {
    "colab": {
     "base_uri": "https://localhost:8080/",
     "height": 35
    },
    "id": "rqu-fUVF20a8",
    "outputId": "9bad5208-4020-4d39-a32b-4623ce12c822"
   },
   "outputs": [
    {
     "data": {
      "application/vnd.google.colaboratory.intrinsic+json": {
       "type": "string"
      },
      "text/plain": [
       "'VERB'"
      ]
     },
     "execution_count": 9,
     "metadata": {},
     "output_type": "execute_result"
    }
   ],
   "source": [
    "doc2[2].pos_"
   ]
  },
  {
   "cell_type": "code",
   "execution_count": null,
   "metadata": {
    "colab": {
     "base_uri": "https://localhost:8080/"
    },
    "id": "2I5J-Vcr23gU",
    "outputId": "394562d4-628a-42c4-ab62-f844374384e5"
   },
   "outputs": [
    {
     "name": "stdout",
     "output_type": "stream",
     "text": [
      "The        DET        DT         determiner\n",
      "Quick      PROPN      NNP        noun, proper singular\n",
      "Brown      PROPN      NNP        noun, proper singular\n",
      "Fox        PROPN      NNP        noun, proper singular\n",
      "jump       NOUN       NN         noun, singular or mass\n",
      "over       ADP        IN         conjunction, subordinating or preposition\n",
      "the        DET        DT         determiner\n",
      "lazy       ADJ        JJ         adjective \n",
      "dog        NOUN       NN         noun, singular or mass\n",
      "'s         PART       POS        possessive ending\n",
      "back       NOUN       NN         noun, singular or mass\n",
      ".          PUNCT      .          punctuation mark, sentence closer\n"
     ]
    }
   ],
   "source": [
    "for token in doc1:\n",
    "  print(f\"{token.text:{10}} {token.pos_:{10}} {token.tag_:{10}} {spacy.explain(token.tag_):{10}}\")"
   ]
  },
  {
   "cell_type": "code",
   "execution_count": null,
   "metadata": {
    "id": "k9x25b_v28gP"
   },
   "outputs": [],
   "source": [
    "doc3=nlp(u\"The Quick Brown Fox jump over the lazy dog's back.\")"
   ]
  },
  {
   "cell_type": "code",
   "execution_count": null,
   "metadata": {
    "id": "kNPnn0KN3ggC"
   },
   "outputs": [],
   "source": [
    "pos_counts=doc3.count_by(spacy.attrs.POS)"
   ]
  },
  {
   "cell_type": "code",
   "execution_count": null,
   "metadata": {
    "colab": {
     "base_uri": "https://localhost:8080/"
    },
    "id": "pCa6DM-23pza",
    "outputId": "7c388822-dd58-4618-89d2-d6fe81d5406e"
   },
   "outputs": [
    {
     "name": "stdout",
     "output_type": "stream",
     "text": [
      "{90: 2, 96: 3, 92: 3, 85: 1, 84: 1, 94: 1, 97: 1}\n"
     ]
    }
   ],
   "source": [
    "#It will tell us about the counting of pos\n",
    "print(pos_count)"
   ]
  },
  {
   "cell_type": "code",
   "execution_count": null,
   "metadata": {
    "colab": {
     "base_uri": "https://localhost:8080/",
     "height": 35
    },
    "id": "V2zajiRA3tKh",
    "outputId": "156fa000-3503-44b2-d3da-4ee9f1005f61"
   },
   "outputs": [
    {
     "data": {
      "application/vnd.google.colaboratory.intrinsic+json": {
       "type": "string"
      },
      "text/plain": [
       "'PROPN'"
      ]
     },
     "execution_count": 16,
     "metadata": {},
     "output_type": "execute_result"
    }
   ],
   "source": [
    "#To check it from the code\n",
    "doc3.vocab[96].text\n"
   ]
  },
  {
   "cell_type": "code",
   "execution_count": null,
   "metadata": {
    "colab": {
     "base_uri": "https://localhost:8080/",
     "height": 35
    },
    "id": "_2Vzrfel4FOi",
    "outputId": "e60ab547-a753-4a82-d186-83e6e8c14f3c"
   },
   "outputs": [
    {
     "data": {
      "application/vnd.google.colaboratory.intrinsic+json": {
       "type": "string"
      },
      "text/plain": [
       "'PROPN'"
      ]
     },
     "execution_count": 19,
     "metadata": {},
     "output_type": "execute_result"
    }
   ],
   "source": [
    "doc3[3].pos_"
   ]
  },
  {
   "cell_type": "code",
   "execution_count": null,
   "metadata": {
    "colab": {
     "base_uri": "https://localhost:8080/"
    },
    "id": "9BQWwVW24kdX",
    "outputId": "65f5d906-d073-4696-cd17-937184295a64"
   },
   "outputs": [
    {
     "name": "stdout",
     "output_type": "stream",
     "text": [
      "84 ADJ        1\n",
      "85 ADP        1\n",
      "90 DET        2\n",
      "92 NOUN       3\n",
      "94 PART       1\n",
      "96 PROPN      3\n",
      "97 PUNCT      1\n"
     ]
    }
   ],
   "source": [
    "#To find all the counts\n",
    "for k,v in sorted(pos_counts.items()):\n",
    "  print(f\"{k} {doc3.vocab[k].text:{6}}{v:{6}}\")"
   ]
  },
  {
   "cell_type": "code",
   "execution_count": null,
   "metadata": {
    "colab": {
     "base_uri": "https://localhost:8080/"
    },
    "id": "aOpDMxnA6Lzw",
    "outputId": "d3a1fe5b-18bc-40b8-90e4-cd1df456df7f"
   },
   "outputs": [
    {
     "name": "stdout",
     "output_type": "stream",
     "text": [
      "74   POS        1\n",
      "1292078113972184607   IN         1\n",
      "10554686591937588953   JJ         1\n",
      "12646065887601541794   .          1\n",
      "15267657372422890137   DT         2\n",
      "15308085513773655218   NN         3\n",
      "15794550382381185553   NNP        3\n"
     ]
    }
   ],
   "source": [
    "#To find the tag\n",
    "tag_counts=doc3.count_by(spacy.attrs.TAG)\n",
    "for k,v in sorted(tag_counts.items()):\n",
    "  print(f\"{k}   {doc3.vocab[k].text:{6}}{v:{6}}\")"
   ]
  },
  {
   "cell_type": "code",
   "execution_count": null,
   "metadata": {
    "id": "EgTtB49T8584"
   },
   "outputs": [],
   "source": []
  }
 ],
 "metadata": {
  "colab": {
   "collapsed_sections": [],
   "name": "POS_Ex1.ipynb",
   "provenance": []
  },
  "kernelspec": {
   "display_name": "Python 3",
   "language": "python",
   "name": "python3"
  },
  "language_info": {
   "codemirror_mode": {
    "name": "ipython",
    "version": 3
   },
   "file_extension": ".py",
   "mimetype": "text/x-python",
   "name": "python",
   "nbconvert_exporter": "python",
   "pygments_lexer": "ipython3",
   "version": "3.8.8"
  }
 },
 "nbformat": 4,
 "nbformat_minor": 1
}
