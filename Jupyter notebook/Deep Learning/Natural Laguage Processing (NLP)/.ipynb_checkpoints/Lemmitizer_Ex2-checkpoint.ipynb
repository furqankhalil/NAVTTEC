{
 "cells": [
  {
   "cell_type": "code",
   "execution_count": 3,
   "metadata": {
    "id": "_QBCFeNtbbwx"
   },
   "outputs": [],
   "source": [
    "import nltk\n"
   ]
  },
  {
   "cell_type": "code",
   "execution_count": 4,
   "metadata": {
    "id": "BzR3z089bhWy"
   },
   "outputs": [],
   "source": [
    "from nltk.stem import WordNetLemmatizer"
   ]
  },
  {
   "cell_type": "code",
   "execution_count": 5,
   "metadata": {
    "id": "OoxKZFevb1E9"
   },
   "outputs": [],
   "source": [
    "from nltk.corpus import stopwords"
   ]
  },
  {
   "cell_type": "code",
   "execution_count": 6,
   "metadata": {
    "colab": {
     "base_uri": "https://localhost:8080/"
    },
    "id": "AnkacNC3b-TJ",
    "outputId": "ea71eead-6125-433c-f81f-71b6892b1273"
   },
   "outputs": [
    {
     "name": "stdout",
     "output_type": "stream",
     "text": [
      "[nltk_data] Downloading package gutenberg to /root/nltk_data...\n",
      "[nltk_data]   Unzipping corpora/gutenberg.zip.\n"
     ]
    },
    {
     "data": {
      "text/plain": [
       "True"
      ]
     },
     "execution_count": 6,
     "metadata": {},
     "output_type": "execute_result"
    }
   ],
   "source": [
    "from nltk.corpus import gutenberg\n",
    "nltk.download('gutenberg')"
   ]
  },
  {
   "cell_type": "code",
   "execution_count": 7,
   "metadata": {
    "id": "i0B3OVobdG6C"
   },
   "outputs": [],
   "source": [
    "#sample=gutenberg.raw(\"bryant-stories.txt\")\n",
    "sample=\"Once a fox was very hungry. He was roaming about in search of food. It reached a garden. Some branches of ripe grapes were hanging down a vine. The mouth of the fox watered to eat them.But the garden wall was very low. It jumped over the garden wall to reach the branches of grapes. He could not reach them. He jumped again and again but failed to get at them. He was completely tired. He realized that it was impossible for it to reach the grapes. He went away saying, they are sour and not good to eat. I eat them, I shall fall ill.\""
   ]
  },
  {
   "cell_type": "code",
   "execution_count": null,
   "metadata": {
    "id": "vlKibHgNidSj"
   },
   "outputs": [],
   "source": []
  },
  {
   "cell_type": "code",
   "execution_count": 8,
   "metadata": {
    "colab": {
     "base_uri": "https://localhost:8080/"
    },
    "id": "ekOPmgA7dy8U",
    "outputId": "a74afb19-72c6-42cf-f4f7-119ae2ff65b6"
   },
   "outputs": [
    {
     "name": "stdout",
     "output_type": "stream",
     "text": [
      "Once a fox was very hungry. He was roaming about in search of food. It reached a garden. Some branches of ripe grapes were hanging down a vine. The mouth of the fox watered to eat them.But the garden wall was very low. It jumped over the garden wall to reach the branches of grapes. He could not reach them. He jumped again and again but failed to get at them. He was completely tired. He realized that it was impossible for it to reach the grapes. He went away saying, they are sour and not good to eat. I eat them, I shall fall ill.\n"
     ]
    }
   ],
   "source": [
    "para=sample\n",
    "print(para)"
   ]
  },
  {
   "cell_type": "code",
   "execution_count": 10,
   "metadata": {
    "colab": {
     "base_uri": "https://localhost:8080/"
    },
    "id": "SWItAESed_Cj",
    "outputId": "82e75144-5de2-4a50-a3f5-ca82b23a4691"
   },
   "outputs": [
    {
     "name": "stdout",
     "output_type": "stream",
     "text": [
      "[nltk_data] Downloading package punkt to /root/nltk_data...\n",
      "[nltk_data]   Package punkt is already up-to-date!\n",
      "12\n",
      "['Once a fox was very hungry.', 'He was roaming about in search of food.', 'It reached a garden.', 'Some branches of ripe grapes were hanging down a vine.', 'The mouth of the fox watered to eat them.But the garden wall was very low.', 'It jumped over the garden wall to reach the branches of grapes.', 'He could not reach them.', 'He jumped again and again but failed to get at them.', 'He was completely tired.', 'He realized that it was impossible for it to reach the grapes.', 'He went away saying, they are sour and not good to eat.', 'I eat them, I shall fall ill.']\n"
     ]
    }
   ],
   "source": [
    "nltk.download('punkt')\n",
    "sentences=nltk.sent_tokenize(para)\n",
    "print(len(sentences))\n",
    "print(sentences)"
   ]
  },
  {
   "cell_type": "code",
   "execution_count": 11,
   "metadata": {
    "id": "JcClQmSze4zv"
   },
   "outputs": [],
   "source": [
    "lemmatizer=WordNetLemmatizer()"
   ]
  },
  {
   "cell_type": "code",
   "execution_count": 12,
   "metadata": {
    "colab": {
     "base_uri": "https://localhost:8080/"
    },
    "id": "4DTn5lCkjRJc",
    "outputId": "f1feb27e-ac6a-420b-f686-21be21ed2f84"
   },
   "outputs": [
    {
     "name": "stdout",
     "output_type": "stream",
     "text": [
      "[nltk_data] Downloading package stopwords to /root/nltk_data...\n",
      "[nltk_data]   Unzipping corpora/stopwords.zip.\n",
      "[nltk_data] Downloading package wordnet to /root/nltk_data...\n",
      "[nltk_data]   Unzipping corpora/wordnet.zip.\n"
     ]
    },
    {
     "data": {
      "text/plain": [
       "True"
      ]
     },
     "execution_count": 12,
     "metadata": {},
     "output_type": "execute_result"
    }
   ],
   "source": [
    "nltk.download('stopwords')\n",
    "nltk.download('wordnet')"
   ]
  },
  {
   "cell_type": "code",
   "execution_count": 13,
   "metadata": {
    "colab": {
     "base_uri": "https://localhost:8080/"
    },
    "id": "oAEpFKRzfIxT",
    "outputId": "754d65ca-7218-479b-e08b-3cfe0edca933"
   },
   "outputs": [
    {
     "name": "stdout",
     "output_type": "stream",
     "text": [
      "Once fox hungry .\n",
      "He roaming search food .\n",
      "It reached garden .\n",
      "Some branch ripe grape hanging vine .\n",
      "The mouth fox watered eat them.But garden wall low .\n",
      "It jumped garden wall reach branch grape .\n",
      "He could reach .\n",
      "He jumped failed get .\n",
      "He completely tired .\n",
      "He realized impossible reach grape .\n",
      "He went away saying , sour good eat .\n",
      "I eat , I shall fall ill .\n"
     ]
    }
   ],
   "source": [
    "#Lemmatization\n",
    "\n",
    "for i in range(len(sentences)):\n",
    "  words=nltk.word_tokenize(sentences[i])\n",
    "  #applying the list comprehension\n",
    "  words=[lemmatizer.lemmatize(word) for word in words if word not in set(stopwords.words('english'))]\n",
    "  sentences[i]=' '.join(words)\n",
    "  print(sentences[i])"
   ]
  },
  {
   "cell_type": "code",
   "execution_count": null,
   "metadata": {
    "colab": {
     "base_uri": "https://localhost:8080/"
    },
    "id": "DX9Wak79gfkN",
    "outputId": "f520c93c-5527-4ab2-a4c9-9da85284e03b"
   },
   "outputs": [
    {
     "name": "stdout",
     "output_type": "stream",
     "text": [
      "The soft little voice answered , `` It '\n"
     ]
    }
   ],
   "source": []
  },
  {
   "cell_type": "code",
   "execution_count": 15,
   "metadata": {
    "colab": {
     "base_uri": "https://localhost:8080/"
    },
    "id": "1livOKvvhuSx",
    "outputId": "8a725703-3598-41ca-ef9f-d7428f641467"
   },
   "outputs": [
    {
     "name": "stdout",
     "output_type": "stream",
     "text": [
      "26\n"
     ]
    }
   ],
   "source": [
    "print(len(sentences[i]))"
   ]
  },
  {
   "cell_type": "code",
   "execution_count": null,
   "metadata": {
    "id": "jypYijamilKQ"
   },
   "outputs": [],
   "source": []
  }
 ],
 "metadata": {
  "colab": {
   "collapsed_sections": [],
   "name": "Lemmitizer_Ex2.ipynb",
   "provenance": []
  },
  "kernelspec": {
   "display_name": "Python 3",
   "language": "python",
   "name": "python3"
  },
  "language_info": {
   "codemirror_mode": {
    "name": "ipython",
    "version": 3
   },
   "file_extension": ".py",
   "mimetype": "text/x-python",
   "name": "python",
   "nbconvert_exporter": "python",
   "pygments_lexer": "ipython3",
   "version": "3.8.8"
  }
 },
 "nbformat": 4,
 "nbformat_minor": 1
}
