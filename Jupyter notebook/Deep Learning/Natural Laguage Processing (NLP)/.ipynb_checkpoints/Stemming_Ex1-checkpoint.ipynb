{
 "cells": [
  {
   "cell_type": "markdown",
   "metadata": {
    "id": "Uid_eKCylSt4"
   },
   "source": [
    "**Stemming:**Technique in which a word is reduce to its root word.\n",
    "\n",
    "Playing------> Play\n",
    "Boating------>Boat\n",
    "Easily-------> Easy\n",
    "\n"
   ]
  },
  {
   "cell_type": "code",
   "execution_count": 1,
   "metadata": {
    "id": "mrULg15Ak7wU"
   },
   "outputs": [],
   "source": [
    "import nltk"
   ]
  },
  {
   "cell_type": "code",
   "execution_count": 2,
   "metadata": {
    "id": "sCAa9PnOmZcH"
   },
   "outputs": [],
   "source": [
    "from nltk.stem.porter import PorterStemmer"
   ]
  },
  {
   "cell_type": "code",
   "execution_count": 3,
   "metadata": {
    "id": "8bIueFD_mmFL"
   },
   "outputs": [],
   "source": [
    "#Its an old technique\n",
    "p_stemmer=PorterStemmer()"
   ]
  },
  {
   "cell_type": "code",
   "execution_count": 4,
   "metadata": {
    "id": "C4gFVX9Kmqob"
   },
   "outputs": [],
   "source": [
    "words=['run','runner','runs','Easily','fairly']"
   ]
  },
  {
   "cell_type": "code",
   "execution_count": 5,
   "metadata": {
    "colab": {
     "base_uri": "https://localhost:8080/"
    },
    "id": "2dZ2r2RYm6O7",
    "outputId": "f7c066ca-6508-4039-9f95-6d0db0f664c2"
   },
   "outputs": [
    {
     "name": "stdout",
     "output_type": "stream",
     "text": [
      "run -----> run\n",
      "runner -----> runner\n",
      "runs -----> run\n",
      "Easily -----> easili\n",
      "fairly -----> fairli\n"
     ]
    }
   ],
   "source": [
    "for word in words:\n",
    "  print(word,'----->',p_stemmer.stem(word))"
   ]
  },
  {
   "cell_type": "code",
   "execution_count": 6,
   "metadata": {
    "id": "ynx-aBh-nN6n"
   },
   "outputs": [],
   "source": [
    "#2nd technique we used for stemming is snowball Stemmer\n",
    "\n",
    "from nltk.stem.snowball import SnowballStemmer"
   ]
  },
  {
   "cell_type": "code",
   "execution_count": 7,
   "metadata": {
    "id": "niMG5WxRn_TR"
   },
   "outputs": [],
   "source": [
    "#You have to tell on which language you are performing the stemming\n",
    "snow=SnowballStemmer(language='english')"
   ]
  },
  {
   "cell_type": "code",
   "execution_count": 8,
   "metadata": {
    "colab": {
     "base_uri": "https://localhost:8080/"
    },
    "id": "80DeKN3OoFff",
    "outputId": "b4238384-630e-41e4-b9bf-3e722a7d9cd1"
   },
   "outputs": [
    {
     "name": "stdout",
     "output_type": "stream",
     "text": [
      "run ----> run\n",
      "runner ----> runner\n",
      "runs ----> run\n",
      "Easily ----> easili\n",
      "fairly ----> fair\n"
     ]
    }
   ],
   "source": [
    "for word in words:\n",
    "  print(word,'---->',snow.stem(word))\n"
   ]
  },
  {
   "cell_type": "code",
   "execution_count": 9,
   "metadata": {
    "id": "C7rjR41To7B6"
   },
   "outputs": [],
   "source": [
    "words2=['generous','generation','genereously','generate']"
   ]
  },
  {
   "cell_type": "code",
   "execution_count": 10,
   "metadata": {
    "colab": {
     "base_uri": "https://localhost:8080/"
    },
    "id": "IPlCD5_mpchP",
    "outputId": "4050fb0f-2d4b-47ba-93f0-a02f3e979b3c"
   },
   "outputs": [
    {
     "name": "stdout",
     "output_type": "stream",
     "text": [
      "generous ----> generous\n",
      "generation ----> generat\n",
      "genereously ----> genereous\n",
      "generate ----> generat\n"
     ]
    }
   ],
   "source": [
    "for word in words2:\n",
    "  print(word,'---->',snow.stem(word))"
   ]
  },
  {
   "cell_type": "code",
   "execution_count": null,
   "metadata": {
    "id": "E4lwlqMxpjbo"
   },
   "outputs": [],
   "source": []
  }
 ],
 "metadata": {
  "colab": {
   "collapsed_sections": [],
   "name": "Stemming_Ex1.ipynb",
   "provenance": []
  },
  "kernelspec": {
   "display_name": "Python 3",
   "language": "python",
   "name": "python3"
  },
  "language_info": {
   "codemirror_mode": {
    "name": "ipython",
    "version": 3
   },
   "file_extension": ".py",
   "mimetype": "text/x-python",
   "name": "python",
   "nbconvert_exporter": "python",
   "pygments_lexer": "ipython3",
   "version": "3.8.8"
  }
 },
 "nbformat": 4,
 "nbformat_minor": 1
}
