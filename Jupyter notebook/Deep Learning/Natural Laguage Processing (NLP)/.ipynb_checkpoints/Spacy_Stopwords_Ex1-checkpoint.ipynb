{
 "cells": [
  {
   "cell_type": "code",
   "execution_count": 1,
   "metadata": {
    "id": "7ak762w48Sle"
   },
   "outputs": [],
   "source": [
    "import spacy"
   ]
  },
  {
   "cell_type": "code",
   "execution_count": 2,
   "metadata": {
    "id": "YMZxl79r8bdX"
   },
   "outputs": [],
   "source": [
    "nlp=spacy.load('en_core_web_sm')"
   ]
  },
  {
   "cell_type": "code",
   "execution_count": 3,
   "metadata": {
    "colab": {
     "base_uri": "https://localhost:8080/"
    },
    "id": "M11GBIsO8igO",
    "outputId": "d628f66c-7ce3-47c7-8bb3-7317d750d87c"
   },
   "outputs": [
    {
     "name": "stdout",
     "output_type": "stream",
     "text": [
      "{'six', 'anywhere', '’ve', 'anyone', 'call', 'beside', 'beyond', 'whatever', 'first', 'last', 'across', 'due', 'should', 'please', 'take', 'myself', 'really', 'then', 'whole', 'that', 'empty', 'between', '‘ve', 'down', 'namely', 'somewhere', 'toward', 'about', 'ever', '’d', 'anything', 'thence', 'what', 'beforehand', 'above', 'used', 'has', 'while', 'some', '‘d', 'do', 'nevertheless', 'whoever', 'here', 'besides', 'over', 'already', 'otherwise', 'most', 'been', 'any', 'we', 'nor', 'below', 'seems', 'fifteen', 'have', \"'s\", 'once', 'ca', 'somehow', 'during', 'n‘t', 'using', 'twelve', 'wherein', 'thereby', 'ourselves', 'from', 'just', 'why', 'keep', 'therein', 'with', 'noone', 'ten', 'too', 'become', 'two', 'quite', 'almost', '’m', 'thereupon', 'done', 'say', 'less', 'whom', 'get', 'only', 'own', 'though', 'along', 'although', 'without', 'as', 'something', 'again', 'sixty', 'our', \"'re\", 'for', 'yours', 'yourself', 'the', 'formerly', 'yet', 'each', 'amongst', 'nothing', 'ours', 'you', 'often', 'being', 'neither', 'whenever', 'more', 'serious', 'whereupon', 'was', 'my', 'cannot', 'together', 'doing', 'back', 'anyhow', '‘m', 'before', 'see', 'when', 'via', 'am', 'always', 'anyway', 'still', 'no', 'eleven', 'under', 'since', 'well', 'seem', 'rather', 'few', 'an', 'same', 'sometime', 'among', 'around', 'seeming', 'afterwards', 'made', '’ll', 'now', 'her', 'meanwhile', 'further', \"'m\", 'out', 'in', 'me', 'four', 'also', 'nobody', 'until', 'she', 'none', 'itself', 'nowhere', 'next', 'mine', 'former', 'which', 'because', 'herein', 'name', 'eight', 'whereby', 'might', 'through', 'those', 'hundred', 'full', 'must', 'yourselves', 'by', 'throughout', 'behind', 'at', 'go', 'and', 'a', 'to', 'regarding', 'such', 'were', 'whither', 'indeed', 'your', 'several', \"'ll\", 'into', 'had', 'can', 'other', 'did', 'even', 'them', 'part', 'themselves', 'becomes', 'thru', 'who', 'off', 'hereafter', 'its', 'never', 'therefore', 'may', \"'ve\", 'or', 'could', 'up', '’re', 'per', \"n't\", 'much', 'latter', 'hers', 'every', 'except', 'sometimes', 'became', 'hereby', 'are', 'unless', 'perhaps', 'whether', '’s', 'thus', 'whose', 'both', 'be', 'whereafter', 'make', \"'d\", 'he', 'others', 'front', 'his', 'top', 'very', 'where', 'whence', 'there', 'either', 'thereafter', 'another', 'i', 'seemed', 'third', 'twenty', 'three', 'becoming', 'wherever', 'else', 'show', 'does', 'various', '‘s', 'towards', 'us', 'everything', 'but', 'put', 'this', 'move', 'would', 'onto', 'how', 'hence', 'everyone', 'himself', 'forty', 'enough', 'after', 'many', 'upon', 'not', 'so', 'within', 'elsewhere', 'give', 'of', 'fifty', 'least', 'latterly', 'five', '‘re', 'amount', 'these', 'side', 'him', 'hereupon', 'one', 'someone', 'whereas', 'herself', 'it', 're', 'than', 'bottom', 'if', '‘ll', 'everywhere', 'against', 'nine', 'mostly', 'they', 'is', 'will', 'all', 'n’t', 'their', 'however', 'alone', 'moreover', 'on'}\n"
     ]
    }
   ],
   "source": [
    "#To print all the stop words\n",
    "#Stopwords are those words which donot add meaning to the sentences so we remove it. \n",
    "print(nlp.Defaults.stop_words)"
   ]
  },
  {
   "cell_type": "code",
   "execution_count": 4,
   "metadata": {
    "colab": {
     "base_uri": "https://localhost:8080/"
    },
    "id": "HP00fSiI8zQD",
    "outputId": "12610c81-3f5d-4311-eac2-deb20573375c"
   },
   "outputs": [
    {
     "data": {
      "text/plain": [
       "326"
      ]
     },
     "execution_count": 4,
     "metadata": {},
     "output_type": "execute_result"
    }
   ],
   "source": [
    "len(nlp.Defaults.stop_words)"
   ]
  },
  {
   "cell_type": "code",
   "execution_count": 6,
   "metadata": {
    "colab": {
     "base_uri": "https://localhost:8080/"
    },
    "id": "NEm-2Hrg86Ee",
    "outputId": "baf5891b-82b2-405a-d6ce-f01762efbf76"
   },
   "outputs": [
    {
     "data": {
      "text/plain": [
       "False"
      ]
     },
     "execution_count": 6,
     "metadata": {},
     "output_type": "execute_result"
    }
   ],
   "source": [
    "#To check the word is stop word or not\n",
    "nlp.vocab['Hamza'].is_stop"
   ]
  },
  {
   "cell_type": "code",
   "execution_count": 7,
   "metadata": {
    "id": "rPt7BJzY9K2Z"
   },
   "outputs": [],
   "source": [
    "#there are some words which are usedd in phrases or we have made some shortcuts in chatting so we can add it in the list like Please find the attachment=pfa so we can add it to the stop_words list\n",
    "\n",
    "nlp.Defaults.stop_words.add('pfa')"
   ]
  },
  {
   "cell_type": "code",
   "execution_count": null,
   "metadata": {
    "id": "H6-nvPazhgTv"
   },
   "outputs": [],
   "source": []
  },
  {
   "cell_type": "code",
   "execution_count": 8,
   "metadata": {
    "id": "FLBnQHlV-NTR"
   },
   "outputs": [],
   "source": [
    "#we have to make it true\n",
    "nlp.vocab['pfa'].is_stop=True"
   ]
  },
  {
   "cell_type": "code",
   "execution_count": 9,
   "metadata": {
    "colab": {
     "base_uri": "https://localhost:8080/"
    },
    "id": "nxpAFA-S-c4p",
    "outputId": "6144d8ea-b894-4029-b7dd-670ff17c4afa"
   },
   "outputs": [
    {
     "data": {
      "text/plain": [
       "327"
      ]
     },
     "execution_count": 9,
     "metadata": {},
     "output_type": "execute_result"
    }
   ],
   "source": [
    "len(nlp.Defaults.stop_words)"
   ]
  },
  {
   "cell_type": "code",
   "execution_count": 10,
   "metadata": {
    "colab": {
     "base_uri": "https://localhost:8080/"
    },
    "id": "Oo55R_k2-ubo",
    "outputId": "1003b883-7dfa-42ec-fd91-c6433603ddb1"
   },
   "outputs": [
    {
     "data": {
      "text/plain": [
       "True"
      ]
     },
     "execution_count": 10,
     "metadata": {},
     "output_type": "execute_result"
    }
   ],
   "source": [
    "nlp.vocab['pfa'].is_stop"
   ]
  },
  {
   "cell_type": "code",
   "execution_count": 11,
   "metadata": {
    "id": "1Wza5a2s-yVa"
   },
   "outputs": [],
   "source": [
    "#if we have to remove the word from he stop_word list\n",
    "nlp.Defaults.stop_words.remove('among')"
   ]
  },
  {
   "cell_type": "code",
   "execution_count": 13,
   "metadata": {
    "id": "-WFS91KL_HTP"
   },
   "outputs": [],
   "source": [
    "nlp.vocab['among'].is_stop=False"
   ]
  },
  {
   "cell_type": "code",
   "execution_count": 14,
   "metadata": {
    "colab": {
     "base_uri": "https://localhost:8080/"
    },
    "id": "gf6YPRJo_M8l",
    "outputId": "8652a265-3d5e-4ef3-bb9d-86923bf8f739"
   },
   "outputs": [
    {
     "data": {
      "text/plain": [
       "False"
      ]
     },
     "execution_count": 14,
     "metadata": {},
     "output_type": "execute_result"
    }
   ],
   "source": [
    "#to check\n",
    "nlp.vocab['among'].is_stop"
   ]
  },
  {
   "cell_type": "code",
   "execution_count": null,
   "metadata": {
    "id": "nIuxtgSU_Qhl"
   },
   "outputs": [],
   "source": []
  }
 ],
 "metadata": {
  "colab": {
   "collapsed_sections": [],
   "name": "Spacy_Stopwords_Ex1.ipynb",
   "provenance": []
  },
  "kernelspec": {
   "display_name": "Python 3",
   "language": "python",
   "name": "python3"
  },
  "language_info": {
   "codemirror_mode": {
    "name": "ipython",
    "version": 3
   },
   "file_extension": ".py",
   "mimetype": "text/x-python",
   "name": "python",
   "nbconvert_exporter": "python",
   "pygments_lexer": "ipython3",
   "version": "3.8.8"
  }
 },
 "nbformat": 4,
 "nbformat_minor": 1
}
