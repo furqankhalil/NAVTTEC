{
 "cells": [
  {
   "cell_type": "code",
   "execution_count": 1,
   "metadata": {
    "id": "zNGXa7NthBEq"
   },
   "outputs": [],
   "source": [
    "import spacy"
   ]
  },
  {
   "cell_type": "code",
   "execution_count": 2,
   "metadata": {
    "id": "93ALx2hFhGs_"
   },
   "outputs": [],
   "source": [
    "nlp=spacy.load(\"en_core_web_sm\")"
   ]
  },
  {
   "cell_type": "code",
   "execution_count": 3,
   "metadata": {
    "id": "gc1-xnh9hWVP"
   },
   "outputs": [],
   "source": [
    "doc=nlp(u\"Tesla is Looking for Us Based startup for 6$ Million dollars\")"
   ]
  },
  {
   "cell_type": "code",
   "execution_count": 16,
   "metadata": {
    "colab": {
     "base_uri": "https://localhost:8080/"
    },
    "id": "Z00DSqBfhuSQ",
    "outputId": "0671c17d-c8e0-475f-df35-7e875e414ab2"
   },
   "outputs": [
    {
     "name": "stdout",
     "output_type": "stream",
     "text": [
      "Tesla             96 PROPN     \n",
      "is                87 AUX       \n",
      "Looking          100 VERB      \n",
      "for               85 ADP       \n",
      "Us                95 PRON      \n",
      "Based             96 PROPN     \n",
      "startup           92 NOUN      \n",
      "for               85 ADP       \n",
      "6                 93 NUM       \n",
      "$                 99 SYM       \n",
      "Million           93 NUM       \n",
      "dollars           92 NOUN      \n"
     ]
    }
   ],
   "source": [
    "for token in doc:\n",
    "  print(f\"{token.text:{8}}  {token.pos:{10}} {token.pos_:{10}}\")"
   ]
  },
  {
   "cell_type": "markdown",
   "metadata": {
    "id": "r1VeXFtQh9WP"
   },
   "source": [
    "So spacy is intillegent library which split each words.\n",
    "pos: spacy have specified code for different part of speech.\n",
    "\n"
   ]
  },
  {
   "cell_type": "code",
   "execution_count": null,
   "metadata": {
    "colab": {
     "base_uri": "https://localhost:8080/"
    },
    "id": "-0eVP9s_h0St",
    "outputId": "7f833c59-adf6-4bc0-ab04-38def9ae35ff"
   },
   "outputs": [
    {
     "data": {
      "text/plain": [
       "[('tagger', <spacy.pipeline.pipes.Tagger at 0x7f6d95b98390>),\n",
       " ('parser', <spacy.pipeline.pipes.DependencyParser at 0x7f6d95cc4de0>),\n",
       " ('ner', <spacy.pipeline.pipes.EntityRecognizer at 0x7f6d95d047c0>)]"
      ]
     },
     "execution_count": 12,
     "metadata": {},
     "output_type": "execute_result"
    }
   ],
   "source": [
    "npl.pipeline  #If you have to identify particular things in text so we use pipeline"
   ]
  },
  {
   "cell_type": "code",
   "execution_count": null,
   "metadata": {
    "id": "4r_YWL-sjFfk"
   },
   "outputs": [],
   "source": []
  }
 ],
 "metadata": {
  "colab": {
   "collapsed_sections": [],
   "name": "NLP_Spacy_Ex1.ipynb",
   "provenance": []
  },
  "kernelspec": {
   "display_name": "Python 3",
   "language": "python",
   "name": "python3"
  },
  "language_info": {
   "codemirror_mode": {
    "name": "ipython",
    "version": 3
   },
   "file_extension": ".py",
   "mimetype": "text/x-python",
   "name": "python",
   "nbconvert_exporter": "python",
   "pygments_lexer": "ipython3",
   "version": "3.8.8"
  }
 },
 "nbformat": 4,
 "nbformat_minor": 1
}
