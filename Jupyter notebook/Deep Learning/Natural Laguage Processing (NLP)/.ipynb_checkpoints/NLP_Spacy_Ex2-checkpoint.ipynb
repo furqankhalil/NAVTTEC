{
 "cells": [
  {
   "cell_type": "code",
   "execution_count": 10,
   "metadata": {
    "id": "l1-GHq_Bv48Z"
   },
   "outputs": [],
   "source": [
    "import spacy"
   ]
  },
  {
   "cell_type": "code",
   "execution_count": 2,
   "metadata": {
    "id": "alHKJiVLxtYW"
   },
   "outputs": [],
   "source": [
    "nlp=spacy.load(\"en_core_web_sm\")"
   ]
  },
  {
   "cell_type": "code",
   "execution_count": 3,
   "metadata": {
    "id": "E---oDfQx3LA"
   },
   "outputs": [],
   "source": [
    "txt=nlp(u\"I'm from Pakistan. I like Playing Cricket\") #u is unicode"
   ]
  },
  {
   "cell_type": "code",
   "execution_count": 6,
   "metadata": {
    "colab": {
     "base_uri": "https://localhost:8080/"
    },
    "id": "fW63_i71zFYV",
    "outputId": "3323b591-54dc-43e0-810a-502f568cc051"
   },
   "outputs": [
    {
     "name": "stdout",
     "output_type": "stream",
     "text": [
      "I PRON nsubj\n",
      "'m AUX ROOT\n",
      "from ADP prep\n",
      "Pakistan PROPN pobj\n",
      ". PUNCT punct\n",
      "I PRON nsubj\n",
      "like VERB ROOT\n",
      "Playing VERB xcomp\n",
      "Cricket PROPN dobj\n"
     ]
    }
   ],
   "source": [
    "for token in txt:\n",
    "  print(token.text, token.pos_, token.dep_)"
   ]
  },
  {
   "cell_type": "code",
   "execution_count": 12,
   "metadata": {
    "colab": {
     "base_uri": "https://localhost:8080/",
     "height": 35
    },
    "id": "7PsIVTxazPh8",
    "outputId": "f64a4ae8-81ad-48f4-8204-f05fbcc1c5b6"
   },
   "outputs": [
    {
     "data": {
      "application/vnd.google.colaboratory.intrinsic+json": {
       "type": "string"
      },
      "text/plain": [
       "'PRON'"
      ]
     },
     "execution_count": 12,
     "metadata": {},
     "output_type": "execute_result"
    }
   ],
   "source": [
    "txt[5].pos_"
   ]
  },
  {
   "cell_type": "code",
   "execution_count": 8,
   "metadata": {
    "id": "ZJhIahdP0T1K"
   },
   "outputs": [],
   "source": [
    "txt2=nlp(u\"This is first line. This is 2nd line.This is third line.This is four line.\")"
   ]
  },
  {
   "cell_type": "code",
   "execution_count": 9,
   "metadata": {
    "colab": {
     "base_uri": "https://localhost:8080/"
    },
    "id": "2_vncPEM1Fsi",
    "outputId": "06f5d415-1ebb-4d18-e99b-7fdbf83803e9"
   },
   "outputs": [
    {
     "name": "stdout",
     "output_type": "stream",
     "text": [
      "This is first line.\n",
      "This is 2nd line.\n",
      "This is third line.\n",
      "This is four line.\n"
     ]
    }
   ],
   "source": [
    "for sentence in txt2.sents:\n",
    "  print(sentence)"
   ]
  },
  {
   "cell_type": "code",
   "execution_count": null,
   "metadata": {
    "id": "8N06W3Am1Mto"
   },
   "outputs": [],
   "source": []
  }
 ],
 "metadata": {
  "colab": {
   "collapsed_sections": [],
   "name": "NLP_Spacy_Ex2.ipynb",
   "provenance": []
  },
  "kernelspec": {
   "display_name": "Python 3",
   "language": "python",
   "name": "python3"
  },
  "language_info": {
   "codemirror_mode": {
    "name": "ipython",
    "version": 3
   },
   "file_extension": ".py",
   "mimetype": "text/x-python",
   "name": "python",
   "nbconvert_exporter": "python",
   "pygments_lexer": "ipython3",
   "version": "3.8.8"
  }
 },
 "nbformat": 4,
 "nbformat_minor": 1
}
