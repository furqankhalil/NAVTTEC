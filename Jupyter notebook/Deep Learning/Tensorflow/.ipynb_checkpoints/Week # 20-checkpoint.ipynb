{
 "cells": [
  {
   "cell_type": "code",
   "execution_count": 1,
   "metadata": {
    "executionInfo": {
     "elapsed": 10,
     "status": "ok",
     "timestamp": 1635851709673,
     "user": {
      "displayName": "Asim Shah",
      "photoUrl": "https://lh3.googleusercontent.com/a-/AOh14GgdtnwdLVDEb1HLVqsK2NbJxIrS1JTOklLjndj1=s64",
      "userId": "06064739453259704713"
     },
     "user_tz": -300
    },
    "id": "TBqJJZ86W6xM"
   },
   "outputs": [],
   "source": [
    "import tensorflow as tf\n"
   ]
  },
  {
   "cell_type": "code",
   "execution_count": 2,
   "metadata": {
    "colab": {
     "base_uri": "https://localhost:8080/",
     "height": 35
    },
    "executionInfo": {
     "elapsed": 364,
     "status": "ok",
     "timestamp": 1635851835269,
     "user": {
      "displayName": "Asim Shah",
      "photoUrl": "https://lh3.googleusercontent.com/a-/AOh14GgdtnwdLVDEb1HLVqsK2NbJxIrS1JTOklLjndj1=s64",
      "userId": "06064739453259704713"
     },
     "user_tz": -300
    },
    "id": "0atpLd5DW-G2",
    "outputId": "8504310c-ca1d-432b-def0-2a3917a17715"
   },
   "outputs": [
    {
     "data": {
      "application/vnd.google.colaboratory.intrinsic+json": {
       "type": "string"
      },
      "text/plain": [
       "'2.6.0'"
      ]
     },
     "execution_count": 2,
     "metadata": {},
     "output_type": "execute_result"
    }
   ],
   "source": [
    "tf.__version__"
   ]
  },
  {
   "cell_type": "code",
   "execution_count": 3,
   "metadata": {
    "colab": {
     "base_uri": "https://localhost:8080/"
    },
    "executionInfo": {
     "elapsed": 376,
     "status": "ok",
     "timestamp": 1635851875550,
     "user": {
      "displayName": "Asim Shah",
      "photoUrl": "https://lh3.googleusercontent.com/a-/AOh14GgdtnwdLVDEb1HLVqsK2NbJxIrS1JTOklLjndj1=s64",
      "userId": "06064739453259704713"
     },
     "user_tz": -300
    },
    "id": "nlCVbxemXhPm",
    "outputId": "d04296fb-73cf-4315-ebc2-3793746aa0ea"
   },
   "outputs": [
    {
     "name": "stdout",
     "output_type": "stream",
     "text": [
      "WARNING:tensorflow:From <ipython-input-3-17bb7203622b>:1: is_gpu_available (from tensorflow.python.framework.test_util) is deprecated and will be removed in a future version.\n",
      "Instructions for updating:\n",
      "Use `tf.config.list_physical_devices('GPU')` instead.\n"
     ]
    },
    {
     "data": {
      "text/plain": [
       "False"
      ]
     },
     "execution_count": 3,
     "metadata": {},
     "output_type": "execute_result"
    }
   ],
   "source": [
    "tf.test.is_gpu_available()"
   ]
  },
  {
   "cell_type": "code",
   "execution_count": 8,
   "metadata": {
    "executionInfo": {
     "elapsed": 458,
     "status": "ok",
     "timestamp": 1635852194607,
     "user": {
      "displayName": "Asim Shah",
      "photoUrl": "https://lh3.googleusercontent.com/a-/AOh14GgdtnwdLVDEb1HLVqsK2NbJxIrS1JTOklLjndj1=s64",
      "userId": "06064739453259704713"
     },
     "user_tz": -300
    },
    "id": "ejQES0bkXrFD"
   },
   "outputs": [],
   "source": [
    "a=tf.constant(10)"
   ]
  },
  {
   "cell_type": "code",
   "execution_count": 5,
   "metadata": {
    "colab": {
     "base_uri": "https://localhost:8080/"
    },
    "executionInfo": {
     "elapsed": 392,
     "status": "ok",
     "timestamp": 1635852012135,
     "user": {
      "displayName": "Asim Shah",
      "photoUrl": "https://lh3.googleusercontent.com/a-/AOh14GgdtnwdLVDEb1HLVqsK2NbJxIrS1JTOklLjndj1=s64",
      "userId": "06064739453259704713"
     },
     "user_tz": -300
    },
    "id": "5ZGRoWsEYKAD",
    "outputId": "62af5678-b87f-417b-9d5e-ed908d8ca5c8"
   },
   "outputs": [
    {
     "name": "stdout",
     "output_type": "stream",
     "text": [
      "tf.Tensor(10, shape=(), dtype=int32)\n"
     ]
    }
   ],
   "source": [
    "print(a)"
   ]
  },
  {
   "cell_type": "code",
   "execution_count": 9,
   "metadata": {
    "colab": {
     "base_uri": "https://localhost:8080/"
    },
    "executionInfo": {
     "elapsed": 398,
     "status": "ok",
     "timestamp": 1635852438832,
     "user": {
      "displayName": "Asim Shah",
      "photoUrl": "https://lh3.googleusercontent.com/a-/AOh14GgdtnwdLVDEb1HLVqsK2NbJxIrS1JTOklLjndj1=s64",
      "userId": "06064739453259704713"
     },
     "user_tz": -300
    },
    "id": "QfL8CSemYMY7",
    "outputId": "b14ef7cc-7c21-4b72-be78-65d553cc2ada"
   },
   "outputs": [
    {
     "data": {
      "text/plain": [
       "<tf.Tensor: shape=(), dtype=float32, numpy=10.2>"
      ]
     },
     "execution_count": 9,
     "metadata": {},
     "output_type": "execute_result"
    }
   ],
   "source": [
    "b=tf.constant(10.2)#create float constnt\n",
    "b"
   ]
  },
  {
   "cell_type": "code",
   "execution_count": 14,
   "metadata": {
    "colab": {
     "base_uri": "https://localhost:8080/"
    },
    "executionInfo": {
     "elapsed": 366,
     "status": "ok",
     "timestamp": 1635852592453,
     "user": {
      "displayName": "Asim Shah",
      "photoUrl": "https://lh3.googleusercontent.com/a-/AOh14GgdtnwdLVDEb1HLVqsK2NbJxIrS1JTOklLjndj1=s64",
      "userId": "06064739453259704713"
     },
     "user_tz": -300
    },
    "id": "0SbmYjBpYS3C",
    "outputId": "22760b59-df17-473c-a3a4-724f15e49c98"
   },
   "outputs": [
    {
     "data": {
      "text/plain": [
       "<tf.Tensor: shape=(), dtype=string, numpy=b'NCBC UET'>"
      ]
     },
     "execution_count": 14,
     "metadata": {},
     "output_type": "execute_result"
    }
   ],
   "source": [
    "#create string constant\n",
    "c=tf.constant(\"NCBC UET\")\n",
    "c"
   ]
  },
  {
   "cell_type": "code",
   "execution_count": 15,
   "metadata": {
    "colab": {
     "base_uri": "https://localhost:8080/"
    },
    "executionInfo": {
     "elapsed": 417,
     "status": "ok",
     "timestamp": 1635852596981,
     "user": {
      "displayName": "Asim Shah",
      "photoUrl": "https://lh3.googleusercontent.com/a-/AOh14GgdtnwdLVDEb1HLVqsK2NbJxIrS1JTOklLjndj1=s64",
      "userId": "06064739453259704713"
     },
     "user_tz": -300
    },
    "id": "Z9Y9fMa4Z7jy",
    "outputId": "b57d3d9b-b0b4-49b1-cd6f-f6877edb41fb"
   },
   "outputs": [
    {
     "data": {
      "text/plain": [
       "<tf.Tensor: shape=(), dtype=bool, numpy=True>"
      ]
     },
     "execution_count": 15,
     "metadata": {},
     "output_type": "execute_result"
    }
   ],
   "source": [
    "#create bool constant\n",
    "d=tf.constant(True)\n",
    "d"
   ]
  },
  {
   "cell_type": "code",
   "execution_count": 16,
   "metadata": {
    "colab": {
     "base_uri": "https://localhost:8080/"
    },
    "executionInfo": {
     "elapsed": 623,
     "status": "ok",
     "timestamp": 1635852740310,
     "user": {
      "displayName": "Asim Shah",
      "photoUrl": "https://lh3.googleusercontent.com/a-/AOh14GgdtnwdLVDEb1HLVqsK2NbJxIrS1JTOklLjndj1=s64",
      "userId": "06064739453259704713"
     },
     "user_tz": -300
    },
    "id": "YweCd07YaK8R",
    "outputId": "e341deb1-85cf-43ad-85be-6fd93bd57ebc"
   },
   "outputs": [
    {
     "data": {
      "text/plain": [
       "<tf.Tensor: shape=(4,), dtype=int64, numpy=array([1, 2, 3, 3])>"
      ]
     },
     "execution_count": 16,
     "metadata": {},
     "output_type": "execute_result"
    }
   ],
   "source": [
    "#create constant numpy array/list/tuple\n",
    "#we use numpy for numerical calculationn\n",
    "import numpy as np\n",
    "np_array=tf.constant(np.array([1,2,3,3]))\n",
    "np_array"
   ]
  },
  {
   "cell_type": "code",
   "execution_count": 18,
   "metadata": {
    "colab": {
     "base_uri": "https://localhost:8080/"
    },
    "executionInfo": {
     "elapsed": 352,
     "status": "ok",
     "timestamp": 1635852867274,
     "user": {
      "displayName": "Asim Shah",
      "photoUrl": "https://lh3.googleusercontent.com/a-/AOh14GgdtnwdLVDEb1HLVqsK2NbJxIrS1JTOklLjndj1=s64",
      "userId": "06064739453259704713"
     },
     "user_tz": -300
    },
    "id": "RyWrjeBfa-Gk",
    "outputId": "eabe0bf2-fb0b-4ef3-d797-081d263de724"
   },
   "outputs": [
    {
     "data": {
      "text/plain": [
       "<tf.Tensor: shape=(3, 2), dtype=int32, numpy=\n",
       "array([[1, 2],\n",
       "       [2, 3],\n",
       "       [3, 4]], dtype=int32)>"
      ]
     },
     "execution_count": 18,
     "metadata": {},
     "output_type": "execute_result"
    }
   ],
   "source": [
    "#create 2d array\n",
    "td2=tf.constant([[1,2],[2,3],[3,4]])\n",
    "td2"
   ]
  },
  {
   "cell_type": "code",
   "execution_count": 20,
   "metadata": {
    "colab": {
     "base_uri": "https://localhost:8080/"
    },
    "executionInfo": {
     "elapsed": 364,
     "status": "ok",
     "timestamp": 1635853022551,
     "user": {
      "displayName": "Asim Shah",
      "photoUrl": "https://lh3.googleusercontent.com/a-/AOh14GgdtnwdLVDEb1HLVqsK2NbJxIrS1JTOklLjndj1=s64",
      "userId": "06064739453259704713"
     },
     "user_tz": -300
    },
    "id": "57HYWArqbTEo",
    "outputId": "91b9d25e-9e93-4c44-8eb6-d43a60958dd2"
   },
   "outputs": [
    {
     "data": {
      "text/plain": [
       "<tf.Tensor: shape=(3, 2), dtype=int32, numpy=\n",
       "array([[1, 2],\n",
       "       [3, 4],\n",
       "       [5, 6]], dtype=int32)>"
      ]
     },
     "execution_count": 20,
     "metadata": {},
     "output_type": "execute_result"
    }
   ],
   "source": [
    "#create 1-d constannt\n",
    "t2d_1=tf.constant([1,2,3,4,5,6],shape=(3,2),dtype='int32')\n",
    "t2d_1\n"
   ]
  },
  {
   "cell_type": "code",
   "execution_count": 21,
   "metadata": {
    "colab": {
     "base_uri": "https://localhost:8080/"
    },
    "executionInfo": {
     "elapsed": 497,
     "status": "ok",
     "timestamp": 1635853158539,
     "user": {
      "displayName": "Asim Shah",
      "photoUrl": "https://lh3.googleusercontent.com/a-/AOh14GgdtnwdLVDEb1HLVqsK2NbJxIrS1JTOklLjndj1=s64",
      "userId": "06064739453259704713"
     },
     "user_tz": -300
    },
    "id": "i5A7vtFmbzE4",
    "outputId": "855f1040-377b-4471-b99d-9009e9118444"
   },
   "outputs": [
    {
     "data": {
      "text/plain": [
       "<tf.Tensor: shape=(1, 3, 2), dtype=int32, numpy=\n",
       "array([[[1, 2],\n",
       "        [2, 3],\n",
       "        [3, 4]]], dtype=int32)>"
      ]
     },
     "execution_count": 21,
     "metadata": {},
     "output_type": "execute_result"
    }
   ],
   "source": [
    "#cretate n-d constant\n",
    "t3d=tf.constant([[[1,2],[2,3],[3,4]]],dtype='int32')\n",
    "t3d"
   ]
  },
  {
   "cell_type": "code",
   "execution_count": 22,
   "metadata": {
    "colab": {
     "base_uri": "https://localhost:8080/"
    },
    "executionInfo": {
     "elapsed": 356,
     "status": "ok",
     "timestamp": 1635853193995,
     "user": {
      "displayName": "Asim Shah",
      "photoUrl": "https://lh3.googleusercontent.com/a-/AOh14GgdtnwdLVDEb1HLVqsK2NbJxIrS1JTOklLjndj1=s64",
      "userId": "06064739453259704713"
     },
     "user_tz": -300
    },
    "id": "navBs3DockRL",
    "outputId": "dee8399b-8e90-40fb-86ca-86611612541c"
   },
   "outputs": [
    {
     "data": {
      "text/plain": [
       "tensorflow.python.framework.ops.EagerTensor"
      ]
     },
     "execution_count": 22,
     "metadata": {},
     "output_type": "execute_result"
    }
   ],
   "source": [
    "#type of constant\n",
    "type(t3d)"
   ]
  },
  {
   "cell_type": "code",
   "execution_count": 24,
   "metadata": {
    "colab": {
     "base_uri": "https://localhost:8080/"
    },
    "executionInfo": {
     "elapsed": 450,
     "status": "ok",
     "timestamp": 1635853241655,
     "user": {
      "displayName": "Asim Shah",
      "photoUrl": "https://lh3.googleusercontent.com/a-/AOh14GgdtnwdLVDEb1HLVqsK2NbJxIrS1JTOklLjndj1=s64",
      "userId": "06064739453259704713"
     },
     "user_tz": -300
    },
    "id": "QqGnJuW0cs9p",
    "outputId": "c209cfb9-0a2a-4f0e-f69a-609152c548c4"
   },
   "outputs": [
    {
     "data": {
      "text/plain": [
       "TensorShape([1, 3, 2])"
      ]
     },
     "execution_count": 24,
     "metadata": {},
     "output_type": "execute_result"
    }
   ],
   "source": [
    "#shape of constant\n",
    "t3d.shape"
   ]
  },
  {
   "cell_type": "code",
   "execution_count": 25,
   "metadata": {
    "colab": {
     "base_uri": "https://localhost:8080/"
    },
    "executionInfo": {
     "elapsed": 389,
     "status": "ok",
     "timestamp": 1635853300673,
     "user": {
      "displayName": "Asim Shah",
      "photoUrl": "https://lh3.googleusercontent.com/a-/AOh14GgdtnwdLVDEb1HLVqsK2NbJxIrS1JTOklLjndj1=s64",
      "userId": "06064739453259704713"
     },
     "user_tz": -300
    },
    "id": "5lZ7WYJtcwCI",
    "outputId": "c9ca8fac-9f15-4657-f961-20ece50dc96e"
   },
   "outputs": [
    {
     "data": {
      "text/plain": [
       "TensorShape([3, 2])"
      ]
     },
     "execution_count": 25,
     "metadata": {},
     "output_type": "execute_result"
    }
   ],
   "source": [
    "#access constant value\n",
    "td2.shape"
   ]
  },
  {
   "cell_type": "code",
   "execution_count": null,
   "metadata": {
    "id": "2yjcWzEidHAY"
   },
   "outputs": [],
   "source": []
  }
 ],
 "metadata": {
  "colab": {
   "authorship_tag": "ABX9TyMu1dvxxy5sJ49lm65Hs0hA",
   "collapsed_sections": [],
   "name": "Tensorflow1.ipynb",
   "provenance": []
  },
  "kernelspec": {
   "display_name": "Python 3",
   "language": "python",
   "name": "python3"
  },
  "language_info": {
   "codemirror_mode": {
    "name": "ipython",
    "version": 3
   },
   "file_extension": ".py",
   "mimetype": "text/x-python",
   "name": "python",
   "nbconvert_exporter": "python",
   "pygments_lexer": "ipython3",
   "version": "3.8.8"
  }
 },
 "nbformat": 4,
 "nbformat_minor": 1
}
