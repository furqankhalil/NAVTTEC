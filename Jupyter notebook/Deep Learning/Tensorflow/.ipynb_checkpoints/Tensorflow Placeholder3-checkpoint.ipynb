{
 "cells": [
  {
   "cell_type": "code",
   "execution_count": 1,
   "metadata": {
    "executionInfo": {
     "elapsed": 2081,
     "status": "ok",
     "timestamp": 1636041226620,
     "user": {
      "displayName": "Hamza Khan",
      "photoUrl": "https://lh3.googleusercontent.com/a-/AOh14Ghuw2vlMK5SxpQS8NifiaDc1RoC_p9kYX2cLx6I=s64",
      "userId": "06928150310323240119"
     },
     "user_tz": -300
    },
    "id": "Gjxft9L8d2yX"
   },
   "outputs": [],
   "source": [
    "import tensorflow as tf"
   ]
  },
  {
   "cell_type": "code",
   "execution_count": 2,
   "metadata": {
    "executionInfo": {
     "elapsed": 72,
     "status": "ok",
     "timestamp": 1636041226623,
     "user": {
      "displayName": "Hamza Khan",
      "photoUrl": "https://lh3.googleusercontent.com/a-/AOh14Ghuw2vlMK5SxpQS8NifiaDc1RoC_p9kYX2cLx6I=s64",
      "userId": "06928150310323240119"
     },
     "user_tz": -300
    },
    "id": "4xNIe01deF8Z"
   },
   "outputs": [],
   "source": [
    "tf.compat.v1.disable_eager_execution()"
   ]
  },
  {
   "cell_type": "code",
   "execution_count": 3,
   "metadata": {
    "colab": {
     "base_uri": "https://localhost:8080/"
    },
    "executionInfo": {
     "elapsed": 74,
     "status": "ok",
     "timestamp": 1636041226629,
     "user": {
      "displayName": "Hamza Khan",
      "photoUrl": "https://lh3.googleusercontent.com/a-/AOh14Ghuw2vlMK5SxpQS8NifiaDc1RoC_p9kYX2cLx6I=s64",
      "userId": "06928150310323240119"
     },
     "user_tz": -300
    },
    "id": "fWUyVkKQhrGz",
    "outputId": "84bf0778-010e-4702-f6ab-25af1403881f"
   },
   "outputs": [
    {
     "data": {
      "text/plain": [
       "<tf.Tensor 'Placeholder:0' shape=(400, 400) dtype=float32>"
      ]
     },
     "execution_count": 3,
     "metadata": {},
     "output_type": "execute_result"
    }
   ],
   "source": [
    "a = tf.compat.v1.placeholder(dtype=tf.float32, shape=(400,400))\n",
    "a"
   ]
  },
  {
   "cell_type": "code",
   "execution_count": 4,
   "metadata": {
    "colab": {
     "base_uri": "https://localhost:8080/"
    },
    "executionInfo": {
     "elapsed": 51,
     "status": "ok",
     "timestamp": 1636041226631,
     "user": {
      "displayName": "Hamza Khan",
      "photoUrl": "https://lh3.googleusercontent.com/a-/AOh14Ghuw2vlMK5SxpQS8NifiaDc1RoC_p9kYX2cLx6I=s64",
      "userId": "06928150310323240119"
     },
     "user_tz": -300
    },
    "id": "oVHZdx3CiCjL",
    "outputId": "6e8e5e3b-dd1b-406d-bad1-735655b0db28"
   },
   "outputs": [
    {
     "data": {
      "text/plain": [
       "tf.float32"
      ]
     },
     "execution_count": 4,
     "metadata": {},
     "output_type": "execute_result"
    }
   ],
   "source": [
    "a.dtype"
   ]
  },
  {
   "cell_type": "code",
   "execution_count": 5,
   "metadata": {
    "colab": {
     "base_uri": "https://localhost:8080/"
    },
    "executionInfo": {
     "elapsed": 47,
     "status": "ok",
     "timestamp": 1636041226632,
     "user": {
      "displayName": "Hamza Khan",
      "photoUrl": "https://lh3.googleusercontent.com/a-/AOh14Ghuw2vlMK5SxpQS8NifiaDc1RoC_p9kYX2cLx6I=s64",
      "userId": "06928150310323240119"
     },
     "user_tz": -300
    },
    "id": "5lurEEB5iIlL",
    "outputId": "260fa13f-4e0d-40a2-9f0a-43cff9522d27"
   },
   "outputs": [
    {
     "data": {
      "text/plain": [
       "TensorShape([400, 400])"
      ]
     },
     "execution_count": 5,
     "metadata": {},
     "output_type": "execute_result"
    }
   ],
   "source": [
    "a.shape"
   ]
  },
  {
   "cell_type": "code",
   "execution_count": 6,
   "metadata": {
    "colab": {
     "base_uri": "https://localhost:8080/",
     "height": 35
    },
    "executionInfo": {
     "elapsed": 45,
     "status": "ok",
     "timestamp": 1636041226633,
     "user": {
      "displayName": "Hamza Khan",
      "photoUrl": "https://lh3.googleusercontent.com/a-/AOh14Ghuw2vlMK5SxpQS8NifiaDc1RoC_p9kYX2cLx6I=s64",
      "userId": "06928150310323240119"
     },
     "user_tz": -300
    },
    "id": "BnuDK31iigkh",
    "outputId": "5a67d01f-0370-407c-e700-7348e5c1f6cd"
   },
   "outputs": [
    {
     "data": {
      "application/vnd.google.colaboratory.intrinsic+json": {
       "type": "string"
      },
      "text/plain": [
       "'Placeholder:0'"
      ]
     },
     "execution_count": 6,
     "metadata": {},
     "output_type": "execute_result"
    }
   ],
   "source": [
    "a.name"
   ]
  },
  {
   "cell_type": "code",
   "execution_count": 7,
   "metadata": {
    "colab": {
     "base_uri": "https://localhost:8080/"
    },
    "executionInfo": {
     "elapsed": 43,
     "status": "ok",
     "timestamp": 1636041226634,
     "user": {
      "displayName": "Hamza Khan",
      "photoUrl": "https://lh3.googleusercontent.com/a-/AOh14Ghuw2vlMK5SxpQS8NifiaDc1RoC_p9kYX2cLx6I=s64",
      "userId": "06928150310323240119"
     },
     "user_tz": -300
    },
    "id": "vfNvlr-riJXL",
    "outputId": "325a553f-fe1f-4680-ff74-9d213ecf3df2"
   },
   "outputs": [
    {
     "data": {
      "text/plain": [
       "<tf.Tensor 'Placeholder_1:0' shape=(400, 400) dtype=float32>"
      ]
     },
     "execution_count": 7,
     "metadata": {},
     "output_type": "execute_result"
    }
   ],
   "source": [
    "b = tf.compat.v1.placeholder(dtype=tf.float32, shape = (400,400))\n",
    "b"
   ]
  },
  {
   "cell_type": "code",
   "execution_count": 8,
   "metadata": {
    "colab": {
     "base_uri": "https://localhost:8080/"
    },
    "executionInfo": {
     "elapsed": 40,
     "status": "ok",
     "timestamp": 1636041226635,
     "user": {
      "displayName": "Hamza Khan",
      "photoUrl": "https://lh3.googleusercontent.com/a-/AOh14Ghuw2vlMK5SxpQS8NifiaDc1RoC_p9kYX2cLx6I=s64",
      "userId": "06928150310323240119"
     },
     "user_tz": -300
    },
    "id": "OL9oxG_KiP_T",
    "outputId": "358e2713-ffd0-4f5d-e831-fe031880c7a0"
   },
   "outputs": [
    {
     "data": {
      "text/plain": [
       "<tf.Tensor 'Add:0' shape=(400, 400) dtype=float32>"
      ]
     },
     "execution_count": 8,
     "metadata": {},
     "output_type": "execute_result"
    }
   ],
   "source": [
    "c = tf.add(a,b)\n",
    "c"
   ]
  },
  {
   "cell_type": "code",
   "execution_count": 9,
   "metadata": {
    "colab": {
     "base_uri": "https://localhost:8080/"
    },
    "executionInfo": {
     "elapsed": 35,
     "status": "ok",
     "timestamp": 1636041226636,
     "user": {
      "displayName": "Hamza Khan",
      "photoUrl": "https://lh3.googleusercontent.com/a-/AOh14Ghuw2vlMK5SxpQS8NifiaDc1RoC_p9kYX2cLx6I=s64",
      "userId": "06928150310323240119"
     },
     "user_tz": -300
    },
    "id": "uXsp11rwikQn",
    "outputId": "a65de9c4-73eb-4c4d-cfc3-553779eedc29"
   },
   "outputs": [
    {
     "data": {
      "text/plain": [
       "array([[1., 1., 1., ..., 1., 1., 1.],\n",
       "       [1., 1., 1., ..., 1., 1., 1.],\n",
       "       [1., 1., 1., ..., 1., 1., 1.],\n",
       "       ...,\n",
       "       [1., 1., 1., ..., 1., 1., 1.],\n",
       "       [1., 1., 1., ..., 1., 1., 1.],\n",
       "       [1., 1., 1., ..., 1., 1., 1.]], dtype=float32)"
      ]
     },
     "execution_count": 9,
     "metadata": {},
     "output_type": "execute_result"
    }
   ],
   "source": [
    "import numpy as np\n",
    "ones_array = np.ones((400,400), np.float32)\n",
    "ones_array"
   ]
  },
  {
   "cell_type": "code",
   "execution_count": 10,
   "metadata": {
    "colab": {
     "base_uri": "https://localhost:8080/"
    },
    "executionInfo": {
     "elapsed": 628,
     "status": "ok",
     "timestamp": 1636041227235,
     "user": {
      "displayName": "Hamza Khan",
      "photoUrl": "https://lh3.googleusercontent.com/a-/AOh14Ghuw2vlMK5SxpQS8NifiaDc1RoC_p9kYX2cLx6I=s64",
      "userId": "06928150310323240119"
     },
     "user_tz": -300
    },
    "id": "lLgUAH8nikoe",
    "outputId": "a0fe877a-6dc3-4e4a-dc72-7b82e81ce02b"
   },
   "outputs": [
    {
     "data": {
      "text/plain": [
       "array([[3., 3., 3., ..., 3., 3., 3.],\n",
       "       [3., 3., 3., ..., 3., 3., 3.],\n",
       "       [3., 3., 3., ..., 3., 3., 3.],\n",
       "       ...,\n",
       "       [3., 3., 3., ..., 3., 3., 3.],\n",
       "       [3., 3., 3., ..., 3., 3., 3.],\n",
       "       [3., 3., 3., ..., 3., 3., 3.]], dtype=float32)"
      ]
     },
     "execution_count": 10,
     "metadata": {},
     "output_type": "execute_result"
    }
   ],
   "source": [
    "with tf.compat.v1.Session() as sess:\n",
    "  d = sess.run(c, feed_dict = {a:ones_array,b:ones_array*2})\n",
    "d"
   ]
  },
  {
   "cell_type": "code",
   "execution_count": 10,
   "metadata": {
    "executionInfo": {
     "elapsed": 5,
     "status": "ok",
     "timestamp": 1636041227236,
     "user": {
      "displayName": "Hamza Khan",
      "photoUrl": "https://lh3.googleusercontent.com/a-/AOh14Ghuw2vlMK5SxpQS8NifiaDc1RoC_p9kYX2cLx6I=s64",
      "userId": "06928150310323240119"
     },
     "user_tz": -300
    },
    "id": "Ne2TDSVZilFJ"
   },
   "outputs": [],
   "source": []
  }
 ],
 "metadata": {
  "colab": {
   "authorship_tag": "ABX9TyPbEFZqUBh2/eGbcaEx11LK",
   "collapsed_sections": [],
   "name": "Tensorflow Placeholder.ipynb",
   "provenance": []
  },
  "kernelspec": {
   "display_name": "Python 3",
   "language": "python",
   "name": "python3"
  },
  "language_info": {
   "codemirror_mode": {
    "name": "ipython",
    "version": 3
   },
   "file_extension": ".py",
   "mimetype": "text/x-python",
   "name": "python",
   "nbconvert_exporter": "python",
   "pygments_lexer": "ipython3",
   "version": "3.8.8"
  }
 },
 "nbformat": 4,
 "nbformat_minor": 1
}
