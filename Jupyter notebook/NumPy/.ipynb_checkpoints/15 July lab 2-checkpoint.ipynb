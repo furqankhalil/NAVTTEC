{
 "cells": [
  {
   "cell_type": "markdown",
   "metadata": {},
   "source": [
    "# Multi Dimensional Slicing:"
   ]
  },
  {
   "cell_type": "code",
   "execution_count": 2,
   "metadata": {},
   "outputs": [],
   "source": [
    "import numpy as np"
   ]
  },
  {
   "cell_type": "code",
   "execution_count": 3,
   "metadata": {},
   "outputs": [],
   "source": [
    "#Seed Method\n",
    "a=np.random.seed(100)"
   ]
  },
  {
   "cell_type": "code",
   "execution_count": 4,
   "metadata": {},
   "outputs": [
    {
     "data": {
      "text/plain": [
       "array([  9, 281, 324, 360, 344,  80, 433, 395, 351, 437])"
      ]
     },
     "execution_count": 4,
     "metadata": {},
     "output_type": "execute_result"
    }
   ],
   "source": [
    "np.random.randint(1,500,10)"
   ]
  },
  {
   "cell_type": "code",
   "execution_count": 2,
   "metadata": {},
   "outputs": [
    {
     "name": "stdout",
     "output_type": "stream",
     "text": [
      "[3 4]\n",
      "[1 2 0 0 5 6]\n"
     ]
    }
   ],
   "source": [
    "#View vs copy\n",
    "a=np.array([1,2,3,4,5,6])\n",
    "\n",
    "b=a[2:4].copy()\n",
    "c=a[2:4]=0\n",
    "\n",
    "print(b)\n",
    "print(a)"
   ]
  },
  {
   "cell_type": "code",
   "execution_count": null,
   "metadata": {},
   "outputs": [],
   "source": [
    "#Tasks\n",
    "#1 Write a statement to import numpy and create an array.\n",
    "#2 Create an array of 10 random integers. and convert it into 3x3.\n",
    "#3 Create an array of elements from 10-20 and also find its size.\n",
    "#4 Create an array which contain value 5, 10 times.\n",
    "#5 Create 1D array and convert it into 3x3 matrix.\n",
    "#6 Create an array and then convert all the even numbers with 0.\n",
    "#7 Create a 2D array of size 3x3 but all the elements should  be b/w 0 and 1.\n",
    "#8 perform the following slicing:\n",
    "     input                 output\n",
    "    1   2  3  4            6 7\n",
    "    5   6  7  8           10 11\n",
    "    9  10 11 12           14 15\n",
    "    13 14 15 16\n",
    "\n",
    "#9 Concatenate a 2D array horzontally and vertically\n",
    "#10 Create a matrix with diagonal \n",
    "[5\n",
    "   4 \n",
    "       3]"
   ]
  },
  {
   "cell_type": "code",
   "execution_count": 1,
   "metadata": {},
   "outputs": [
    {
     "data": {
      "text/plain": [
       "array([1, 2, 3, 4, 5])"
      ]
     },
     "execution_count": 1,
     "metadata": {},
     "output_type": "execute_result"
    }
   ],
   "source": [
    "#1 Write a statement to import numpy and create an array.\n",
    "\n",
    "import numpy as np\n",
    "np.array([1,2,3,4,5])"
   ]
  },
  {
   "cell_type": "code",
   "execution_count": 6,
   "metadata": {},
   "outputs": [
    {
     "data": {
      "text/plain": [
       "array([[7, 8, 7],\n",
       "       [6, 5, 8],\n",
       "       [6, 5, 5]])"
      ]
     },
     "execution_count": 6,
     "metadata": {},
     "output_type": "execute_result"
    }
   ],
   "source": [
    "#2 Create an array of 10 random integers. and convert it into 3x3.\n",
    "\n",
    "a=np.random.randint(1,10,9).reshape(3,3)\n",
    "a"
   ]
  },
  {
   "cell_type": "code",
   "execution_count": 4,
   "metadata": {},
   "outputs": [
    {
     "name": "stdout",
     "output_type": "stream",
     "text": [
      "[10 11 12 13 14 15 16 17 18 19 20]\n",
      "Size of array is 11\n"
     ]
    }
   ],
   "source": [
    "#3 Create an array of elements from 10-20 and also find its size.\n",
    " \n",
    "b=np.arange(10,21)\n",
    "print(b)\n",
    "print(\"Size of array is\",b.size)"
   ]
  },
  {
   "cell_type": "code",
   "execution_count": 5,
   "metadata": {},
   "outputs": [
    {
     "name": "stdout",
     "output_type": "stream",
     "text": [
      "[5. 5. 5. 5. 5. 5. 5. 5. 5. 5.]\n"
     ]
    }
   ],
   "source": [
    "#4 Create an array which contain value 5, 10 times.\n",
    "\n",
    "c=np.ones(10)*5\n",
    "print(c)"
   ]
  },
  {
   "cell_type": "code",
   "execution_count": 6,
   "metadata": {},
   "outputs": [
    {
     "name": "stdout",
     "output_type": "stream",
     "text": [
      "[ 1 10  6]\n"
     ]
    }
   ],
   "source": [
    "#5 Create 1D array and convert it into 3x3 matrix.\n",
    "\n",
    "e=np.array([1,10,6])\n",
    "a.reshape(3,3)\n",
    "print(e)"
   ]
  },
  {
   "cell_type": "code",
   "execution_count": 7,
   "metadata": {},
   "outputs": [
    {
     "name": "stdout",
     "output_type": "stream",
     "text": [
      "[ 1  0  3  0  5  0  7  0  9  0 11  0 13  0]\n"
     ]
    }
   ],
   "source": [
    "#6 Create an array and then convert all the even numbers with 0.\n",
    "\n",
    "f=np.arange(1,15)\n",
    "f[f%2==0]=0\n",
    "print(f)"
   ]
  },
  {
   "cell_type": "code",
   "execution_count": 2,
   "metadata": {},
   "outputs": [
    {
     "data": {
      "text/plain": [
       "array([[ 0.0055937 , -1.68587235,  2.1544614 ],\n",
       "       [-0.45440494,  2.2915498 ,  0.94868475],\n",
       "       [ 1.09174777, -0.87457872, -1.16063671]])"
      ]
     },
     "execution_count": 2,
     "metadata": {},
     "output_type": "execute_result"
    }
   ],
   "source": [
    "#7 Create a 2D array of size 3x3 but all the elements should  be b/w 0 and 1.\n",
    "\n",
    "g=np.random.randn(9).reshape(3,3)\n",
    "g"
   ]
  },
  {
   "cell_type": "code",
   "execution_count": 3,
   "metadata": {},
   "outputs": [
    {
     "name": "stdout",
     "output_type": "stream",
     "text": [
      "[[ 1  2  3  4]\n",
      " [ 5  6  7  8]\n",
      " [ 9 10 11 12]\n",
      " [13 14 15 16]]\n",
      "-------\n",
      "[[ 6  7]\n",
      " [10 11]\n",
      " [14 15]]\n"
     ]
    }
   ],
   "source": [
    "#8\n",
    "h=np.arange(1,17).reshape(4,4)\n",
    "print(h)\n",
    "\n",
    "print('-------')\n",
    "\n",
    "z=h[1:4,1:3]\n",
    "print(z)"
   ]
  },
  {
   "cell_type": "code",
   "execution_count": 7,
   "metadata": {},
   "outputs": [
    {
     "name": "stdout",
     "output_type": "stream",
     "text": [
      "[[7 8 7]\n",
      " [6 5 8]\n",
      " [6 5 5]]\n",
      "[[1 2 3]\n",
      " [4 5 6]\n",
      " [0 9 8]]\n"
     ]
    }
   ],
   "source": [
    "\n",
    "print(a)\n",
    "h=np.array([[1,2,3],[4,5,6],[0,9,8]])\n",
    "print(h)"
   ]
  },
  {
   "cell_type": "code",
   "execution_count": 8,
   "metadata": {},
   "outputs": [
    {
     "name": "stdout",
     "output_type": "stream",
     "text": [
      "Vertical stack\n",
      "[[7 8 7]\n",
      " [6 5 8]\n",
      " [6 5 5]\n",
      " [1 2 3]\n",
      " [4 5 6]\n",
      " [0 9 8]]\n",
      "-----------\n",
      "Horizontal stack\n",
      "[[7 8 7 1 2 3]\n",
      " [6 5 8 4 5 6]\n",
      " [6 5 5 0 9 8]]\n"
     ]
    }
   ],
   "source": [
    "#9 Concatenate a 2D array horzontally and vertically\n",
    "\n",
    "print(\"Vertical stack\")\n",
    "i=np.vstack((a,h))\n",
    "print(i)\n",
    "\n",
    "print('-----------')\n",
    "\n",
    "print(\"Horizontal stack\")\n",
    "j=np.hstack((a,h))\n",
    "print(j)"
   ]
  },
  {
   "cell_type": "code",
   "execution_count": 9,
   "metadata": {},
   "outputs": [
    {
     "data": {
      "text/plain": [
       "array([[5, 0, 0],\n",
       "       [0, 4, 0],\n",
       "       [0, 0, 3]])"
      ]
     },
     "execution_count": 9,
     "metadata": {},
     "output_type": "execute_result"
    }
   ],
   "source": [
    "#10\n",
    "k=np.diag([5,4,3])\n",
    "k"
   ]
  }
 ],
 "metadata": {
  "kernelspec": {
   "display_name": "Python 3",
   "language": "python",
   "name": "python3"
  },
  "language_info": {
   "codemirror_mode": {
    "name": "ipython",
    "version": 3
   },
   "file_extension": ".py",
   "mimetype": "text/x-python",
   "name": "python",
   "nbconvert_exporter": "python",
   "pygments_lexer": "ipython3",
   "version": "3.8.5"
  }
 },
 "nbformat": 4,
 "nbformat_minor": 4
}
