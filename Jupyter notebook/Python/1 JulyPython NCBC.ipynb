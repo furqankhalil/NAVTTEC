{
 "cells": [
  {
   "cell_type": "code",
   "execution_count": null,
   "metadata": {},
   "outputs": [],
   "source": [
    "i=0\n",
    "while i<=50:\n",
    "    i+=1\n",
    "    print(\"Abbas Shafi\")"
   ]
  },
  {
   "cell_type": "code",
   "execution_count": 1,
   "metadata": {},
   "outputs": [
    {
     "name": "stdout",
     "output_type": "stream",
     "text": [
      "Please enter a number:5\n",
      "5 X 0 = 0\n",
      "5 X 1 = 5\n",
      "5 X 2 = 10\n",
      "5 X 3 = 15\n",
      "5 X 4 = 20\n",
      "5 X 5 = 25\n",
      "5 X 6 = 30\n",
      "5 X 7 = 35\n",
      "5 X 8 = 40\n",
      "5 X 9 = 45\n",
      "5 X 10 = 50\n"
     ]
    }
   ],
   "source": [
    "o=int(input(\"Please enter a number:\"))\n",
    "\n",
    "for i in range(0,11):\n",
    "    print(o,\"X\",i,\"=\",i*o)"
   ]
  },
  {
   "cell_type": "code",
   "execution_count": 2,
   "metadata": {},
   "outputs": [
    {
     "name": "stdout",
     "output_type": "stream",
     "text": [
      "Hello Hamza how do you do.\n",
      "Hello Adil how do you do.\n",
      "Hello Furqan how do you do.\n",
      "Hello Nouman how do you do.\n",
      "Hello Majid how do you do.\n"
     ]
    }
   ],
   "source": [
    "names=['Hamza','Adil','Furqan','Nouman','Majid']\n",
    "for i in names:\n",
    "    print(\"Hello\", i ,\"how do you do.\")"
   ]
  },
  {
   "cell_type": "code",
   "execution_count": 3,
   "metadata": {},
   "outputs": [
    {
     "name": "stdout",
     "output_type": "stream",
     "text": [
      "Please enter a number:9\n",
      "9 X 1 = 9\n",
      "9 X 2 = 18\n",
      "9 X 3 = 27\n",
      "9 X 4 = 36\n",
      "9 X 5 = 45\n",
      "9 X 6 = 54\n",
      "9 X 7 = 63\n",
      "9 X 8 = 72\n",
      "9 X 9 = 81\n",
      "9 X 10 = 90\n",
      "9 X 11 = 99\n"
     ]
    }
   ],
   "source": [
    "o=int(input(\"Please enter a number:\"))\n",
    "i=0\n",
    "while i<=10:\n",
    "    i+=1\n",
    "    print(o,\"X\",i,\"=\",o*i)"
   ]
  },
  {
   "cell_type": "code",
   "execution_count": 6,
   "metadata": {},
   "outputs": [
    {
     "name": "stdout",
     "output_type": "stream",
     "text": [
      "Enter a number to check: 5\n",
      "Prime number\n"
     ]
    }
   ],
   "source": [
    "a=int(input(\"Enter a number to check: \"))\n",
    "\n",
    "z=1\n",
    "for i in range(2,a):\n",
    "    if a%i==0:\n",
    "        print(\"Non Prime Number\")\n",
    "        z=2\n",
    "        break\n",
    "\n",
    "if z==1:\n",
    "    print(\"Prime number\")"
   ]
  },
  {
   "cell_type": "code",
   "execution_count": 7,
   "metadata": {},
   "outputs": [
    {
     "name": "stdout",
     "output_type": "stream",
     "text": [
      "The sum of numbers in a list is 20\n"
     ]
    }
   ],
   "source": [
    "#write a program to print sum of numbers in a list \n",
    "numbers=[2,3,10,5]\n",
    "sum=0\n",
    "for i in numbers:\n",
    "    sum=i+sum\n",
    "print(\"The sum of numbers in a list is\",sum)"
   ]
  },
  {
   "cell_type": "code",
   "execution_count": 8,
   "metadata": {},
   "outputs": [
    {
     "name": "stdout",
     "output_type": "stream",
     "text": [
      "Enter any natural number: 9\n",
      "Sum of first  9  natural bumbers is:  0\n",
      "Sum of first  9  natural bumbers is:  1\n",
      "Sum of first  9  natural bumbers is:  3\n",
      "Sum of first  9  natural bumbers is:  6\n",
      "Sum of first  9  natural bumbers is:  10\n",
      "Sum of first  9  natural bumbers is:  15\n",
      "Sum of first  9  natural bumbers is:  21\n",
      "Sum of first  9  natural bumbers is:  28\n",
      "Sum of first  9  natural bumbers is:  36\n",
      "Sum of first  9  natural bumbers is:  45\n"
     ]
    }
   ],
   "source": [
    "nat=int(input(\"Enter any natural number: \"))\n",
    "sum=0\n",
    "\n",
    "i=0\n",
    "while i<=nat:\n",
    "    sum+=i\n",
    "    i=i+1\n",
    "    print(\"Sum of first \",nat,\" natural bumbers is: \",sum)\n",
    "    \n",
    "    "
   ]
  },
  {
   "cell_type": "code",
   "execution_count": null,
   "metadata": {},
   "outputs": [],
   "source": []
  }
 ],
 "metadata": {
  "kernelspec": {
   "display_name": "Python 3",
   "language": "python",
   "name": "python3"
  },
  "language_info": {
   "codemirror_mode": {
    "name": "ipython",
    "version": 3
   },
   "file_extension": ".py",
   "mimetype": "text/x-python",
   "name": "python",
   "nbconvert_exporter": "python",
   "pygments_lexer": "ipython3",
   "version": "3.8.5"
  }
 },
 "nbformat": 4,
 "nbformat_minor": 4
}
