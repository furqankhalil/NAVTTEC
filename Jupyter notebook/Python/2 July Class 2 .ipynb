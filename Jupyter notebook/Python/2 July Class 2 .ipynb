{
 "cells": [
  {
   "cell_type": "code",
   "execution_count": 1,
   "metadata": {},
   "outputs": [
    {
     "name": "stdout",
     "output_type": "stream",
     "text": [
      "33  is GREATEST among  2 33  and  4\n"
     ]
    }
   ],
   "source": [
    "#1 Write a program to find greatest of two numbers using function.\n",
    "\n",
    "def gtest(a,b,c):\n",
    "    if a>b:\n",
    "        if a>c:\n",
    "            print(a,\" is greater number among \",a,b,\" and \",c)\n",
    "        else:\n",
    "            print(c,\" is greater number among \",a,b,\" and \",c)\n",
    "    else:\n",
    "        if b>c:\n",
    "            print(b,\" is greater number among \",a,b,\" and \",c)\n",
    "        else:\n",
    "            print(c,\" is greater number among \",a,b,\" and \",c)\n",
    "grtest(2,33,4)"
   ]
  },
  {
   "cell_type": "code",
   "execution_count": 3,
   "metadata": {},
   "outputs": [
    {
     "name": "stdout",
     "output_type": "stream",
     "text": [
      "37 C =  98.60000000000001  F\n"
     ]
    }
   ],
   "source": [
    "#2 Write a program to convert celcius into fahrenheit using function.\n",
    "\n",
    "def convert (C):\n",
    "    F=C*((9/5))+32\n",
    "    return F\n",
    "temp=convert(37)\n",
    "print(\"37 C = \",temp,\" F\")"
   ]
  },
  {
   "cell_type": "code",
   "execution_count": 4,
   "metadata": {},
   "outputs": [
    {
     "name": "stdout",
     "output_type": "stream",
     "text": [
      "Enter number to find it's Factorial: 5\n",
      "Factorial of  5  is  120\n"
     ]
    }
   ],
   "source": [
    "#3 Write a program to print factorial of a number using function\n",
    "\n",
    "#Program using while loop\n",
    "\n",
    "def fact (no):\n",
    "    fac=1\n",
    "    while no>1:\n",
    "        fac=fac*no\n",
    "        no=no-1\n",
    "    return fac\n",
    "nmbr=int(input(\"Enter number to find it's Factorial: \"))\n",
    "a=fact(nmbr)\n",
    "print(\"Factorial of \",nmbr,\" is \",a)"
   ]
  },
  {
   "cell_type": "code",
   "execution_count": 5,
   "metadata": {},
   "outputs": [
    {
     "name": "stdout",
     "output_type": "stream",
     "text": [
      "Enter number to find it's Factorial: 6\n",
      "Factorial of  6  is  720\n"
     ]
    }
   ],
   "source": [
    "\n",
    "#Program using for loop\n",
    "\n",
    "def fact(n):\n",
    "    fac=1\n",
    "    for a in range(1,n+1):\n",
    "        fac*=a\n",
    "    return fac\n",
    "nmbr=int(input(\"Enter number to find it's Factorial: \"))\n",
    "a=fact(nmbr)\n",
    "print(\"Factorial of \",nmbr,\" is \",a)"
   ]
  },
  {
   "cell_type": "code",
   "execution_count": 6,
   "metadata": {},
   "outputs": [
    {
     "name": "stdout",
     "output_type": "stream",
     "text": [
      "Enter number to find it's Factorial: 9\n",
      "Factorial of  9  is  362880\n"
     ]
    }
   ],
   "source": [
    "\n",
    "#Program using resursion\n",
    "\n",
    "def fact(num):\n",
    "    if num==2:\n",
    "        return 2\n",
    "    else:\n",
    "        return num*fact(num-1)\n",
    "nmbr=int(input(\"Enter number to find it's Factorial: \"))\n",
    "a=fact(nmbr)\n",
    "print(\"Factorial of \",nmbr,\" is \",a)"
   ]
  },
  {
   "cell_type": "code",
   "execution_count": 7,
   "metadata": {},
   "outputs": [
    {
     "name": "stdout",
     "output_type": "stream",
     "text": [
      "Enter number: 9\n",
      "9  x  1  =  9\n",
      "9  x  2  =  18\n",
      "9  x  3  =  27\n",
      "9  x  4  =  36\n",
      "9  x  5  =  45\n",
      "9  x  6  =  54\n",
      "9  x  7  =  63\n",
      "9  x  8  =  72\n",
      "9  x  9  =  81\n",
      "9  x  10  =  90\n"
     ]
    }
   ],
   "source": [
    "#4 Write a program to print multiplication table of a number entered by user and passed as parameter to function.\n",
    "\n",
    "def table(num):\n",
    "    for a in range(1,11):\n",
    "        print(num,\" x \",a,\" = \",num*a)\n",
    "    return\n",
    "n=int(input(\"Enter number: \"))\n",
    "table(n)"
   ]
  }
 ],
 "metadata": {
  "kernelspec": {
   "display_name": "Python 3",
   "language": "python",
   "name": "python3"
  },
  "language_info": {
   "codemirror_mode": {
    "name": "ipython",
    "version": 3
   },
   "file_extension": ".py",
   "mimetype": "text/x-python",
   "name": "python",
   "nbconvert_exporter": "python",
   "pygments_lexer": "ipython3",
   "version": "3.8.5"
  }
 },
 "nbformat": 4,
 "nbformat_minor": 4
}
