{
 "cells": [
  {
   "cell_type": "code",
   "execution_count": 2,
   "metadata": {},
   "outputs": [
    {
     "name": "stdout",
     "output_type": "stream",
     "text": [
      "The  first name of the patient is akhtar and the last name of the patient is Khan\n"
     ]
    }
   ],
   "source": [
    "class Patient:\n",
    "    def __init__(self,name,lname):\n",
    "        self.name=name\n",
    "        self.lname=lname\n",
    "#name and lname are attributes       \n",
    "\n",
    "    def ionf_of_pateint(self):\n",
    "        print(f\"The  first name of the patient is {self.name} and the last name of the patient is {self.lname}\")\n",
    "        \n",
    "pd1= Patient('khan','gul')\n",
    "pd2= Patient('akhtar','Khan')\n",
    "pd3= Patient('shah','M')\n",
    "#Instance (copy)is the Patient('khan','gul')\n",
    "#Identifier is the variable name\n",
    "pd2.ionf_of_pateint()\n",
    "#print(pd2.name)\n",
    "#print(pd3.name)"
   ]
  },
  {
   "cell_type": "code",
   "execution_count": 4,
   "metadata": {},
   "outputs": [
    {
     "name": "stdout",
     "output_type": "stream",
     "text": [
      "The  first name of the patient is khan and the last name of the patient is gul\n"
     ]
    }
   ],
   "source": [
    "pd1.ionf_of_pateint()"
   ]
  },
  {
   "cell_type": "code",
   "execution_count": 39,
   "metadata": {},
   "outputs": [],
   "source": [
    "##Tasks\n",
    "#2 write a class calculator capable of finding square, cube and square root of a number \n",
    "#3 Add a static Method in Problem 2 to greet the user with the \"Hello welcome to the calculator\"\n",
    "#4 Write a class train which has methods to book a tickets , get status (no of seats) and get fareinformation \n",
    "#of trains running under Pakistan railways.\n",
    "\n",
    "##@staticmethod is used to be written before a function so there is no need for self in funtion parameter"
   ]
  },
  {
   "cell_type": "code",
   "execution_count": 10,
   "metadata": {},
   "outputs": [
    {
     "name": "stdout",
     "output_type": "stream",
     "text": [
      "Name: Hamza\n",
      " Age: 20\n",
      "Salary: 150000\n",
      "Name: Subhan\n",
      " Age: 19\n",
      "Salary: 100000\n"
     ]
    }
   ],
   "source": [
    "#1 Write a class program to save name age and salary of employee.\n",
    "\n",
    "class emp:\n",
    "    company=\"Google\"\n",
    "    def __init__(self,name,age,salary):\n",
    "        self.name=name\n",
    "        self.age=age\n",
    "        self.salary=salary\n",
    "        \n",
    "    def getinfo(self):\n",
    "        print(f\"Name: {self.name}\\n Age: {self.age}\\nSalary: {self.salary}\")\n",
    "\n",
    "sub=emp(\"Hamza\",\"20\",\"150000\")\n",
    "sub.getinfo()\n",
    "\n",
    "sub1=emp(\"Subhan\",\"19\",\"100000\")\n",
    "sub1.getinfo()\n",
    "\n",
    "#print(sub.company)\n",
    "emp.company=\"Facebook\"\n",
    "#print(sub.company)"
   ]
  },
  {
   "cell_type": "code",
   "execution_count": 13,
   "metadata": {},
   "outputs": [
    {
     "name": "stdout",
     "output_type": "stream",
     "text": [
      "The square of  9  is:  81\n",
      "The Cube of  9  is:  729\n",
      "The Cube of  9  is:  3.0\n"
     ]
    }
   ],
   "source": [
    "#2 write a class calculator capable of finding square, cube and square root of a number.\n",
    "\n",
    "class calcul:\n",
    "    def sqr(self,nmb):\n",
    "        self.no=nmb\n",
    "    \n",
    "    def findsqr(self):\n",
    "        self.no2=self.no*self.no\n",
    "        self.cube=self.no*self.no*self.no\n",
    "        self.sqrt= self.no**0.5\n",
    "    \n",
    "    def displaysqr(self):\n",
    "        print(\"The square of \",self.no,\" is: \",self.no2)\n",
    "        print(\"The Cube of \",self.no,\" is: \",self.cube)\n",
    "        print(\"The Cube of \",self.no,\" is: \",self.sqrt)\n",
    "\n",
    "number2= calcul()\n",
    "number2.sqr(9)\n",
    "number2.findsqr()\n",
    "number2.displaysqr()"
   ]
  },
  {
   "cell_type": "code",
   "execution_count": 14,
   "metadata": {},
   "outputs": [
    {
     "name": "stdout",
     "output_type": "stream",
     "text": [
      "Hello, welcome to the calculator\n",
      "The square of  2  is:  4\n",
      "The Cube of  2  is:  8\n",
      "The Cube of  2  is:  1.4142135623730951\n"
     ]
    }
   ],
   "source": [
    "#Question 3\n",
    "\n",
    "class calcul:\n",
    "    def sqr(self,nmb):\n",
    "        self.no=nmb\n",
    "    \n",
    "    def findsqr(self):\n",
    "        self.no2=self.no*self.no\n",
    "        self.cube=self.no*self.no*self.no\n",
    "        self.sqrt= self.no**0.5\n",
    "        \n",
    "    def displaysqr(self):\n",
    "        print(\"The square of \",self.no,\" is: \",self.no2)\n",
    "        print(\"The Cube of \",self.no,\" is: \",self.cube)\n",
    "        print(\"The Cube of \",self.no,\" is: \",self.sqrt)\n",
    "\n",
    "    @staticmethod\n",
    "    def displaygreet():\n",
    "        print(\"Hello, welcome to the calculator\")\n",
    "\n",
    "number2= calcul()\n",
    "number2.displaygreet()\n",
    "number2.sqr(2)\n",
    "number2.findsqr()\n",
    "number2.displaysqr()\n",
    "\n"
   ]
  },
  {
   "cell_type": "code",
   "execution_count": 24,
   "metadata": {},
   "outputs": [
    {
     "name": "stdout",
     "output_type": "stream",
     "text": [
      "Train has no seat with 7 number\n",
      "\n",
      "\n",
      "Seat booked\n"
     ]
    },
    {
     "ename": "AttributeError",
     "evalue": "'train' object has no attribute 'no'",
     "output_type": "error",
     "traceback": [
      "\u001b[0;31m---------------------------------------------------------------------------\u001b[0m",
      "\u001b[0;31mAttributeError\u001b[0m                            Traceback (most recent call last)",
      "\u001b[0;32m<ipython-input-24-6be67d6787ed>\u001b[0m in \u001b[0;36m<module>\u001b[0;34m\u001b[0m\n\u001b[1;32m     27\u001b[0m         \u001b[0;32mbreak\u001b[0m\u001b[0;34m\u001b[0m\u001b[0;34m\u001b[0m\u001b[0m\n\u001b[1;32m     28\u001b[0m \u001b[0;34m\u001b[0m\u001b[0m\n\u001b[0;32m---> 29\u001b[0;31m \u001b[0mpsngr\u001b[0m\u001b[0;34m.\u001b[0m\u001b[0mstatus\u001b[0m\u001b[0;34m(\u001b[0m\u001b[0ma\u001b[0m\u001b[0;34m)\u001b[0m\u001b[0;34m\u001b[0m\u001b[0;34m\u001b[0m\u001b[0m\n\u001b[0m",
      "\u001b[0;32m<ipython-input-22-354c73661de6>\u001b[0m in \u001b[0;36mstatus\u001b[0;34m(self, num)\u001b[0m\n\u001b[1;32m     15\u001b[0m         \u001b[0;32mif\u001b[0m \u001b[0mnum\u001b[0m\u001b[0;34m<=\u001b[0m\u001b[0;36m10\u001b[0m\u001b[0;34m:\u001b[0m\u001b[0;34m\u001b[0m\u001b[0;34m\u001b[0m\u001b[0m\n\u001b[1;32m     16\u001b[0m             \u001b[0mpsngr\u001b[0m\u001b[0;34m.\u001b[0m\u001b[0mbook\u001b[0m\u001b[0;34m(\u001b[0m\u001b[0mnum\u001b[0m\u001b[0;34m)\u001b[0m\u001b[0;34m\u001b[0m\u001b[0;34m\u001b[0m\u001b[0m\n\u001b[0;32m---> 17\u001b[0;31m             \u001b[0mpsngr\u001b[0m\u001b[0;34m.\u001b[0m\u001b[0mgetstatus\u001b[0m\u001b[0;34m(\u001b[0m\u001b[0;34m)\u001b[0m\u001b[0;34m\u001b[0m\u001b[0;34m\u001b[0m\u001b[0m\n\u001b[0m\u001b[1;32m     18\u001b[0m             \u001b[0mpsngr\u001b[0m\u001b[0;34m.\u001b[0m\u001b[0mfareinfo\u001b[0m\u001b[0;34m(\u001b[0m\u001b[0;34m)\u001b[0m\u001b[0;34m\u001b[0m\u001b[0;34m\u001b[0m\u001b[0m\n\u001b[1;32m     19\u001b[0m         \u001b[0;32melse\u001b[0m\u001b[0;34m:\u001b[0m\u001b[0;34m\u001b[0m\u001b[0;34m\u001b[0m\u001b[0m\n",
      "\u001b[0;32m<ipython-input-22-354c73661de6>\u001b[0m in \u001b[0;36mgetstatus\u001b[0;34m(self)\u001b[0m\n\u001b[1;32m      7\u001b[0m \u001b[0;34m\u001b[0m\u001b[0m\n\u001b[1;32m      8\u001b[0m     \u001b[0;32mdef\u001b[0m \u001b[0mgetstatus\u001b[0m\u001b[0;34m(\u001b[0m\u001b[0mself\u001b[0m\u001b[0;34m)\u001b[0m\u001b[0;34m:\u001b[0m\u001b[0;34m\u001b[0m\u001b[0;34m\u001b[0m\u001b[0m\n\u001b[0;32m----> 9\u001b[0;31m         \u001b[0mprint\u001b[0m\u001b[0;34m(\u001b[0m\u001b[0;34m\"You have booked seat number: \"\u001b[0m\u001b[0;34m,\u001b[0m\u001b[0mself\u001b[0m\u001b[0;34m.\u001b[0m\u001b[0mno\u001b[0m\u001b[0;34m,\u001b[0m\u001b[0;34m\" And remaining seats are \"\u001b[0m\u001b[0;34m,\u001b[0m\u001b[0;36m6\u001b[0m\u001b[0;34m-\u001b[0m\u001b[0mself\u001b[0m\u001b[0;34m.\u001b[0m\u001b[0mno\u001b[0m\u001b[0;34m)\u001b[0m\u001b[0;34m\u001b[0m\u001b[0;34m\u001b[0m\u001b[0m\n\u001b[0m\u001b[1;32m     10\u001b[0m \u001b[0;34m\u001b[0m\u001b[0m\n\u001b[1;32m     11\u001b[0m     \u001b[0;32mdef\u001b[0m \u001b[0mfareinfo\u001b[0m\u001b[0;34m(\u001b[0m\u001b[0mself\u001b[0m\u001b[0;34m)\u001b[0m\u001b[0;34m:\u001b[0m\u001b[0;34m\u001b[0m\u001b[0;34m\u001b[0m\u001b[0m\n",
      "\u001b[0;31mAttributeError\u001b[0m: 'train' object has no attribute 'no'"
     ]
    }
   ],
   "source": [
    "#4\n",
    "\n",
    "class train:\n",
    "    def book(self,name):\n",
    "        self.name=name\n",
    "        print(\"\\n\\nSeat booked\")\n",
    "\n",
    "    def getstatus(self):\n",
    "        print(\"You have booked seat number: \",self.name,\" And remaining seats are \",6-self.name)\n",
    "\n",
    "    def fareinfo(self):\n",
    "        print(\"Fare for seat \",self.name,\" is: \",self.name*100)\n",
    "\n",
    "    def status(self,num):\n",
    "        if num<=10:\n",
    "            psngr.book(num)\n",
    "            psngr.getstatus()\n",
    "            psngr.fareinfo()\n",
    "        else:\n",
    "            print(\"Train Filled\")\n",
    "           \n",
    "    psngr= train()\n",
    "\n",
    "for a in range (1,8):\n",
    "    if a>6:\n",
    "        print(\"Train has no seat with 7 number\")\n",
    "        break\n",
    "        \n",
    "psngr.status(a)"
   ]
  }
 ],
 "metadata": {
  "kernelspec": {
   "display_name": "Python 3",
   "language": "python",
   "name": "python3"
  },
  "language_info": {
   "codemirror_mode": {
    "name": "ipython",
    "version": 3
   },
   "file_extension": ".py",
   "mimetype": "text/x-python",
   "name": "python",
   "nbconvert_exporter": "python",
   "pygments_lexer": "ipython3",
   "version": "3.8.5"
  }
 },
 "nbformat": 4,
 "nbformat_minor": 4
}
