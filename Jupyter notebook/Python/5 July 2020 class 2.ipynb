{
 "cells": [
  {
   "cell_type": "code",
   "execution_count": 5,
   "metadata": {},
   "outputs": [
    {
     "name": "stdout",
     "output_type": "stream",
     "text": [
      "Enter a digit:6\n",
      "Enter another digit:3\n",
      "18\n"
     ]
    }
   ],
   "source": [
    "#1 Write a recursion program to add natural number\n",
    "\n",
    "def Mul():\n",
    "    a=int(input(\"Enter a digit:\"))\n",
    "    b=int(input(\"Enter another digit:\"))\n",
    "    c=a*b\n",
    "    return c\n",
    "print(Mul())\n",
    " "
   ]
  },
  {
   "cell_type": "code",
   "execution_count": 6,
   "metadata": {},
   "outputs": [
    {
     "name": "stdout",
     "output_type": "stream",
     "text": [
      "s\n",
      "a\n",
      "b\n",
      "b\n",
      "A\n"
     ]
    },
    {
     "data": {
      "text/plain": [
       "''"
      ]
     },
     "execution_count": 6,
     "metadata": {},
     "output_type": "execute_result"
    }
   ],
   "source": [
    "#2 Print the string in reverse order using recursion.\n",
    "\n",
    "def revstr(a):\n",
    "    if a==\"\":\n",
    "        return a\n",
    "    else:\n",
    "        print(a[len(a)-1])\n",
    "        return revstr(a[0:len(a)-1])\n",
    "str=\"Abbas\"\n",
    "revstr(str)"
   ]
  },
  {
   "cell_type": "code",
   "execution_count": 7,
   "metadata": {},
   "outputs": [
    {
     "name": "stdout",
     "output_type": "stream",
     "text": [
      "The power of  4  to  4  is  256\n",
      "The power of  3  to  4  is  64\n",
      "The power of  2  to  4  is  16\n",
      "The power of  1  to  4  is  4\n",
      "The power of  0  to  4  is  1\n"
     ]
    }
   ],
   "source": [
    "#3 write a program to find xY using recursion.\n",
    "\n",
    "def sqr(x,y):\n",
    "    if y==0:\n",
    "        print(\"The power of \",y,\" to \",x,\" is \",x**y)\n",
    "    else:\n",
    "        print(\"The power of \",y,\" to \",x,\" is \",x**y)\n",
    "        sqr(x,y-1)\n",
    "sqr(4,4)"
   ]
  },
  {
   "cell_type": "code",
   "execution_count": 8,
   "metadata": {},
   "outputs": [
    {
     "name": "stdout",
     "output_type": "stream",
     "text": [
      "Enter number to find it's Factorial: 5\n",
      "Factorial of  5  is  120\n"
     ]
    }
   ],
   "source": [
    "#4 Find the factorial using recursion function\n",
    "\n",
    "def fact(num):\n",
    "    if num==2:\n",
    "        return 2\n",
    "    else:\n",
    "        return num*fact(num-1)\n",
    "nmbr=int(input(\"Enter number to find it's Factorial: \"))\n",
    "a=fact(nmbr)\n",
    "print(\"Factorial of \",nmbr,\" is \",a)"
   ]
  }
 ],
 "metadata": {
  "kernelspec": {
   "display_name": "Python 3",
   "language": "python",
   "name": "python3"
  }
 },
 "nbformat": 4,
 "nbformat_minor": 4
}
