{
 "cells": [
  {
   "cell_type": "markdown",
   "metadata": {},
   "source": [
    "\n",
    "# Exception Handling"
   ]
  },
  {
   "cell_type": "code",
   "execution_count": 3,
   "metadata": {},
   "outputs": [
    {
     "name": "stdout",
     "output_type": "stream",
     "text": [
      "You can't\n",
      "Error is handled\n"
     ]
    }
   ],
   "source": [
    "#1\n",
    "\n",
    "try:\n",
    "    c=\"2\"+2\n",
    "    \n",
    "except:\n",
    "    print(\"You can't\")\n",
    "    \n",
    "finally:\n",
    "    print(\"Error is handled\")"
   ]
  },
  {
   "cell_type": "code",
   "execution_count": 4,
   "metadata": {},
   "outputs": [
    {
     "name": "stdout",
     "output_type": "stream",
     "text": [
      "Zero Division Error\n",
      "Post Code\n"
     ]
    }
   ],
   "source": [
    "#2\n",
    "\n",
    "a=10\n",
    "b=0\n",
    "\n",
    "try:\n",
    "    c=a/b\n",
    "    \n",
    "except ZeroDivisionError:\n",
    "    print(\"Zero Division Error\")\n",
    "    \n",
    "finally:\n",
    "    print(\"Post Code\")"
   ]
  },
  {
   "cell_type": "code",
   "execution_count": 13,
   "metadata": {},
   "outputs": [],
   "source": [
    "\n",
    "#Write the program to handle the Exception\n",
    "  #n=int(input(\"Enter a number\"))\n",
    "    #c=n+5"
   ]
  },
  {
   "cell_type": "code",
   "execution_count": 5,
   "metadata": {},
   "outputs": [
    {
     "name": "stdout",
     "output_type": "stream",
     "text": [
      "Enter a number:3.9\n",
      "Value other than integer has been assigned\n"
     ]
    }
   ],
   "source": [
    "#3\n",
    "\n",
    "try:\n",
    "    inn=int(input(\"Enter a number:\"))\n",
    "    sum=inn+5\n",
    "\n",
    "except ValueError:\n",
    "    print(\"Value other than integer has been assigned\")\n",
    "    "
   ]
  }
 ],
 "metadata": {
  "kernelspec": {
   "display_name": "Python 3",
   "language": "python",
   "name": "python3"
  },
  "language_info": {
   "codemirror_mode": {
    "name": "ipython",
    "version": 3
   },
   "file_extension": ".py",
   "mimetype": "text/x-python",
   "name": "python",
   "nbconvert_exporter": "python",
   "pygments_lexer": "ipython3",
   "version": "3.8.5"
  }
 },
 "nbformat": 4,
 "nbformat_minor": 4
}
