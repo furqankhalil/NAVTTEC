{
 "cells": [
  {
   "cell_type": "code",
   "execution_count": 1,
   "id": "e5babaa4",
   "metadata": {},
   "outputs": [],
   "source": [
    "import numpy as np"
   ]
  },
  {
   "cell_type": "code",
   "execution_count": 5,
   "id": "5a83ee00",
   "metadata": {},
   "outputs": [
    {
     "data": {
      "text/plain": [
       "array([ 1,  3,  5,  7,  9, 11, 13, 15, 17, 19])"
      ]
     },
     "execution_count": 5,
     "metadata": {},
     "output_type": "execute_result"
    }
   ],
   "source": [
    "#arange \n",
    "ran=np.arange(1,20,2)\n",
    "ran"
   ]
  },
  {
   "cell_type": "code",
   "execution_count": 3,
   "id": "1fb65b98",
   "metadata": {},
   "outputs": [
    {
     "data": {
      "text/plain": [
       "array([   0.        ,   10.1010101 ,   20.2020202 ,   30.3030303 ,\n",
       "         40.4040404 ,   50.50505051,   60.60606061,   70.70707071,\n",
       "         80.80808081,   90.90909091,  101.01010101,  111.11111111,\n",
       "        121.21212121,  131.31313131,  141.41414141,  151.51515152,\n",
       "        161.61616162,  171.71717172,  181.81818182,  191.91919192,\n",
       "        202.02020202,  212.12121212,  222.22222222,  232.32323232,\n",
       "        242.42424242,  252.52525253,  262.62626263,  272.72727273,\n",
       "        282.82828283,  292.92929293,  303.03030303,  313.13131313,\n",
       "        323.23232323,  333.33333333,  343.43434343,  353.53535354,\n",
       "        363.63636364,  373.73737374,  383.83838384,  393.93939394,\n",
       "        404.04040404,  414.14141414,  424.24242424,  434.34343434,\n",
       "        444.44444444,  454.54545455,  464.64646465,  474.74747475,\n",
       "        484.84848485,  494.94949495,  505.05050505,  515.15151515,\n",
       "        525.25252525,  535.35353535,  545.45454545,  555.55555556,\n",
       "        565.65656566,  575.75757576,  585.85858586,  595.95959596,\n",
       "        606.06060606,  616.16161616,  626.26262626,  636.36363636,\n",
       "        646.46464646,  656.56565657,  666.66666667,  676.76767677,\n",
       "        686.86868687,  696.96969697,  707.07070707,  717.17171717,\n",
       "        727.27272727,  737.37373737,  747.47474747,  757.57575758,\n",
       "        767.67676768,  777.77777778,  787.87878788,  797.97979798,\n",
       "        808.08080808,  818.18181818,  828.28282828,  838.38383838,\n",
       "        848.48484848,  858.58585859,  868.68686869,  878.78787879,\n",
       "        888.88888889,  898.98989899,  909.09090909,  919.19191919,\n",
       "        929.29292929,  939.39393939,  949.49494949,  959.5959596 ,\n",
       "        969.6969697 ,  979.7979798 ,  989.8989899 , 1000.        ])"
      ]
     },
     "execution_count": 3,
     "metadata": {},
     "output_type": "execute_result"
    }
   ],
   "source": [
    "#linespace: prints an array with equal differences \n",
    "ls=np.linspace(0,1000,100)\n",
    "ls"
   ]
  },
  {
   "cell_type": "code",
   "execution_count": 5,
   "id": "9527cdbb",
   "metadata": {},
   "outputs": [
    {
     "data": {
      "text/plain": [
       "array([[1, 2, 3],\n",
       "       [4, 5, 6],\n",
       "       [7, 8, 9]])"
      ]
     },
     "execution_count": 5,
     "metadata": {},
     "output_type": "execute_result"
    }
   ],
   "source": [
    "# reshape\n",
    "\n",
    "rs=np.arange(1,10).reshape(3,3)\n",
    "rs"
   ]
  },
  {
   "cell_type": "code",
   "execution_count": 7,
   "id": "34974462",
   "metadata": {},
   "outputs": [
    {
     "data": {
      "text/plain": [
       "array([1, 2, 3, 4, 5, 6, 7, 8, 9])"
      ]
     },
     "execution_count": 7,
     "metadata": {},
     "output_type": "execute_result"
    }
   ],
   "source": [
    "# ravel: it changes the array into 1D and a copy is made if needed original is not changed\n",
    "\n",
    "rv=np.ravel(rs)\n",
    "rv"
   ]
  },
  {
   "cell_type": "code",
   "execution_count": 10,
   "id": "93528c21",
   "metadata": {},
   "outputs": [
    {
     "data": {
      "text/plain": [
       "array([[1, 4, 7],\n",
       "       [2, 5, 8],\n",
       "       [3, 6, 9]])"
      ]
     },
     "execution_count": 10,
     "metadata": {},
     "output_type": "execute_result"
    }
   ],
   "source": [
    "# Transpose of a matrix\n",
    "\n",
    "rs.T"
   ]
  },
  {
   "cell_type": "code",
   "execution_count": 15,
   "id": "84fe4c41",
   "metadata": {},
   "outputs": [
    {
     "data": {
      "text/plain": [
       "array([[1, 2, 3],\n",
       "       [4, 5, 6],\n",
       "       [2, 3, 4],\n",
       "       [5, 6, 7]])"
      ]
     },
     "execution_count": 15,
     "metadata": {},
     "output_type": "execute_result"
    }
   ],
   "source": [
    "# Vertical Stack \n",
    "\n",
    "a=([[1,2,3],[4,5,6]])\n",
    "b=([[2,3,4],[5,6,7]])\n",
    "\n",
    "np.vstack((a,b))"
   ]
  },
  {
   "cell_type": "code",
   "execution_count": 17,
   "id": "16f821cb",
   "metadata": {},
   "outputs": [
    {
     "data": {
      "text/plain": [
       "array([[1, 2, 3, 2, 3, 4],\n",
       "       [4, 5, 6, 5, 6, 7]])"
      ]
     },
     "execution_count": 17,
     "metadata": {},
     "output_type": "execute_result"
    }
   ],
   "source": [
    "# Horizontal stack\n",
    "np.hstack((a,b))"
   ]
  },
  {
   "cell_type": "code",
   "execution_count": null,
   "id": "35558934",
   "metadata": {},
   "outputs": [],
   "source": []
  }
 ],
 "metadata": {
  "kernelspec": {
   "display_name": "Python 3",
   "language": "python",
   "name": "python3"
  },
  "language_info": {
   "codemirror_mode": {
    "name": "ipython",
    "version": 3
   },
   "file_extension": ".py",
   "mimetype": "text/x-python",
   "name": "python",
   "nbconvert_exporter": "python",
   "pygments_lexer": "ipython3",
   "version": "3.8.8"
  }
 },
 "nbformat": 4,
 "nbformat_minor": 5
}
